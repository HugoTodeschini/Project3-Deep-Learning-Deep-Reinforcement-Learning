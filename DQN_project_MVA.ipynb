{
 "cells": [
  {
   "cell_type": "markdown",
   "metadata": {},
   "source": [
    "**You may need to install [OpenCV](https://pypi.python.org/pypi/opencv-python) and [scikit-video](http://www.scikit-video.org/stable/).**"
   ]
  },
  {
   "cell_type": "code",
   "execution_count": 1,
   "metadata": {},
   "outputs": [
    {
     "name": "stderr",
     "output_type": "stream",
     "text": [
      "Using TensorFlow backend.\n"
     ]
    }
   ],
   "source": [
    "import keras\n",
    "import numpy as np\n",
    "import io\n",
    "import base64\n",
    "from IPython.display import HTML\n",
    "import skvideo.io\n",
    "import cv2\n",
    "import json\n",
    "\n",
    "from keras.models import Sequential,model_from_json\n",
    "from keras.layers.core import Dense\n",
    "from keras.optimizers import sgd\n",
    "from keras.layers import Conv2D, MaxPooling2D, Activation, AveragePooling2D,Reshape,BatchNormalization, Flatten, Dropout"
   ]
  },
  {
   "cell_type": "markdown",
   "metadata": {},
   "source": [
    "# MiniProject #3: Deep Reinforcement Learning"
   ]
  },
  {
   "cell_type": "markdown",
   "metadata": {},
   "source": [
    "__Notations__: $E_p$ is the expectation under probability $p$. Please justify each of your answer and widely comment your code."
   ]
  },
  {
   "cell_type": "markdown",
   "metadata": {},
   "source": [
    "# Context"
   ]
  },
  {
   "cell_type": "markdown",
   "metadata": {},
   "source": [
    "In a reinforcement learning algorithm, we modelize each step $t$ as an action $a_t$ obtained from a state $s_t$, i.e. $\\{(a_{t},s_{t})_{t\\leq T}\\}$ having the Markov property. We consider a discount factor $\\gamma \\in [0,1]$ that ensures convergence. The goal is to find among all the policies $\\pi$, one that maximizes the expected reward:\n",
    "\n",
    "\\begin{equation*}\n",
    "R(\\pi)=\\sum_{t\\leq T}E_{p^{\\pi}}[\\gamma^t r(s_{t},a_{t})] \\> ,\n",
    "\\end{equation*}\n",
    "\n",
    "where: \n",
    "\\begin{equation*}p^{\\pi}(a_{0},a_{1},s_{1},...,a_{T},s_{T})=p(a_{0})\\prod_{t=1}^{T}\\pi(a_{t}|s_{t})p(s_{t+1}|s_{t},a_{t}) \\> .\n",
    "\\end{equation*}\n",
    "\n",
    "We note the $Q$-function:\n",
    "\n",
    "\\begin{equation*}Q^\\pi(s,a)=E_{p^{\\pi}}[\\sum_{t\\leq T}\\gamma^{t}r(s_{t},a_{t})|s_{0}=s,a_{0}=a] \\> .\n",
    "\\end{equation*}\n",
    "\n",
    "Thus, the optimal Q function is:\n",
    "\\begin{equation*}\n",
    "Q^*(s,a)=\\max_{\\pi}Q^\\pi(s,a) \\> .\n",
    "\\end{equation*}\n",
    "\n",
    "In this project, we will apply the deep reinforcement learning techniques to a simple game: an agent will have to learn from scratch a policy that will permit it maximizing a reward."
   ]
  },
  {
   "cell_type": "markdown",
   "metadata": {},
   "source": [
    "## The environment, the agent and the game"
   ]
  },
  {
   "cell_type": "markdown",
   "metadata": {},
   "source": [
    "### The environment"
   ]
  },
  {
   "cell_type": "markdown",
   "metadata": {},
   "source": [
    "```Environment``` is an abstract class that represents the states, rewards, and actions to obtain the new state."
   ]
  },
  {
   "cell_type": "code",
   "execution_count": 2,
   "metadata": {},
   "outputs": [],
   "source": [
    "class Environment(object):\n",
    "    def __init__(self):\n",
    "        pass\n",
    "\n",
    "    def act(self, act):\n",
    "        \"\"\"\n",
    "        One can act on the environment and obtain its reaction:\n",
    "        - the new state\n",
    "        - the reward of the new state\n",
    "        - should we continue the game?\n",
    "\n",
    "        :return: state, reward, game_over\n",
    "        \"\"\"\n",
    "        pass\n",
    "\n",
    "\n",
    "    def reset(self):\n",
    "        \"\"\"\n",
    "        Reinitialize the environment to a random state and returns\n",
    "        the original state\n",
    "\n",
    "        :return: state\n",
    "        \"\"\"\n",
    "        pass\n",
    "    \n",
    "    def draw(self):\n",
    "        \"\"\"\n",
    "        Visualize in the console or graphically the current state\n",
    "        \"\"\"\n",
    "        pass"
   ]
  },
  {
   "cell_type": "markdown",
   "metadata": {},
   "source": [
    "The method ```act``` allows to act on the environment at a given state $s_t$ (stored internally), via action $a_t$. The method will return the new state $s_{t+1}$, the reward $r(s_{t},a_{t})$ and determines if $t\\leq T$ (*game_over*).\n",
    "\n",
    "The method ```reset``` simply reinitializes the environment to a random state $s_0$.\n",
    "\n",
    "The method ```draw``` displays the current state $s_t$ (this is useful to check the behavior of the Agent).\n",
    "\n",
    "We modelize $s_t$ as a tensor, while $a_t$ is an integer."
   ]
  },
  {
   "cell_type": "markdown",
   "metadata": {},
   "source": [
    "### The Agent"
   ]
  },
  {
   "cell_type": "markdown",
   "metadata": {},
   "source": [
    "The goal of the ```Agent``` is to interact with the ```Environment``` by proposing actions $a_t$ obtained from a given state $s_t$ to attempt to maximize its __reward__ $r(s_t,a_t)$. We propose the following abstract class:"
   ]
  },
  {
   "cell_type": "code",
   "execution_count": 3,
   "metadata": {},
   "outputs": [],
   "source": [
    "class Agent(object):\n",
    "    def __init__(self, epsilon=0.1, n_action=4):\n",
    "        self.epsilon = epsilon\n",
    "        self.n_action = n_action\n",
    "    \n",
    "    def set_epsilon(self,e):\n",
    "        self.epsilon = e\n",
    "\n",
    "    def act(self,s,train=True):\n",
    "        \"\"\" This function should return the next action to do:\n",
    "        an integer between 0 and 4 (not included) with a random exploration of epsilon\"\"\"\n",
    "        if train:\n",
    "            if np.random.rand() <= self.epsilon:\n",
    "                a = np.random.randint(0, self.n_action, size=1)[0]\n",
    "            else:\n",
    "                a = self.learned_act(s)\n",
    "        else: # in some cases, this can improve the performance.. remove it if poor performances\n",
    "            a = self.learned_act(s)\n",
    "\n",
    "        return a\n",
    "\n",
    "    def learned_act(self,s):\n",
    "        \"\"\" Act via the policy of the agent, from a given state s\n",
    "        it proposes an action a\"\"\"\n",
    "        pass\n",
    "\n",
    "    def reinforce(self, s, n_s, a, r, game_over_):\n",
    "        \"\"\" This function is the core of the learning algorithm. \n",
    "        It takes as an input the current state s_, the next state n_s_\n",
    "        the action a_ used to move from s_ to n_s_ and the reward r_.\n",
    "        \n",
    "        Its goal is to learn a policy.\n",
    "        \"\"\"\n",
    "        pass\n",
    "\n",
    "    def save(self):\n",
    "        \"\"\" This function returns basic stats if applicable: the\n",
    "        loss and/or the model\"\"\"\n",
    "        pass\n",
    "\n",
    "    def load(self):\n",
    "        \"\"\" This function allows to restore a model\"\"\"\n",
    "        pass"
   ]
  },
  {
   "cell_type": "markdown",
   "metadata": {},
   "source": [
    "***\n",
    "__Question 1__:\n",
    "Explain the function act. Why is ```epsilon``` essential?"
   ]
  },
  {
   "cell_type": "markdown",
   "metadata": {},
   "source": [
    "The function act takes the state of the agent as input and determine the next action of the agent. Here the action has the form to a number between 0 to 3. The input \"train\" allow the act to explore new policies with a probability epsilon. When train is equal to \"False\" the agent won't explore new policies, it is necessary when we want to use the code and don't train it.\n",
    "\n",
    "This epsilon is useful to create a small probability at each step that the agent do a random action which allow it to try new policies. It is the exploration part of the algorithm's training."
   ]
  },
  {
   "cell_type": "markdown",
   "metadata": {},
   "source": [
    "***\n",
    "### The Game"
   ]
  },
  {
   "cell_type": "markdown",
   "metadata": {},
   "source": [
    "The ```Agent``` and the ```Environment``` work in an interlaced way as in the following (take some time to understand this code as it is the core of the project)\n",
    "\n",
    "```python\n",
    "\n",
    "epoch = 300\n",
    "env = Environment()\n",
    "agent = Agent()\n",
    "\n",
    "\n",
    "# Number of won games\n",
    "score = 0\n",
    "loss = 0\n",
    "\n",
    "\n",
    "for e in range(epoch):\n",
    "    # At each epoch, we restart to a fresh game and get the initial state\n",
    "    state = env.reset()\n",
    "    # This assumes that the games will end\n",
    "    game_over = False\n",
    "\n",
    "    win = 0\n",
    "    lose = 0\n",
    "    \n",
    "    while not game_over:\n",
    "        # The agent performs an action\n",
    "        action = agent.act(state)\n",
    "\n",
    "        # Apply an action to the environment, get the next state, the reward\n",
    "        # and if the games end\n",
    "        prev_state = state\n",
    "        state, reward, game_over = env.act(action)\n",
    "\n",
    "        # Update the counters\n",
    "        if reward > 0:\n",
    "            win = win + reward\n",
    "        if reward < 0:\n",
    "            lose = lose -reward\n",
    "\n",
    "        # Apply the reinforcement strategy\n",
    "        loss = agent.reinforce(prev_state, state,  action, reward, game_over)\n",
    "\n",
    "    # Save as a mp4\n",
    "    if e % 10 == 0:\n",
    "        env.draw(e)\n",
    "\n",
    "    # Update stats\n",
    "    score += win-lose\n",
    "\n",
    "    print(\"Epoch {:03d}/{:03d} | Loss {:.4f} | Win/lose count {}/{} ({})\"\n",
    "          .format(e, epoch, loss, win, lose, win-lose))\n",
    "    agent.save()\n",
    "```"
   ]
  },
  {
   "cell_type": "markdown",
   "metadata": {},
   "source": [
    "# The game, *eat cheese*"
   ]
  },
  {
   "cell_type": "markdown",
   "metadata": {},
   "source": [
    "A rat runs on an island and tries to eat as much as possible. The island is subdivided into $N\\times N$ cells, in which there are cheese (+0.5) and poisonous cells (-1). The rat has a visibility of 2 cells (thus it can see $5^2$ cells). The rat is given a time $T$ to accumulate as much food as possible. It can perform 4 actions: going up, down, left, right. \n",
    "\n",
    "The goal is to code an agent to solve this task that will learn by trial and error. We propose the following environment:"
   ]
  },
  {
   "cell_type": "code",
   "execution_count": 4,
   "metadata": {},
   "outputs": [],
   "source": [
    "class Environment(object):\n",
    "    def __init__(self, grid_size=10, max_time=500, temperature=0.1):\n",
    "        grid_size = grid_size+4\n",
    "        self.grid_size = grid_size\n",
    "        self.max_time = max_time\n",
    "        self.temperature = temperature\n",
    "\n",
    "        #board on which one plays\n",
    "        self.board = np.zeros((grid_size,grid_size))\n",
    "        self.position = np.zeros((grid_size,grid_size))\n",
    "\n",
    "        # coordinate of the cat\n",
    "        self.x = 0\n",
    "        self.y = 1\n",
    "\n",
    "        # self time\n",
    "        self.t = 0\n",
    "\n",
    "        self.scale=16\n",
    "\n",
    "        self.to_draw = np.zeros((max_time+2, grid_size*self.scale, grid_size*self.scale, 3))\n",
    "\n",
    "\n",
    "    def draw(self,e):\n",
    "        skvideo.io.vwrite(str(e) + '.mp4', self.to_draw)\n",
    "\n",
    "    def get_frame(self,t):\n",
    "        b = np.zeros((self.grid_size,self.grid_size,3))+128\n",
    "        b[self.board>0,0] = 256\n",
    "        b[self.board < 0, 2] = 256\n",
    "        b[self.x,self.y,:]=256\n",
    "        b[-2:,:,:]=0\n",
    "        b[:,-2:,:]=0\n",
    "        b[:2,:,:]=0\n",
    "        b[:,:2,:]=0\n",
    "        \n",
    "        b =  cv2.resize(b, None, fx=self.scale, fy=self.scale, interpolation=cv2.INTER_NEAREST)\n",
    "\n",
    "        self.to_draw[t,:,:,:]=b\n",
    "\n",
    "\n",
    "    def act(self, action):\n",
    "        \"\"\"This function returns the new state, reward and decides if the\n",
    "        game ends.\"\"\"\n",
    "\n",
    "        self.get_frame(int(self.t))\n",
    "\n",
    "        self.position = np.zeros((self.grid_size, self.grid_size))\n",
    "\n",
    "        self.position[0:2,:]= -1\n",
    "        self.position[:,0:2] = -1\n",
    "        self.position[-2:, :] = -1\n",
    "        self.position[-2:, :] = -1\n",
    "\n",
    "        self.position[self.x, self.y] = 1\n",
    "        if action == 0:\n",
    "            if self.x == self.grid_size-3:\n",
    "                self.x = self.x-1\n",
    "            else:\n",
    "                self.x = self.x + 1\n",
    "        elif action == 1:\n",
    "            if self.x == 2:\n",
    "                self.x = self.x+1\n",
    "            else:\n",
    "                self.x = self.x-1\n",
    "        elif action == 2:\n",
    "            if self.y == self.grid_size - 3:\n",
    "                self.y = self.y - 1\n",
    "            else:\n",
    "                self.y = self.y + 1\n",
    "        elif action == 3:\n",
    "            if self.y == 2:\n",
    "                self.y = self.y + 1\n",
    "            else:\n",
    "                self.y = self.y - 1\n",
    "        else:\n",
    "            RuntimeError('Error: action not recognized')\n",
    "\n",
    "        self.t = self.t + 1\n",
    "        reward = self.board[self.x, self.y]\n",
    "        self.board[self.x, self.y] = 0\n",
    "        game_over = self.t > self.max_time\n",
    "        state = np.concatenate((self.board.reshape(self.grid_size, self.grid_size,1),\n",
    "                        self.position.reshape(self.grid_size, self.grid_size,1)),axis=2)\n",
    "        state = state[self.x-2:self.x+3,self.y-2:self.y+3,:]\n",
    "\n",
    "        return state, reward, game_over\n",
    "\n",
    "    def reset(self):\n",
    "        \"\"\"This function resets the game and returns the initial state\"\"\"\n",
    "\n",
    "        self.x = np.random.randint(3, self.grid_size-3, size=1)[0]\n",
    "        self.y = np.random.randint(3, self.grid_size-3, size=1)[0]\n",
    "\n",
    "\n",
    "        bonus = 0.5*np.random.binomial(1,self.temperature,size=self.grid_size**2)\n",
    "        bonus = bonus.reshape(self.grid_size,self.grid_size)\n",
    "\n",
    "        malus = -1.0*np.random.binomial(1,self.temperature,size=self.grid_size**2)\n",
    "        malus = malus.reshape(self.grid_size, self.grid_size)\n",
    "\n",
    "        self.to_draw = np.zeros((self.max_time+2, self.grid_size*self.scale, self.grid_size*self.scale, 3))\n",
    "\n",
    "\n",
    "        malus[bonus>0]=0\n",
    "\n",
    "        self.board = bonus + malus\n",
    "\n",
    "        self.position = np.zeros((self.grid_size, self.grid_size))\n",
    "        self.position[0:2,:]= -1\n",
    "        self.position[:,0:2] = -1\n",
    "        self.position[-2:, :] = -1\n",
    "        self.position[-2:, :] = -1\n",
    "        self.board[self.x,self.y] = 0\n",
    "        self.t = 0\n",
    "\n",
    "        state = np.concatenate((\n",
    "                               self.board.reshape(self.grid_size, self.grid_size,1),\n",
    "                        self.position.reshape(self.grid_size, self.grid_size,1)),axis=2)\n",
    "\n",
    "        state = state[self.x - 2:self.x + 3, self.y - 2:self.y + 3, :]\n",
    "        return state"
   ]
  },
  {
   "cell_type": "markdown",
   "metadata": {},
   "source": [
    "The following elements are important because they correspond to the hyper parameters for this project:"
   ]
  },
  {
   "cell_type": "code",
   "execution_count": 5,
   "metadata": {},
   "outputs": [],
   "source": [
    "# parameters\n",
    "size = 13\n",
    "T=200\n",
    "temperature=0.3\n",
    "epochs_train=100 # set small when debugging\n",
    "epochs_test=20 # set small when debugging\n",
    "\n",
    "# display videos\n",
    "def display_videos(name):\n",
    "    video = io.open(name, 'r+b').read()\n",
    "    encoded = base64.b64encode(video)\n",
    "    return '''<video alt=\"test\" controls>\n",
    "                <source src=\"data:video/mp4;base64,{0}\" type=\"video/mp4\" />\n",
    "             </video>'''.format(encoded.decode('ascii'))"
   ]
  },
  {
   "cell_type": "markdown",
   "metadata": {},
   "source": [
    "__Question 2__ Explain the use of the arrays ```position``` and ```board```."
   ]
  },
  {
   "cell_type": "markdown",
   "metadata": {},
   "source": [
    "The array position is an attribute of the environment which represents the game board. Each value in the array is link to a box of the board. The box take the value 1 in the array when the rat is on this box and all boxes at the extremities have the value -1 because they are outside the grid. It is used to know where the rat is and where he can go.\n",
    "The array \"board\" is an attribute of the environment too. Like the attribute \"position\" it is an array where each value is link to a box of the board. But this array is used to define where are the rewards. The box where there is cheese have the value +0.5 and poisonous cells have the value -1. We change the value of cell to 0 when the rat walk on it and it's reward is added to the total reward of the rat thanks to variables \"win\" and \"lose\".\n",
    "These two variables are used to give view of it's near environment to the rat."
   ]
  },
  {
   "cell_type": "markdown",
   "metadata": {},
   "source": [
    "## Random Agent"
   ]
  },
  {
   "cell_type": "markdown",
   "metadata": {},
   "source": [
    "***\n",
    "__Question 3__ Implement a random Agent (only ```learned_act``` needs to be implemented):"
   ]
  },
  {
   "cell_type": "code",
   "execution_count": 6,
   "metadata": {},
   "outputs": [],
   "source": [
    "class RandomAgent(Agent):\n",
    "    def __init__(self):\n",
    "        super(RandomAgent, self).__init__()\n",
    "        pass\n",
    "\n",
    "    def learned_act(self, s):\n",
    "        return(np.random.randint(0,4))"
   ]
  },
  {
   "cell_type": "markdown",
   "metadata": {},
   "source": [
    "***\n",
    "***\n",
    "__Question 4__ Visualize the game moves. You need to fill in the following function for the evaluation:"
   ]
  },
  {
   "cell_type": "code",
   "execution_count": 7,
   "metadata": {},
   "outputs": [],
   "source": [
    "def test(agent,env,epochs,prefix=''):\n",
    "    # Number of won games\n",
    "    score = 0\n",
    "        \n",
    "    for e in range(epochs):\n",
    "        # At each epoch, we restart to a fresh game and get the initial state\n",
    "        state = env.reset()\n",
    "        # This assumes that the games will end\n",
    "        game_over = False\n",
    "\n",
    "        win = 0\n",
    "        lose = 0\n",
    "\n",
    "        while not game_over:\n",
    "            # The agent performs an action\n",
    "            action = agent.learned_act(state)\n",
    "            \n",
    "            # Apply an action to the environment, get the next state, the reward\n",
    "            # and if the games end\n",
    "            prev_state = state\n",
    "            state, reward, game_over = env.act(action)\n",
    "\n",
    "            # Update the counters\n",
    "            if reward > 0:\n",
    "                win = win + reward\n",
    "            if reward < 0:\n",
    "                lose = lose -reward\n",
    "        \n",
    "        # Save as a mp4\n",
    "        env.draw(prefix+str(e))\n",
    "\n",
    "        # Update stats\n",
    "        score = score + win-lose\n",
    "\n",
    "        print(\"Win/lose count {}/{}. Average score ({})\"\n",
    "              .format(win, lose, score/(1+e)))\n",
    "    print('Final score: '+str(score/epochs))"
   ]
  },
  {
   "cell_type": "code",
   "execution_count": 8,
   "metadata": {},
   "outputs": [
    {
     "name": "stdout",
     "output_type": "stream",
     "text": [
      "Win/lose count 6.5/16.0. Average score (-9.5)\n",
      "Win/lose count 5.5/9.0. Average score (-6.5)\n",
      "Win/lose count 11.0/11.0. Average score (-4.333333333333333)\n",
      "Win/lose count 12.0/15.0. Average score (-4.0)\n",
      "Win/lose count 9.5/9.0. Average score (-3.1)\n",
      "Win/lose count 15.5/17.0. Average score (-2.8333333333333335)\n",
      "Win/lose count 13.0/14.0. Average score (-2.5714285714285716)\n",
      "Win/lose count 12.0/18.0. Average score (-3.0)\n",
      "Win/lose count 5.0/19.0. Average score (-4.222222222222222)\n",
      "Win/lose count 8.5/11.0. Average score (-4.05)\n",
      "Win/lose count 5.5/12.0. Average score (-4.2727272727272725)\n",
      "Win/lose count 10.0/17.0. Average score (-4.5)\n",
      "Win/lose count 10.0/14.0. Average score (-4.461538461538462)\n",
      "Win/lose count 7.5/14.0. Average score (-4.607142857142857)\n",
      "Win/lose count 14.0/22.0. Average score (-4.833333333333333)\n",
      "Win/lose count 10.0/11.0. Average score (-4.59375)\n",
      "Win/lose count 10.5/12.0. Average score (-4.411764705882353)\n",
      "Win/lose count 11.5/9.0. Average score (-4.027777777777778)\n",
      "Win/lose count 8.0/20.0. Average score (-4.447368421052632)\n",
      "Win/lose count 14.0/14.0. Average score (-4.225)\n",
      "Final score: -4.225\n"
     ]
    },
    {
     "data": {
      "text/html": [
       "<video alt=\"test\" controls>\n",
       "                <source src=\"data:video/mp4;base64,AAAAIGZ0eXBpc29tAAACAGlzb21pc28yYXZjMW1wNDEAAAAIZnJlZQAAGA5tZGF0AAACrQYF//+p3EXpvebZSLeWLNgg2SPu73gyNjQgLSBjb3JlIDE1NyByMjkzNSA1NDVkZTJmIC0gSC4yNjQvTVBFRy00IEFWQyBjb2RlYyAtIENvcHlsZWZ0IDIwMDMtMjAxOCAtIGh0dHA6Ly93d3cudmlkZW9sYW4ub3JnL3gyNjQuaHRtbCAtIG9wdGlvbnM6IGNhYmFjPTEgcmVmPTMgZGVibG9jaz0xOjA6MCBhbmFseXNlPTB4MToweDExMSBtZT1oZXggc3VibWU9NyBwc3k9MSBwc3lfcmQ9MS4wMDowLjAwIG1peGVkX3JlZj0xIG1lX3JhbmdlPTE2IGNocm9tYV9tZT0xIHRyZWxsaXM9MSA4eDhkY3Q9MCBjcW09MCBkZWFkem9uZT0yMSwxMSBmYXN0X3Bza2lwPTEgY2hyb21hX3FwX29mZnNldD00IHRocmVhZHM9OCBsb29rYWhlYWRfdGhyZWFkcz0xIHNsaWNlZF90aHJlYWRzPTAgbnI9MCBkZWNpbWF0ZT0xIGludGVybGFjZWQ9MCBibHVyYXlfY29tcGF0PTAgY29uc3RyYWluZWRfaW50cmE9MCBiZnJhbWVzPTMgYl9weXJhbWlkPTIgYl9hZGFwdD0xIGJfYmlhcz0wIGRpcmVjdD0xIHdlaWdodGI9MSBvcGVuX2dvcD0wIHdlaWdodHA9MiBrZXlpbnQ9MjUwIGtleWludF9taW49MjUgc2NlbmVjdXQ9NDAgaW50cmFfcmVmcmVzaD0wIHJjX2xvb2thaGVhZD00MCByYz1jcmYgbWJ0cmVlPTEgY3JmPTIzLjAgcWNvbXA9MC42MCBxcG1pbj0wIHFwbWF4PTY5IHFwc3RlcD00IGlwX3JhdGlvPTEuNDAgYXE9MToxLjAwAIAAAAKpZYiEADf//vaH+BTZWBP+Wb/9DX/cj9uPrP1xYyEE31qvIejAGS+1H+b/rFFs6Z6UB/fgCJQAc24ZwpJw4v/ApLdW+BTLYTnGrzD8eNPwpbJHJ82I7SV6WKS9MQ7Rcg1SfoNDe1bHau+EUNgNrYZCHPYPbgALLZI4MZYsk+mtIPwOYbc0OBXATl9Q4FPoJIAhdUAxhYnKKfEndvCyS7SDWo9myP0OIoc7SRXAhYJJ+X1EW0VWKr2Fe2VEhRPRao5JHSaNjOH7oo5EkGGHhe5yqtR6LFQW+2rHBaRLOSU08F8Q2APfcmcux8salCHE7cbOh5oez5Bf5bI91O4qjxi00hyw2z0sStTpIxd7jUWkt96VYrX2J2fnhnwpEMUe1pU6UWKtxSJw5PycrO/6yA1pGduu4mRJF9czvLYJUt8qugJOmBz00NXssjOmUDaD4ro/FH0cMi3+AfY/ewF2Fcxb8arhVaotsMeRxpw16pe6wGlcz4B/JdQoaa4AE7O8TOJiV/FRhg3/96Yvu6n2VqhBatccSlFUalBpbW3VkCS/3q00nCtJxC7GWE3qcQ8/VAUHBnmZrOWmNdDG7/3CCh+jCuoS8gnXIqeLQJrNbaOzfiANwWOXZe1y3fXnDjBZP5VCwv3h9eEqA/T5is5nrenB8PbT2zkd1XEM3HN4tllCYRAhiurJjXT0I1XzNj5w+30BRpwZePaFRXF4R8JAfEqtzk/PKnbHTMVRWVBqnRFourwKXrIgcYvm2BrNdUrdcY0lb8b+yUunhxpZXvpfIs5VguAx2mcodLgMSQj7jelgU4kdM1SoZOqiCMwuuSBYU2XeM+QED+VJVH37t3wY70u9cVzaEYKWDRZ9kN8OyHC5T9J19AfAXxgXkas2AV2e2cc20/SW/OpAAEHBAAAAF0GaJGxDf/6nhAAbH2D/LXSFBZihIoWSAAAADkGeQniF/wAP3+yqK8XhAAAADwGeYXRCvwAWJOUKTbJWLwAAABABnmNqQr8ADa6ieRHX8HtBAAAAGkGaZUmoQWiZTAhv//6nhAAQ76OfcyKEh2LBAAAAG0GaiEnhClJlMCGf/p4QACx+6b3ADq4xj6puQQAAABFBnqZFNEwr/wAJLmjeab3rhQAAAA8BnsdqQr8ACSyt0o0h5FYAAAAaQZrJSahBaJlMCG///qeEAAcb2D/CcFuhhEAAAAAYQZrqSeEKUmUwIb/+p4QABLR8x5GJ/lytAAAAGUGbC0nhDomUwId//qmWAAJj8efv2QbivtAAAAAlQZsvSeEPJlMCG//+p4QAB5/dv5lleMM/Apls7PgUKSzw6tu33AAAABNBn01FETwv/wAElz9m/FNxNsvbAAAADwGfbHRCvwAD4xh5Q0DO6QAAABABn25qQr8ABknajlfrFNtBAAAAG0GbckmoQWiZTAhv//6nhAAL7SJ/qUf64P8oKwAAABFBn5BFESwr/wAJrs7/o5Ir2wAAAA8Bn7FqQr8ACa7EeTA9fGcAAAAZQZuzSahBbJlMCG///qeEABJUAWbYxQmNwAAAABpBm9RJ4QpSZTAh3/6plgAJgUc60QIPn98lHAAAAB1Bm/hJ4Q6JlMCG//6nhAAS76XQxP55BWqZCRcLUQAAABBBnhZFETwv/wALXQIrSi8kAAAADwGeNXRCvwAPi2Brr4vggQAAABABnjdqQr8AD4q4NceKtrjhAAAAHEGaO0moQWiZTAhn//6eEABLThHP4c5vNrvGHsAAAAASQZ5ZRREsK/8AD4s76FuSK1SBAAAAEAGeempCvwAPizB5MD18BIAAAAAaQZp8SahBbJlMCG///qeEAB2jjP9VvmPxN6EAAAAYQZqdSeEKUmUwIb/+p4QAHc9g9ezPgiyfAAAAG0GaoUnhDomUwIb//qeEAB0ffZ9zIwtmKEcyvAAAABBBnt9FETwv/wARXP2bghPwAAAADwGe/nRCvwAX5JRCmCNtgQAAABABnuBqQr8AF+I7c60ML2XAAAAAGkGa4kmoQWiZTAhv//6nhAASb46fUcaEh1tBAAAAHUGbBknhClJlMCG//qeEAAv/sH+e+WzwKbIwS0OfAAAAFUGfJEU0TC//AAcT+K4aMBz6LK7cCQAAAA8Bn0N0Qr8ACauyhSbZK9sAAAAQAZ9FakK/AAZx1TyXM+VEgQAAABpBm0dJqEFomUwIb//+p4QAB+weFOs6fdeugQAAAB1Bm2lJ4QpSZTBREsN//qeEAAzbq1TH+rdvsH6+HAAAABABn4hqQr8ACoWPLcNm1aqAAAAAEUGbjUnhDomUwIb//qeEAAEnAAAAE0Gfq0UVPC//AAuibPzNuJ0x93oAAAAQAZ/KdEK/AA/lisWxsqU4kAAAABABn8xqQr8AD4hEzTfSQdOZAAAAHEGbz0moQWiZTBTw3/6nhAAM77B/nKdeFGtzJfkAAAAPAZ/uakK/AAqDbdKNIeQVAAAAGUGb8EnhClJlMCG//qeEAAf32D/CcFuheEAAAAAdQZoSSeEOiZTBTRMN//6nhAAFR91Pu8un9guAkrAAAAAPAZ4xakK/AAQ2TKZtmR1TAAAAEUGaNknhDyZTAhv//qeEAAEnAAAAE0GeVEURPC//AAL9EtmpmWXIbCIAAAAQAZ5zdEK/AAP3wwGSW/28QQAAABABnnVqQr8AA/jMHkwPX3iAAAAAGkGad0moQWiZTAhv//6nhAAE/91P1HGhIhRBAAAAEUGam0nhClJlMCG//qeEAAEnAAAAE0GeuUU0TC//AAMRCo3fnlH9HsAAAAAPAZ7YdEK/AAQX0ncGyXsXAAAAEAGe2mpCvwAEFk+c60MMRIAAAAAZQZrcSahBaJlMCG///qeEAAM77B69mfBGwwAAAB1Bmv5J4QpSZTBREsO//qmWAAJgUdQgzQKfRj9QRQAAABABnx1qQr8AA8zPmN0OSEB4AAAAEkGbAknhDomUwId//qmWAACVgAAAAAxBnyBFFTwv/wAAsoEAAAAQAZ9fdEK/AAX6yrur8d4+QAAAAA8Bn0FqQr8AA8Khuwz1aOkAAAAcQZtGSahBaJlMCG///qeEAAS746fdaWZqbdF4qAAAABBBn2RFESwv/wAC10CK0pF9AAAADwGfg3RCvwAD4tga6+NvgQAAABABn4VqQr8AA8wRM030kIDxAAAAGkGbh0moQWyZTAh3//6plgABnoLK4zS/tkLBAAAAG0Gbq0nhClJlMCHf/qmWAAKTpZi0zQHd9GPY+gAAABBBn8lFNEwv/wADECN3uGlAAAAADwGf6HRCvwAEF9J3Bsl7FwAAAA8Bn+pqQr8ABBg1gXX+XMAAAAAcQZvuSahBaJlMCHf//qmWAAKlpZXGaX9IiTMePgAAABBBngxFESwr/wAENk2/NFPRAAAADwGeLWpCvwAEODWBdf5aQQAAABJBmjJJqEFsmUwIb//+p4QAAScAAAAMQZ5QRRUsL/8AALKAAAAADwGeb3RCvwAEKVI4jsuz+wAAABABnnFqQr8ABClSO9nj7ruBAAAAHEGadkmoQWyZTAhv//6nhAAIKPmamzbjN7qfHXQAAAAQQZ6URRUsL/8ABPqBBShwGAAAAA8BnrN0Qr8ABDbRi4D8+cEAAAAQAZ61akK/AAbB1TyYHr5wgAAAAClBmrhJqEFsmUwUTDf//qeEAA0/svq+BTX1CvwKVLZ+BTOwMXbzrdF+gQAAABABntdqQr8ACs2PHK/WKXFBAAAAGUGa2UnhClJlMCHf/qmWAApPyDNAHpL7GdAAAAAYQZr9SeEOiZTAhv/+p4QAFR94YCa/y+jhAAAAFUGfG0URPC//ABNY+dM4rD5ny+luwAAAAA8Bnzp0Qr8AGmks3Bsl5HkAAAAPAZ88akK/ABpiWlSKBKvzAAAAGkGbPkmoQWiZTAh3//6plgAPmmQk3Dgo+bbQAAAAG0GbQUnhClJlMCHf/qmWABjPaX9i29waXOHtgAAAABJBn39FNEwr/wAn2DrvMYO1XyUAAAAPAZ+AakK/ACfNyGI0qPkgAAAAG0GbhUmoQWiZTAh3//6plgAQH48/lXpyLRCP7QAAABBBn6NFESwv/wATXP0HKHpkAAAADwGfwnRCvwAo/QDoTkvywQAAABABn8RqQr8AGmJbTrwBQDKBAAAAHEGbyUmoQWyZTAh3//6plgAG09pf1/VahZCl0V8AAAAQQZ/nRRUsL/8AB/E6d/nIqQAAAA8BngZ0Qr8AC12jvPOMHoAAAAAQAZ4IakK/AAsTXznWhhfpQAAAABpBmgxJqEFsmUwId//+qZYABEfjz9+yDcVh4QAAABJBnipFFSwr/wAG6I7c6yfKQ4AAAAAOAZ5LakK/AAbqxC73qtkAAAAXQZpQSahBbJlMCG///qeEAAVr3U/bgIEAAAAOQZ5uRRUsL/8AAzgjC+EAAAAPAZ6NdEK/AARpUjiOy7PpAAAAEAGej2pCvwAEaVI72ePusIAAAAAdQZqSSahBbJlMFEw3//6nhAAIKPmqazbmvHT7ZVgAAAAQAZ6xakK/AAbB24TcZ9et9QAAABlBmrNJ4QpSZTAh3/6plgAGeqQZoA9JfZYQAAAAGkGa10nhDomUwId//qmWAAaD2l/YtQn5XHBgAAAAFUGe9UURPC//AAxCSXJm3De6SkPs9QAAAA8BnxR0Qr8AEF81QOnah5cAAAAPAZ8WakK/ABBZXIq8AUCTAAAAGkGbGkmoQWiZTAh3//6plgAER+PP37INxWHhAAAAD0GfOEURLCv/AAbolrOEIAAAAA8Bn1lqQr8ABJXmiakqjoEAAAASQZteSahBbJlMCG///qeEAAEnAAAADEGffEUVLC//AACygQAAABABn5t0Qr8ABGlSO/AB91hBAAAADwGfnWpCvwAEaVI3WerRbgAAABxBm4JJqEFsmUwIb//+p4QABY/dT91pZmpt0XbIAAAAEEGfoEUVLC//AANMI4zug+EAAAAQAZ/fdEK/AAR12pPK/JTv0AAAAA8Bn8FqQr8ABJbWu77vwMEAAAAaQZvDSahBbJlMCG///qeEAAO0Dwp1nT7sVoAAAAAZQZvkSeEKUmUwIb/+p4QAA8oPCnWdPuxRgQAAABxBmghJ4Q6JlMCG//6nhAAGHdWqY/0cT/LZKXNNAAAAEEGeJkURPC//AAOf9ocXaGEAAAAQAZ5FdEK/AAT7LVA6dqKBgQAAAA8BnkdqQr8ABPuVgXX+TMAAAAAaQZpJSahBaJlMCHf//qmWAAMZ7S8LUE/sRsAAAAAfQZpsSeEKUmUwId/+qZYABOZIMC0UIkrQY/3dW27EUQAAABFBnopFNEwr/wAHxZ4WoKzkPAAAABABnqtqQr8AB8WeEPGhrP2AAAAAGEGarkmoQWiZTBTw7/6plgAE4VOH9dEgFQAAABABns1qQr8AB8QgPgPr+B+xAAAAGEGa0knhClJlMCHf/qmWAAThU4f77S+7hwAAABBBnvBFNEwv/wAF0oEFKG4YAAAADwGfD3RCvwAE+jCAyS7jgAAAABABnxFqQr8AB8WeBdfrFMjBAAAAE0GbFkmoQWiZTAh3//6plgAAlYAAAAAMQZ80RREsL/8AALKAAAAAEAGfU3RCvwAHxsViqmI6ZfEAAAAQAZ9VakK/AAfE1DnFqjpl8AAAABJBm1pJqEFsmUwIb//+p4QAAScAAAAMQZ94RRUsL/8AALKBAAAAEAGfl3RCvwAHxsViqmI6ZfAAAAARAZ+ZakK/AAfCdZr4RSWHGy0AAAAaQZubSahBbJlMCHf//qmWAAThFhuDjRyNp9IAAAASQZu/SeEKUmUwId/+qZYAAJWBAAAAE0Gf3UU0TC//AAhsfPosV3Fo/HMAAAAQAZ/8dEK/AAumaJE+LMUrcAAAABABn/5qQr8AC6NyGH0BIOzYAAAAHEGb40moQWiZTAhv//6nhAAO0Dw4saof76OeiyUAAAAQQZ4BRREsL/8ACO0BmutJwAAAAA8BniB0Qr8ADESWbg2S8xcAAAARAZ4iakK/AAxALIOn2Xv1llcAAAAXQZonSahBbJlMCG///qeEAA6PsH+YBIEAAAAOQZ5FRRUsL/8ACK0AQuEAAAAQAZ5kdEK/AAxFlXbExHTBMQAAABABnmZqQr8ADEAsbPXQfmXpAAAAGkGaaEmoQWyZTAhv//6nhAAXP0T/VcBj8UfAAAAAIUGaiknhClJlMFFSw3/+p4QAI98jgE169mqazbeOt5aygAAAABABnqlqQr8AHP5w17zSs6XBAAAAHUGarknhDomUwIZ//p4QANevua45fbAZ3GX36LHAAAAAEEGezEUVPC//ACC552Y24Y4AAAAPAZ7rdEK/ABxS9AZJc0+BAAAAEAGe7WpCvwAtdhHkwPXuY4EAAAAZQZrvSahBaJlMCG///qeEADd+wevZnwRYNwAAABlBmxBJ4QpSZTAhv/6nhAA2Pvsx/h9W2+WAAAAAHUGbMknhDomUwU0TDf/+p4QANP7B/PgpW6LBP9YIAAAADwGfUWpCvwArLWUzbMjX/wAAABhBm1VJ4Q8mUwIb//6nhAAyfsHr2Z8EWFsAAAAPQZ9zRRE8K/8AKO1uGyVAAAAADQGflGpCvwAo/KRb2SsAAAAZQZuWSahBaJlMCG///qeEADE+wevZnwRYZQAAABxBm7pJ4QpSZTAhn/6eEAC6/E78FdYD3XEfWbjvAAAAE0Gf2EU0TC//ABxP2VZifZ0zxr0AAAAQAZ/3dEK/ACauzHAfk//6oAAAABABn/lqQr8AGIduE3GfXqI5AAAAHEGb+0moQWiZTAhv//6nhAAufon+q31UCE/uu2AAAAAXQZocSeEKUmUwIb/+p4QAL66tHVQ23AMAAAAdQZo+SeEOiZTBTRMN//6nhAAv/vs+60szU26LYvkAAAAQAZ5dakK/ACfUo3mmKtp2wAAAABlBmkFJ4Q8mUwIb//6nhAAfsHhTrOn3XB6AAAAAD0Gef0URPCv/ABpiNA2twQAAAA8BnoBqQr8AKPG13fd78sAAAAAbQZqDSahBaJlMFPDP/p4QAHy9ff02XUUfTdHhAAAADwGeompCvwAaYlpUigSr8wAAABhBmqRJ4QpSZTAhv/6nhAAUj3U4/w+rbrMAAAAZQZrISeEOiZTAhf/+jLAATn4a/PKLDjNYrwAAABBBnuZFETwv/wAL8q8b2CwJAAAADwGfBXRCvwAP4XoDJLn2gQAAABABnwdqQr8AEFzRvNMVbW1AAAAAGkGbCUuoQhBaJEYIKAfyAf2HgCFf/jhAABFwAAAMAG1vb3YAAABsbXZoZAAAAAAAAAAAAAAAAAAAA+gAAB+QAAEAAAEAAAAAAAAAAAAAAAABAAAAAAAAAAAAAAAAAAAAAQAAAAAAAAAAAAAAAAAAQAAAAAAAAAAAAAAAAAAAAAAAAAAAAAAAAAAAAAAAAAIAAAsqdHJhawAAAFx0a2hkAAAAAwAAAAAAAAAAAAAAAQAAAAAAAB+QAAAAAAAAAAAAAAAAAAAAAAABAAAAAAAAAAAAAAAAAAAAAQAAAAAAAAAAAAAAAAAAQAAAAAEQAAABEAAAAAAAJGVkdHMAAAAcZWxzdAAAAAAAAAABAAAfkAAABAAAAQAAAAAKom1kaWEAAAAgbWRoZAAAAAAAAAAAAAAAAAAAMgAAAZQAVcQAAAAAAC1oZGxyAAAAAAAAAAB2aWRlAAAAAAAAAAAAAAAAVmlkZW9IYW5kbGVyAAAACk1taW5mAAAAFHZtaGQAAAABAAAAAAAAAAAAAAAkZGluZgAAABxkcmVmAAAAAAAAAAEAAAAMdXJsIAAAAAEAAAoNc3RibAAAAJVzdHNkAAAAAAAAAAEAAACFYXZjMQAAAAAAAAABAAAAAAAAAAAAAAAAAAAAAAEQARAASAAAAEgAAAAAAAAAAQAAAAAAAAAAAAAAAAAAAAAAAAAAAAAAAAAAAAAAAAAAABj//wAAAC9hdmNDAfQADf/hABdn9AANkZsoIhHQgAAAAwCAAAAZB4oUywEABWjr48RIAAAAGHN0dHMAAAAAAAAAAQAAAMoAAAIAAAAAFHN0c3MAAAAAAAAAAQAAAAEAAAXYY3R0cwAAAAAAAAC5AAAAAQAABAAAAAABAAAKAAAAAAEAAAQAAAAAAQAAAAAAAAABAAACAAAAAAEAAAQAAAAAAQAACAAAAAACAAACAAAAAAMAAAQAAAAAAQAACgAAAAABAAAEAAAAAAEAAAAAAAAAAQAAAgAAAAABAAAIAAAAAAIAAAIAAAAAAgAABAAAAAABAAAKAAAAAAEAAAQAAAAAAQAAAAAAAAABAAACAAAAAAEAAAgAAAAAAgAAAgAAAAACAAAEAAAAAAEAAAoAAAAAAQAABAAAAAABAAAAAAAAAAEAAAIAAAAAAQAABAAAAAABAAAKAAAAAAEAAAQAAAAAAQAAAAAAAAABAAACAAAAAAEAAAQAAAAAAQAABgAAAAABAAACAAAAAAEAAAoAAAAAAQAABAAAAAABAAAAAAAAAAEAAAIAAAAAAQAABgAAAAABAAACAAAAAAEAAAQAAAAAAQAABgAAAAABAAACAAAAAAEAAAoAAAAAAQAABAAAAAABAAAAAAAAAAEAAAIAAAAAAQAABAAAAAABAAAKAAAAAAEAAAQAAAAAAQAAAAAAAAABAAACAAAAAAEAAAQAAAAAAQAABgAAAAABAAACAAAAAAEAAAoAAAAAAQAABAAAAAABAAAAAAAAAAEAAAIAAAAAAQAACgAAAAABAAAEAAAAAAEAAAAAAAAAAQAAAgAAAAABAAAEAAAAAAEAAAoAAAAAAQAABAAAAAABAAAAAAAAAAEAAAIAAAAAAQAACAAAAAACAAACAAAAAAEAAAoAAAAAAQAABAAAAAABAAAAAAAAAAEAAAIAAAAAAQAACgAAAAABAAAEAAAAAAEAAAAAAAAAAQAAAgAAAAABAAAGAAAAAAEAAAIAAAAAAQAABAAAAAABAAAKAAAAAAEAAAQAAAAAAQAAAAAAAAABAAACAAAAAAEAAAQAAAAAAQAACAAAAAACAAACAAAAAAEAAAoAAAAAAQAABAAAAAABAAAAAAAAAAEAAAIAAAAAAQAACgAAAAABAAAEAAAAAAEAAAAAAAAAAQAAAgAAAAABAAAIAAAAAAIAAAIAAAAAAQAACgAAAAABAAAEAAAAAAEAAAAAAAAAAQAAAgAAAAABAAAGAAAAAAEAAAIAAAAAAQAABAAAAAABAAAKAAAAAAEAAAQAAAAAAQAAAAAAAAABAAACAAAAAAEAAAgAAAAAAgAAAgAAAAABAAAKAAAAAAEAAAQAAAAAAQAAAAAAAAABAAACAAAAAAEAAAoAAAAAAQAABAAAAAABAAAAAAAAAAEAAAIAAAAAAgAABAAAAAABAAAKAAAAAAEAAAQAAAAAAQAAAAAAAAABAAACAAAAAAEAAAQAAAAAAQAACAAAAAACAAACAAAAAAEAAAYAAAAAAQAAAgAAAAABAAAKAAAAAAEAAAQAAAAAAQAAAAAAAAABAAACAAAAAAEAAAoAAAAAAQAABAAAAAABAAAAAAAAAAEAAAIAAAAAAQAACgAAAAABAAAEAAAAAAEAAAAAAAAAAQAAAgAAAAABAAAEAAAAAAEAAAoAAAAAAQAABAAAAAABAAAAAAAAAAEAAAIAAAAAAQAACgAAAAABAAAEAAAAAAEAAAAAAAAAAQAAAgAAAAABAAAKAAAAAAEAAAQAAAAAAQAAAAAAAAABAAACAAAAAAEAAAQAAAAAAQAABgAAAAABAAACAAAAAAEAAAoAAAAAAQAABAAAAAABAAAAAAAAAAEAAAIAAAAAAgAABAAAAAABAAAGAAAAAAEAAAIAAAAAAQAACAAAAAACAAACAAAAAAEAAAQAAAAAAQAACgAAAAABAAAEAAAAAAEAAAAAAAAAAQAAAgAAAAACAAAEAAAAAAEAAAYAAAAAAQAAAgAAAAABAAAIAAAAAAIAAAIAAAAAAQAABgAAAAABAAACAAAAAAEAAAQAAAAAAQAACgAAAAABAAAEAAAAAAEAAAAAAAAAAQAAAgAAAAABAAAEAAAAABxzdHNjAAAAAAAAAAEAAAABAAAAygAAAAEAAAM8c3RzegAAAAAAAAAAAAAAygAABV4AAAAbAAAAEgAAABMAAAAUAAAAHgAAAB8AAAAVAAAAEwAAAB4AAAAcAAAAHQAAACkAAAAXAAAAEwAAABQAAAAfAAAAFQAAABMAAAAdAAAAHgAAACEAAAAUAAAAEwAAABQAAAAgAAAAFgAAABQAAAAeAAAAHAAAAB8AAAAUAAAAEwAAABQAAAAeAAAAIQAAABkAAAATAAAAFAAAAB4AAAAhAAAAFAAAABUAAAAXAAAAFAAAABQAAAAgAAAAEwAAAB0AAAAhAAAAEwAAABUAAAAXAAAAFAAAABQAAAAeAAAAFQAAABcAAAATAAAAFAAAAB0AAAAhAAAAFAAAABYAAAAQAAAAFAAAABMAAAAgAAAAFAAAABMAAAAUAAAAHgAAAB8AAAAUAAAAEwAAABMAAAAgAAAAFAAAABMAAAAWAAAAEAAAABMAAAAUAAAAIAAAABQAAAATAAAAFAAAAC0AAAAUAAAAHQAAABwAAAAZAAAAEwAAABMAAAAeAAAAHwAAABYAAAATAAAAHwAAABQAAAATAAAAFAAAACAAAAAUAAAAEwAAABQAAAAeAAAAFgAAABIAAAAbAAAAEgAAABMAAAAUAAAAIQAAABQAAAAdAAAAHgAAABkAAAATAAAAEwAAAB4AAAATAAAAEwAAABYAAAAQAAAAFAAAABMAAAAgAAAAFAAAABQAAAATAAAAHgAAAB0AAAAgAAAAFAAAABQAAAATAAAAHgAAACMAAAAVAAAAFAAAABwAAAAUAAAAHAAAABQAAAATAAAAFAAAABcAAAAQAAAAFAAAABQAAAAWAAAAEAAAABQAAAAVAAAAHgAAABYAAAAXAAAAFAAAABQAAAAgAAAAFAAAABMAAAAVAAAAGwAAABIAAAAUAAAAFAAAAB4AAAAlAAAAFAAAACEAAAAUAAAAEwAAABQAAAAdAAAAHQAAACEAAAATAAAAHAAAABMAAAARAAAAHQAAACAAAAAXAAAAFAAAABQAAAAgAAAAGwAAACEAAAAUAAAAHQAAABMAAAATAAAAHwAAABMAAAAcAAAAHQAAABQAAAATAAAAFAAAAB4AAAAUc3RjbwAAAAAAAAABAAAAMAAAAGJ1ZHRhAAAAWm1ldGEAAAAAAAAAIWhkbHIAAAAAAAAAAG1kaXJhcHBsAAAAAAAAAAAAAAAALWlsc3QAAAAlqXRvbwAAAB1kYXRhAAAAAQAAAABMYXZmNTguMjAuMTAw\" type=\"video/mp4\" />\n",
       "             </video>"
      ],
      "text/plain": [
       "<IPython.core.display.HTML object>"
      ]
     },
     "execution_count": 8,
     "metadata": {},
     "output_type": "execute_result"
    }
   ],
   "source": [
    "# Initialize the game\n",
    "env = Environment(grid_size=size, max_time=T,temperature=temperature)\n",
    "\n",
    "# Initialize the agent!\n",
    "agent = RandomAgent()\n",
    "\n",
    "test(agent,env,epochs_test,prefix='random')\n",
    "HTML(display_videos('random0.mp4'))"
   ]
  },
  {
   "cell_type": "markdown",
   "metadata": {},
   "source": [
    "***\n",
    "## DQN"
   ]
  },
  {
   "cell_type": "markdown",
   "metadata": {},
   "source": [
    "Let us assume here that $T=\\infty$.\n",
    "\n",
    "***\n",
    "__Question 5__ Let $\\pi$ be a policy, show that:\n",
    "\n",
    "\\begin{equation*}\n",
    "Q^{\\pi}(s,a)=E_{(s',a')\\sim p(.|s,a)}[r(s,a)+\\gamma Q^{\\pi}(s',a')]\n",
    "\\end{equation*}\n",
    "\n",
    "Then, show that for the optimal policy $\\pi^*$ (we assume its existence), the following holds: \n",
    "\n",
    "\\begin{equation*}\n",
    "Q^{*}(s,a)=E_{s'\\sim \\pi^*(.|s,a)}[r(s,a)+\\gamma\\max_{a'}Q^{*}(s',a')].\n",
    "\\end{equation*}\n",
    "Finally, deduce that a plausible objective is:\n",
    "\n",
    "\\begin{equation*}\n",
    "\\mathcal{L}(\\theta)=E_{s' \\sim \\pi^*(.|s,a)}\\Vert r+\\gamma\\max\\max_{a'}Q(s',a',\\theta)-Q(s,a,\\theta)\\Vert^{2}.\n",
    "\\end{equation*}\n",
    "\n",
    "\n"
   ]
  },
  {
   "cell_type": "markdown",
   "metadata": {},
   "source": [
    "Let $\\pi$ a policy\n",
    "\\begin{equation*}Q^\\pi(s,a)=E_{p^{\\pi}}[\\sum_{t\\leq T}\\gamma^{t}r(s_{t},a_{t})|s_{0}=s,a_{0}=a] \\> .\n",
    "\\end{equation*}\n",
    "With the equation of Bellman we determine that:\n",
    "\\begin{equation*}\n",
    "Q^{\\pi}(s,a)=E_{(s',a')\\sim p(.|s,a)}[r(s,a)+\\gamma Q^{\\pi}(s',a')]\n",
    "\\end{equation*}\n",
    "\n",
    "Let $\\pi^*$ the optimal policy\n",
    "\\begin{equation*}\n",
    "Q^*(s,a)=\\max_{\\pi}Q^\\pi(s,a)=\\max_{\\pi}E_{(s',a')\\sim p(.|s,a)}[r(s,a)+\\gamma Q^{\\pi}(s',a')] \\> .\n",
    "\\end{equation*}\n",
    "\\begin{equation*}\n",
    "Q^*(s,a)=E_{s'\\sim \\pi^*(.|s,a)}[r(s,a)+\\gamma Q^{\\pi}(s',a')]. \\> .\n",
    "\\end{equation*}\n",
    "\\begin{equation*}\n",
    "Q^*(s,a)=E_{s'\\sim \\pi^*(.|s,a)}[r(s,a)+\\gamma\\max_{a'}Q^{*}(s',a')]. \\> .\n",
    "\\end{equation*}\n",
    "\n",
    "We want to minimize the loss function $\\mathcal{L}(\\theta)$\n",
    "\n",
    "$$\\begin{equation*}\n",
    "\\mathcal{L}(\\theta) = E_{s' \\sim \\pi^*(.|s,a)}( ( Q^* (s,a,\\theta ) - Q(s,a,\\theta)) ^2) \n",
    "\\end{equation*}$$$$\\begin{equation*}\n",
    "\\mathcal{L}(\\theta) =  E_{s' \\sim \\pi^*(.|s,a)} ( ( r(s,a)+\\gamma\\max_{a'}Q^{*}(s',a', \\theta) - Q(s,a,\\theta)) ^2) \n",
    "\\end{equation*}$$$$\\begin{equation*}\n",
    "\\mathcal{L}(\\theta) = E_{s' \\sim \\pi^*(.|s,a)}\\Vert r+\\gamma\\max\\max_{a'}Q(s',a',\\theta)-Q(s,a,\\theta)\\Vert^{2}.\n",
    "\\end{equation*}$$"
   ]
  },
  {
   "cell_type": "markdown",
   "metadata": {},
   "source": [
    "***\n",
    "The DQN-learning algorithm relies on these derivations to train the parameters $\\theta$ of a Deep Neural Network:\n",
    "\n",
    "1. At the state $s_t$, select the action $a_t$ with best reward using $Q_t$ and store the results;\n",
    "\n",
    "2. Obtain the new state $s_{t+1}$ from the environment $p$;\n",
    "\n",
    "3. Store $(s_t,a_t,s_{t+1})$;\n",
    "\n",
    "4. Obtain $Q_{t+1}$ by minimizing  $\\mathcal{L}$ from a recovered batch from the previously stored results.\n",
    "\n",
    "***\n",
    "__Question 6__ Implement the class ```Memory``` that stores moves (in a replay buffer) via ```remember``` and provides a ```random_access``` to these. Specify a maximum memory size to avoid side effects. You can for example use a ```list()``` and set by default ```max_memory=100```."
   ]
  },
  {
   "cell_type": "code",
   "execution_count": 19,
   "metadata": {},
   "outputs": [],
   "source": [
    "class Memory(object):\n",
    "    def __init__(self, max_memory=100):\n",
    "        self.max_memory = max_memory\n",
    "        self.memory = list()\n",
    "\n",
    "    def remember(self, m):\n",
    "        if(len(self.memory)<self.max_memory):\n",
    "            self.memory.append(m)\n",
    "        else:\n",
    "            self.memory.append(m)\n",
    "            del(self.memory[0])\n",
    "\n",
    "    def random_access(self):\n",
    "        i = np.random.randint(0,len(self.memory))\n",
    "        return self.memory[i]"
   ]
  },
  {
   "cell_type": "markdown",
   "metadata": {},
   "source": [
    "***\n",
    "The pipeline we will use for training is given below:"
   ]
  },
  {
   "cell_type": "code",
   "execution_count": 10,
   "metadata": {},
   "outputs": [],
   "source": [
    "def train(agent,env,epoch,prefix=''):\n",
    "    # Number of won games\n",
    "    score = 0\n",
    "    loss = 0\n",
    "\n",
    "    for e in range(epoch):\n",
    "        # At each epoch, we restart to a fresh game and get the initial state\n",
    "        state = env.reset()\n",
    "        # This assumes that the games will terminate\n",
    "        game_over = False\n",
    "\n",
    "        win = 0\n",
    "        lose = 0\n",
    "\n",
    "        while not game_over:\n",
    "            # The agent performs an action\n",
    "            action = agent.act(state)\n",
    "\n",
    "            # Apply an action to the environment, get the next state, the reward\n",
    "            # and if the games end\n",
    "            prev_state = state\n",
    "            state, reward, game_over = env.act(action)\n",
    "\n",
    "            # Update the counters\n",
    "            if reward > 0:\n",
    "                win = win + reward\n",
    "            if reward < 0:\n",
    "                lose = lose -reward\n",
    "\n",
    "            # Apply the reinforcement strategy\n",
    "            loss = agent.reinforce(prev_state, state,  action, reward, game_over)\n",
    "\n",
    "        # Save as a mp4\n",
    "        if e % 10 == 0:\n",
    "            env.draw(prefix+str(e))\n",
    "\n",
    "        # Update stats\n",
    "        score += win-lose\n",
    "\n",
    "        print(\"Epoch {:03d}/{:03d} | Loss {:.4f} | Win/lose count {}/{} ({})\"\n",
    "              .format(e, epoch, loss, win, lose, win-lose))\n",
    "        agent.save(name_weights=prefix+'model.h5',name_model=prefix+'model.json')"
   ]
  },
  {
   "cell_type": "markdown",
   "metadata": {},
   "source": [
    "***\n",
    "__Question 7__ Implement the DQN training algorithm using a cascade of fully connected layers. You can use different learning rate, batch size or memory size parameters. In particular, the loss might oscillate while the player will start to win the games. You have to find a good criterium."
   ]
  },
  {
   "cell_type": "code",
   "execution_count": 21,
   "metadata": {},
   "outputs": [],
   "source": [
    "class DQN(Agent):\n",
    "    def __init__(self, grid_size,  epsilon = 0.1, memory_size=100, batch_size = 16,n_state=2):\n",
    "        super(DQN, self).__init__(epsilon = epsilon)\n",
    "\n",
    "        # Discount for Q learning\n",
    "        self.discount = 0.99\n",
    "        \n",
    "        self.grid_size = grid_size\n",
    "        \n",
    "        # number of state\n",
    "        self.n_state = n_state\n",
    "\n",
    "        # Memory\n",
    "        self.memory = Memory(memory_size)\n",
    "        \n",
    "        # Batch size when learning\n",
    "        self.batch_size = batch_size\n",
    "\n",
    "    def learned_act(self, s):\n",
    "        s = np.reshape(s,[1,5,5,self.n_state])\n",
    "        act_values = self.model.predict(s)\n",
    "        return(np.argmax(act_values[0]))\n",
    "\n",
    "    def reinforce(self, s_, n_s_, a_, r_, game_over_):\n",
    "        # Two steps: first memorize the states, second learn from the pool\n",
    "        \n",
    "        s_ = np.reshape(s_,[1,5,5,self.n_state])\n",
    "        n_s_ = np.reshape(n_s_,[1,5,5,self.n_state])\n",
    "\n",
    "        self.memory.remember([s_, n_s_, a_, r_, game_over_])\n",
    "        \n",
    "        input_states = np.zeros((self.batch_size, 5,5,self.n_state))\n",
    "        target_q = np.zeros((self.batch_size, 4))\n",
    "        \n",
    "        for i in range(self.batch_size):\n",
    "            target = r_\n",
    "            minibatch = self.memory.random_access()\n",
    "            \n",
    "            s_= minibatch[0]\n",
    "            n_s_= minibatch[1]\n",
    "            a_ = minibatch[2]\n",
    "            r_= minibatch[3]\n",
    "            game_over_= minibatch[4]\n",
    "            \n",
    "            input_states[i]= s_\n",
    "            \n",
    "            if game_over_:\n",
    "                target= r_\n",
    "            else:\n",
    "                target = (r_ + self.discount * np.amax(self.model.predict(n_s_)[0]))\n",
    "                \n",
    "            target_f = self.model.predict(s_)\n",
    "            target_f[0][a_] = target\n",
    "            self.model.fit(s_, target_f, epochs=1, verbose=0)\n",
    "            \n",
    "            target_q[i]=target_f\n",
    "        \n",
    "        # HINT: Clip the target to avoid exploiding gradients.. -- clipping is a bit tighter\n",
    "        target_q = np.clip(target_q, -3, 3)\n",
    "\n",
    "        l = self.model.train_on_batch(input_states, target_q)\n",
    "\n",
    "\n",
    "        return l\n",
    "\n",
    "    def save(self,name_weights='model.h5',name_model='model.json'):\n",
    "        self.model.save_weights(name_weights, overwrite=True)\n",
    "        with open(name_model, \"w\") as outfile:\n",
    "            json.dump(self.model.to_json(), outfile)\n",
    "            \n",
    "    def load(self,name_weights='model.h5',name_model='model.json'):\n",
    "        with open(name_model, \"r\") as jfile:\n",
    "            model = model_from_json(json.load(jfile))\n",
    "        model.load_weights(name_weights)\n",
    "        model.compile(\"sgd\", \"mse\")\n",
    "        self.model = model\n",
    "\n",
    "            \n",
    "class DQN_FC(DQN):\n",
    "    def __init__(self, *args, lr=0.1,**kwargs):\n",
    "        super(DQN_FC, self).__init__( *args,**kwargs)\n",
    "        \n",
    "        # NN Model\n",
    "        \n",
    "        state_size = 50\n",
    "        \n",
    "        model = Sequential()\n",
    "        model.add(Reshape((state_size,), input_shape=(5,5,self.n_state)))\n",
    "        model.add(Dense(512, input_dim=state_size, activation='relu'))\n",
    "        model.add(Dense(128, activation='relu'))\n",
    "        model.add(Dense(4, activation='linear'))\n",
    "        \n",
    "        model.compile(sgd(lr=lr, decay=1e-4, momentum=0.0), \"mse\")\n",
    "        self.model = model\n",
    "        "
   ]
  },
  {
   "cell_type": "code",
   "execution_count": 22,
   "metadata": {},
   "outputs": [
    {
     "name": "stdout",
     "output_type": "stream",
     "text": [
      "Epoch 000/100 | Loss 0.0084 | Win/lose count 3.0/7.0 (-4.0)\n",
      "Epoch 001/100 | Loss 0.0145 | Win/lose count 3.5/6.0 (-2.5)\n",
      "Epoch 002/100 | Loss 0.0343 | Win/lose count 4.0/4.0 (0.0)\n",
      "Epoch 003/100 | Loss 0.0173 | Win/lose count 2.0/3.0 (-1.0)\n",
      "Epoch 004/100 | Loss 0.0492 | Win/lose count 5.5/2.0 (3.5)\n",
      "Epoch 005/100 | Loss 0.0226 | Win/lose count 3.5/1.0 (2.5)\n",
      "Epoch 006/100 | Loss 0.0327 | Win/lose count 4.5/5.0 (-0.5)\n",
      "Epoch 007/100 | Loss 0.1115 | Win/lose count 5.5/3.0 (2.5)\n",
      "Epoch 008/100 | Loss 0.1314 | Win/lose count 7.5/5.0 (2.5)\n",
      "Epoch 009/100 | Loss 0.0662 | Win/lose count 8.0/1.0 (7.0)\n",
      "Epoch 010/100 | Loss 0.1107 | Win/lose count 6.0/1.0 (5.0)\n",
      "Epoch 011/100 | Loss 0.0441 | Win/lose count 8.0/3.0 (5.0)\n",
      "Epoch 012/100 | Loss 0.1954 | Win/lose count 15.0/3.0 (12.0)\n",
      "Epoch 013/100 | Loss 0.1505 | Win/lose count 16.5/5.0 (11.5)\n",
      "Epoch 014/100 | Loss 0.4766 | Win/lose count 14.5/0 (14.5)\n",
      "Epoch 015/100 | Loss 0.4404 | Win/lose count 7.5/3.0 (4.5)\n",
      "Epoch 016/100 | Loss 0.6333 | Win/lose count 16.5/2.0 (14.5)\n",
      "Epoch 017/100 | Loss 0.3797 | Win/lose count 13.0/5.0 (8.0)\n",
      "Epoch 018/100 | Loss 0.6337 | Win/lose count 4.5/3.0 (1.5)\n",
      "Epoch 019/100 | Loss 0.5753 | Win/lose count 13.5/6.0 (7.5)\n",
      "Epoch 020/100 | Loss 0.4708 | Win/lose count 15.0/3.0 (12.0)\n",
      "Epoch 021/100 | Loss 0.4720 | Win/lose count 14.0/3.0 (11.0)\n",
      "Epoch 022/100 | Loss 1.0772 | Win/lose count 20.5/3.0 (17.5)\n",
      "Epoch 023/100 | Loss 0.5583 | Win/lose count 17.5/3.0 (14.5)\n",
      "Epoch 024/100 | Loss 0.9436 | Win/lose count 18.0/2.0 (16.0)\n",
      "Epoch 025/100 | Loss 0.6793 | Win/lose count 16.5/3.0 (13.5)\n",
      "Epoch 026/100 | Loss 0.6103 | Win/lose count 5.0/2.0 (3.0)\n",
      "Epoch 027/100 | Loss 0.8240 | Win/lose count 12.0/5.0 (7.0)\n",
      "Epoch 028/100 | Loss 0.6659 | Win/lose count 9.5/4.0 (5.5)\n",
      "Epoch 029/100 | Loss 1.2569 | Win/lose count 19.5/3.0 (16.5)\n",
      "Epoch 030/100 | Loss 1.0377 | Win/lose count 16.5/3.0 (13.5)\n",
      "Epoch 031/100 | Loss 0.5501 | Win/lose count 16.0/4.0 (12.0)\n",
      "Epoch 032/100 | Loss 0.6705 | Win/lose count 15.5/2.0 (13.5)\n",
      "Epoch 033/100 | Loss 0.6586 | Win/lose count 12.5/1.0 (11.5)\n",
      "Epoch 034/100 | Loss 0.8607 | Win/lose count 9.5/6.0 (3.5)\n",
      "Epoch 035/100 | Loss 0.7558 | Win/lose count 17.0/5.0 (12.0)\n",
      "Epoch 036/100 | Loss 0.6840 | Win/lose count 10.5/1.0 (9.5)\n",
      "Epoch 037/100 | Loss 0.7670 | Win/lose count 9.0/4.0 (5.0)\n",
      "Epoch 038/100 | Loss 0.8694 | Win/lose count 11.5/2.0 (9.5)\n",
      "Epoch 039/100 | Loss 0.7358 | Win/lose count 15.5/7.0 (8.5)\n",
      "Epoch 040/100 | Loss 0.4219 | Win/lose count 8.0/0 (8.0)\n",
      "Epoch 041/100 | Loss 0.5491 | Win/lose count 15.0/1.0 (14.0)\n",
      "Epoch 042/100 | Loss 0.9509 | Win/lose count 16.0/2.0 (14.0)\n",
      "Epoch 043/100 | Loss 0.8537 | Win/lose count 13.0/2.0 (11.0)\n",
      "Epoch 044/100 | Loss 0.7269 | Win/lose count 20.5/4.0 (16.5)\n",
      "Epoch 045/100 | Loss 0.8220 | Win/lose count 17.5/5.0 (12.5)\n",
      "Epoch 046/100 | Loss 1.0997 | Win/lose count 19.5/2.0 (17.5)\n",
      "Epoch 047/100 | Loss 1.3187 | Win/lose count 18.0/2.0 (16.0)\n",
      "Epoch 048/100 | Loss 0.9355 | Win/lose count 16.5/3.0 (13.5)\n",
      "Epoch 049/100 | Loss 1.0532 | Win/lose count 8.5/1.0 (7.5)\n",
      "Epoch 050/100 | Loss 0.6593 | Win/lose count 21.0/5.0 (16.0)\n",
      "Epoch 051/100 | Loss 0.6723 | Win/lose count 5.0/1.0 (4.0)\n",
      "Epoch 052/100 | Loss 0.6421 | Win/lose count 4.0/0 (4.0)\n",
      "Epoch 053/100 | Loss 0.8357 | Win/lose count 6.0/2.0 (4.0)\n",
      "Epoch 054/100 | Loss 0.5856 | Win/lose count 17.5/3.0 (14.5)\n",
      "Epoch 055/100 | Loss 0.4586 | Win/lose count 14.0/8.0 (6.0)\n",
      "Epoch 056/100 | Loss 0.4906 | Win/lose count 16.5/5.0 (11.5)\n",
      "Epoch 057/100 | Loss 0.5673 | Win/lose count 11.5/5.0 (6.5)\n",
      "Epoch 058/100 | Loss 0.6350 | Win/lose count 9.0/4.0 (5.0)\n",
      "Epoch 059/100 | Loss 0.5834 | Win/lose count 17.0/4.0 (13.0)\n",
      "Epoch 060/100 | Loss 0.4356 | Win/lose count 9.5/3.0 (6.5)\n",
      "Epoch 061/100 | Loss 0.5863 | Win/lose count 15.0/4.0 (11.0)\n",
      "Epoch 062/100 | Loss 0.6084 | Win/lose count 22.0/5.0 (17.0)\n",
      "Epoch 063/100 | Loss 0.5554 | Win/lose count 15.5/1.0 (14.5)\n",
      "Epoch 064/100 | Loss 0.6253 | Win/lose count 10.0/2.0 (8.0)\n",
      "Epoch 065/100 | Loss 0.4166 | Win/lose count 23.0/4.0 (19.0)\n",
      "Epoch 066/100 | Loss 0.7016 | Win/lose count 14.5/3.0 (11.5)\n",
      "Epoch 067/100 | Loss 0.7424 | Win/lose count 23.0/6.0 (17.0)\n",
      "Epoch 068/100 | Loss 0.9461 | Win/lose count 18.5/2.0 (16.5)\n",
      "Epoch 069/100 | Loss 0.7223 | Win/lose count 12.0/5.0 (7.0)\n",
      "Epoch 070/100 | Loss 0.8538 | Win/lose count 7.0/5.0 (2.0)\n",
      "Epoch 071/100 | Loss 1.0491 | Win/lose count 18.5/4.0 (14.5)\n",
      "Epoch 072/100 | Loss 0.7800 | Win/lose count 20.0/6.0 (14.0)\n",
      "Epoch 073/100 | Loss 0.5670 | Win/lose count 21.5/2.0 (19.5)\n",
      "Epoch 074/100 | Loss 0.7079 | Win/lose count 14.5/2.0 (12.5)\n",
      "Epoch 075/100 | Loss 0.6300 | Win/lose count 10.0/4.0 (6.0)\n",
      "Epoch 076/100 | Loss 0.6314 | Win/lose count 11.0/3.0 (8.0)\n",
      "Epoch 077/100 | Loss 0.4361 | Win/lose count 12.5/1.0 (11.5)\n",
      "Epoch 078/100 | Loss 0.7102 | Win/lose count 16.0/3.0 (13.0)\n",
      "Epoch 079/100 | Loss 0.6517 | Win/lose count 17.5/1.0 (16.5)\n",
      "Epoch 080/100 | Loss 0.7025 | Win/lose count 19.0/5.0 (14.0)\n",
      "Epoch 081/100 | Loss 0.5248 | Win/lose count 15.0/6.0 (9.0)\n",
      "Epoch 082/100 | Loss 0.5906 | Win/lose count 18.0/2.0 (16.0)\n",
      "Epoch 083/100 | Loss 0.6644 | Win/lose count 5.0/2.0 (3.0)\n",
      "Epoch 084/100 | Loss 0.4870 | Win/lose count 16.0/3.0 (13.0)\n",
      "Epoch 085/100 | Loss 0.5236 | Win/lose count 20.5/4.0 (16.5)\n",
      "Epoch 086/100 | Loss 0.6309 | Win/lose count 19.0/5.0 (14.0)\n",
      "Epoch 087/100 | Loss 0.4675 | Win/lose count 6.0/7.0 (-1.0)\n",
      "Epoch 088/100 | Loss 0.4217 | Win/lose count 16.5/4.0 (12.5)\n",
      "Epoch 089/100 | Loss 0.8202 | Win/lose count 17.5/8.0 (9.5)\n",
      "Epoch 090/100 | Loss 0.6526 | Win/lose count 17.5/2.0 (15.5)\n",
      "Epoch 091/100 | Loss 0.9201 | Win/lose count 14.5/4.0 (10.5)\n",
      "Epoch 092/100 | Loss 0.5780 | Win/lose count 17.0/2.0 (15.0)\n",
      "Epoch 093/100 | Loss 0.6419 | Win/lose count 22.5/3.0 (19.5)\n",
      "Epoch 094/100 | Loss 0.7455 | Win/lose count 14.5/3.0 (11.5)\n",
      "Epoch 095/100 | Loss 0.5329 | Win/lose count 10.5/3.0 (7.5)\n",
      "Epoch 096/100 | Loss 0.6574 | Win/lose count 18.0/4.0 (14.0)\n",
      "Epoch 097/100 | Loss 0.6093 | Win/lose count 18.5/7.0 (11.5)\n",
      "Epoch 098/100 | Loss 0.4196 | Win/lose count 10.5/4.0 (6.5)\n",
      "Epoch 099/100 | Loss 0.5520 | Win/lose count 16.0/2.0 (14.0)\n"
     ]
    },
    {
     "data": {
      "text/html": [
       "<video alt=\"test\" controls>\n",
       "                <source src=\"data:video/mp4;base64,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\" type=\"video/mp4\" />\n",
       "             </video>"
      ],
      "text/plain": [
       "<IPython.core.display.HTML object>"
      ]
     },
     "execution_count": 22,
     "metadata": {},
     "output_type": "execute_result"
    }
   ],
   "source": [
    "#Model avec deux couches de 512 et 128 neurones\n",
    "env = Environment(grid_size=size, max_time=T, temperature=0.3)\n",
    "agent = DQN_FC(size, lr=.1, epsilon = 0.1, memory_size=2000, batch_size = 32)\n",
    "train(agent, env, epochs_train, prefix='fc_train')\n",
    "HTML(display_videos('fc_train10.mp4'))"
   ]
  },
  {
   "cell_type": "markdown",
   "metadata": {},
   "source": [
    "***\n",
    "***\n",
    "__Question 8__ Implement the DQN training algorithm using a CNN (for example, 2 convolutional layers and one final fully connected layer)."
   ]
  },
  {
   "cell_type": "code",
   "execution_count": 23,
   "metadata": {},
   "outputs": [],
   "source": [
    "class DQN_CNN(DQN):\n",
    "    def __init__(self, *args,lr=0.1,**kwargs):\n",
    "        super(DQN_CNN, self).__init__(*args,**kwargs)\n",
    "        \n",
    "        filters = 32\n",
    "        kernel_size = (2,2)\n",
    "        \n",
    "        model = Sequential()\n",
    "        model.add(Conv2D(filters, kernel_size, input_shape=(5,5,self.n_state), activation='relu'))\n",
    "        model.add(Conv2D(filters, kernel_size, activation='relu'))\n",
    "        model.add(Dropout(0.2))\n",
    "        model.add(Flatten())\n",
    "        model.add(Dense(4, activation='linear'))\n",
    "        \n",
    "        model.compile(sgd(lr=lr, decay=1e-4, momentum=0.0), \"mse\")\n",
    "        self.model = model"
   ]
  },
  {
   "cell_type": "code",
   "execution_count": 24,
   "metadata": {},
   "outputs": [
    {
     "name": "stdout",
     "output_type": "stream",
     "text": [
      "Epoch 000/100 | Loss 0.0424 | Win/lose count 2.5/2.0 (0.5)\n",
      "Epoch 001/100 | Loss 0.0036 | Win/lose count 3.0/3.0 (0.0)\n",
      "Epoch 002/100 | Loss 0.0109 | Win/lose count 2.0/0 (2.0)\n",
      "Epoch 003/100 | Loss 0.0212 | Win/lose count 12.5/1.0 (11.5)\n",
      "Epoch 004/100 | Loss 0.0166 | Win/lose count 5.0/3.0 (2.0)\n",
      "Epoch 005/100 | Loss 0.0848 | Win/lose count 9.5/4.0 (5.5)\n",
      "Epoch 006/100 | Loss 0.0313 | Win/lose count 7.0/6.0 (1.0)\n",
      "Epoch 007/100 | Loss 0.0804 | Win/lose count 12.0/3.0 (9.0)\n",
      "Epoch 008/100 | Loss 0.0024 | Win/lose count 8.5/6.0 (2.5)\n",
      "Epoch 009/100 | Loss 0.0869 | Win/lose count 7.0/3.0 (4.0)\n",
      "Epoch 010/100 | Loss 0.0897 | Win/lose count 6.5/3.0 (3.5)\n",
      "Epoch 011/100 | Loss 0.0915 | Win/lose count 13.5/4.0 (9.5)\n",
      "Epoch 012/100 | Loss 0.1252 | Win/lose count 18.0/1.0 (17.0)\n",
      "Epoch 013/100 | Loss 0.1539 | Win/lose count 21.5/6.0 (15.5)\n",
      "Epoch 014/100 | Loss 0.1720 | Win/lose count 14.5/6.0 (8.5)\n",
      "Epoch 015/100 | Loss 0.2701 | Win/lose count 18.0/3.0 (15.0)\n",
      "Epoch 016/100 | Loss 0.6650 | Win/lose count 14.0/3.0 (11.0)\n",
      "Epoch 017/100 | Loss 0.3720 | Win/lose count 11.5/4.0 (7.5)\n",
      "Epoch 018/100 | Loss 0.6760 | Win/lose count 18.0/3.0 (15.0)\n",
      "Epoch 019/100 | Loss 0.6546 | Win/lose count 9.5/5.0 (4.5)\n",
      "Epoch 020/100 | Loss 0.4991 | Win/lose count 17.0/4.0 (13.0)\n",
      "Epoch 021/100 | Loss 0.4340 | Win/lose count 20.0/5.0 (15.0)\n",
      "Epoch 022/100 | Loss 0.3060 | Win/lose count 24.0/2.0 (22.0)\n",
      "Epoch 023/100 | Loss 0.3597 | Win/lose count 28.5/1.0 (27.5)\n",
      "Epoch 024/100 | Loss 0.2900 | Win/lose count 15.0/2.0 (13.0)\n",
      "Epoch 025/100 | Loss 0.1958 | Win/lose count 10.5/8.0 (2.5)\n",
      "Epoch 026/100 | Loss 0.3638 | Win/lose count 21.0/6.0 (15.0)\n",
      "Epoch 027/100 | Loss 0.3242 | Win/lose count 14.0/5.0 (9.0)\n",
      "Epoch 028/100 | Loss 0.5335 | Win/lose count 22.0/3.0 (19.0)\n",
      "Epoch 029/100 | Loss 0.4350 | Win/lose count 18.0/7.0 (11.0)\n",
      "Epoch 030/100 | Loss 0.3029 | Win/lose count 17.5/4.0 (13.5)\n",
      "Epoch 031/100 | Loss 0.2994 | Win/lose count 8.5/5.0 (3.5)\n",
      "Epoch 032/100 | Loss 0.3490 | Win/lose count 27.0/7.0 (20.0)\n",
      "Epoch 033/100 | Loss 0.2930 | Win/lose count 19.5/7.0 (12.5)\n",
      "Epoch 034/100 | Loss 0.2969 | Win/lose count 21.5/3.0 (18.5)\n",
      "Epoch 035/100 | Loss 0.1978 | Win/lose count 10.0/3.0 (7.0)\n",
      "Epoch 036/100 | Loss 0.4312 | Win/lose count 17.5/3.0 (14.5)\n",
      "Epoch 037/100 | Loss 0.4031 | Win/lose count 18.5/9.0 (9.5)\n",
      "Epoch 038/100 | Loss 0.3579 | Win/lose count 19.5/7.0 (12.5)\n",
      "Epoch 039/100 | Loss 0.3100 | Win/lose count 20.0/8.0 (12.0)\n",
      "Epoch 040/100 | Loss 0.2159 | Win/lose count 20.5/4.0 (16.5)\n",
      "Epoch 041/100 | Loss 0.3146 | Win/lose count 23.5/9.0 (14.5)\n",
      "Epoch 042/100 | Loss 0.2017 | Win/lose count 17.0/3.0 (14.0)\n",
      "Epoch 043/100 | Loss 0.1606 | Win/lose count 17.5/3.0 (14.5)\n",
      "Epoch 044/100 | Loss 0.3557 | Win/lose count 13.5/2.0 (11.5)\n",
      "Epoch 045/100 | Loss 0.2973 | Win/lose count 15.5/5.0 (10.5)\n",
      "Epoch 046/100 | Loss 0.3303 | Win/lose count 24.5/8.0 (16.5)\n",
      "Epoch 047/100 | Loss 0.3559 | Win/lose count 12.0/1.0 (11.0)\n",
      "Epoch 048/100 | Loss 0.2239 | Win/lose count 12.5/5.0 (7.5)\n",
      "Epoch 049/100 | Loss 0.3351 | Win/lose count 22.5/5.0 (17.5)\n",
      "Epoch 050/100 | Loss 0.3965 | Win/lose count 13.0/4.0 (9.0)\n",
      "Epoch 051/100 | Loss 0.2744 | Win/lose count 22.5/2.0 (20.5)\n",
      "Epoch 052/100 | Loss 0.2245 | Win/lose count 22.5/6.0 (16.5)\n",
      "Epoch 053/100 | Loss 0.3916 | Win/lose count 12.0/7.0 (5.0)\n",
      "Epoch 054/100 | Loss 0.4077 | Win/lose count 28.0/1.0 (27.0)\n",
      "Epoch 055/100 | Loss 0.4019 | Win/lose count 26.5/4.0 (22.5)\n",
      "Epoch 056/100 | Loss 0.2478 | Win/lose count 22.5/6.0 (16.5)\n",
      "Epoch 057/100 | Loss 0.3669 | Win/lose count 14.5/1.0 (13.5)\n",
      "Epoch 058/100 | Loss 0.3162 | Win/lose count 26.5/6.0 (20.5)\n",
      "Epoch 059/100 | Loss 0.4210 | Win/lose count 26.0/2.0 (24.0)\n",
      "Epoch 060/100 | Loss 0.3247 | Win/lose count 16.5/5.0 (11.5)\n",
      "Epoch 061/100 | Loss 0.6754 | Win/lose count 24.0/4.0 (20.0)\n",
      "Epoch 062/100 | Loss 0.4023 | Win/lose count 24.5/2.0 (22.5)\n",
      "Epoch 063/100 | Loss 0.7263 | Win/lose count 25.0/3.0 (22.0)\n",
      "Epoch 064/100 | Loss 0.6332 | Win/lose count 19.0/6.0 (13.0)\n",
      "Epoch 065/100 | Loss 0.4783 | Win/lose count 21.5/5.0 (16.5)\n",
      "Epoch 066/100 | Loss 0.7382 | Win/lose count 18.5/4.0 (14.5)\n",
      "Epoch 067/100 | Loss 0.6505 | Win/lose count 12.0/3.0 (9.0)\n",
      "Epoch 068/100 | Loss 0.4032 | Win/lose count 20.0/9.0 (11.0)\n",
      "Epoch 069/100 | Loss 0.4358 | Win/lose count 14.5/7.0 (7.5)\n",
      "Epoch 070/100 | Loss 0.3646 | Win/lose count 18.5/5.0 (13.5)\n",
      "Epoch 071/100 | Loss 0.3323 | Win/lose count 19.5/5.0 (14.5)\n",
      "Epoch 072/100 | Loss 0.2912 | Win/lose count 4.5/4.0 (0.5)\n",
      "Epoch 073/100 | Loss 0.2665 | Win/lose count 21.5/10.0 (11.5)\n",
      "Epoch 074/100 | Loss 0.2506 | Win/lose count 19.5/7.0 (12.5)\n",
      "Epoch 075/100 | Loss 0.1184 | Win/lose count 19.5/4.0 (15.5)\n",
      "Epoch 076/100 | Loss 0.2451 | Win/lose count 14.0/6.0 (8.0)\n",
      "Epoch 077/100 | Loss 0.1507 | Win/lose count 20.5/2.0 (18.5)\n",
      "Epoch 078/100 | Loss 0.3219 | Win/lose count 12.5/5.0 (7.5)\n",
      "Epoch 079/100 | Loss 0.2518 | Win/lose count 23.0/5.0 (18.0)\n",
      "Epoch 080/100 | Loss 0.4465 | Win/lose count 27.5/7.0 (20.5)\n",
      "Epoch 081/100 | Loss 0.1154 | Win/lose count 10.0/5.0 (5.0)\n",
      "Epoch 082/100 | Loss 0.2130 | Win/lose count 23.0/6.0 (17.0)\n",
      "Epoch 083/100 | Loss 0.2723 | Win/lose count 21.0/3.0 (18.0)\n",
      "Epoch 084/100 | Loss 0.3397 | Win/lose count 16.0/4.0 (12.0)\n",
      "Epoch 085/100 | Loss 0.2617 | Win/lose count 16.0/5.0 (11.0)\n",
      "Epoch 086/100 | Loss 0.1932 | Win/lose count 22.0/6.0 (16.0)\n",
      "Epoch 087/100 | Loss 0.2140 | Win/lose count 25.0/3.0 (22.0)\n",
      "Epoch 088/100 | Loss 0.1988 | Win/lose count 16.5/2.0 (14.5)\n",
      "Epoch 089/100 | Loss 0.2529 | Win/lose count 8.5/1.0 (7.5)\n",
      "Epoch 090/100 | Loss 0.1963 | Win/lose count 22.5/5.0 (17.5)\n",
      "Epoch 091/100 | Loss 0.2612 | Win/lose count 18.0/6.0 (12.0)\n",
      "Epoch 092/100 | Loss 0.3021 | Win/lose count 19.0/6.0 (13.0)\n",
      "Epoch 093/100 | Loss 0.2690 | Win/lose count 23.0/4.0 (19.0)\n",
      "Epoch 094/100 | Loss 0.2019 | Win/lose count 19.5/7.0 (12.5)\n",
      "Epoch 095/100 | Loss 0.2033 | Win/lose count 24.0/9.0 (15.0)\n",
      "Epoch 096/100 | Loss 0.2569 | Win/lose count 20.5/5.0 (15.5)\n",
      "Epoch 097/100 | Loss 0.2329 | Win/lose count 20.5/10.0 (10.5)\n",
      "Epoch 098/100 | Loss 0.4543 | Win/lose count 22.0/4.0 (18.0)\n",
      "Epoch 099/100 | Loss 0.5531 | Win/lose count 22.5/6.0 (16.5)\n"
     ]
    },
    {
     "data": {
      "text/html": [
       "<video alt=\"test\" controls>\n",
       "                <source src=\"data:video/mp4;base64,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\" type=\"video/mp4\" />\n",
       "             </video>"
      ],
      "text/plain": [
       "<IPython.core.display.HTML object>"
      ]
     },
     "execution_count": 24,
     "metadata": {},
     "output_type": "execute_result"
    }
   ],
   "source": [
    "env = Environment(grid_size=size, max_time=T, temperature=0.3)\n",
    "agent = DQN_CNN(size, lr=.1, epsilon = 0.1, memory_size=2000, batch_size = 32)\n",
    "train(agent,env,epochs_train,prefix='cnn_train')\n",
    "HTML(display_videos('cnn_train10.mp4'))"
   ]
  },
  {
   "cell_type": "markdown",
   "metadata": {},
   "source": [
    "***\n",
    "***\n",
    "__Question 9__ Test both algorithms and compare their performances. Which issue(s) do you observe? Observe also different behaviors by changing the temperature."
   ]
  },
  {
   "cell_type": "code",
   "execution_count": null,
   "metadata": {},
   "outputs": [],
   "source": [
    "env = Environment(grid_size=size, max_time=T,temperature=0.3)\n",
    "agent_cnn = DQN_CNN(size, lr=.1, epsilon = 0.1, memory_size=2000, batch_size = 32)\n",
    "agent_cnn.load(name_weights='cnn_trainmodel.h5',name_model='cnn_trainmodel.json')\n",
    "\n",
    "agent_fc = DQN_FC(size, lr=.1, epsilon = 0.1, memory_size=2000, batch_size = 32)\n",
    "agent_cnn.load(name_weights='fc_trainmodel.h5',name_model='fc_trainmodel.json')\n",
    "print('Test of the CNN')\n",
    "test(agent_cnn,env,epochs_test,prefix='cnn_test')\n",
    "print('Test of the FC')\n",
    "test(agent_fc,env,epochs_test,prefix='fc_test')"
   ]
  },
  {
   "cell_type": "code",
   "execution_count": null,
   "metadata": {
    "collapsed": true
   },
   "outputs": [],
   "source": [
    "HTML(display_videos('cnn_test10.mp4'))"
   ]
  },
  {
   "cell_type": "code",
   "execution_count": null,
   "metadata": {
    "collapsed": true
   },
   "outputs": [],
   "source": [
    "HTML(display_videos('fc_test10.mp4'))"
   ]
  },
  {
   "cell_type": "markdown",
   "metadata": {},
   "source": []
  },
  {
   "cell_type": "markdown",
   "metadata": {},
   "source": [
    "***\n",
    "\n",
    "The algorithm tends to not explore the map which can be an issue. We propose two ideas in order to encourage exploration:\n",
    "1. Incorporating a decreasing $\\epsilon$-greedy exploration. You can use the method ```set_epsilon```\n",
    "2. Append via the environment a new state that describes if a cell has been visited or not\n",
    "\n",
    "***\n",
    "__Question 10__ Design a new ```train_explore``` function and environment class ```EnvironmentExploring``` to tackle the issue of exploration.\n",
    "\n"
   ]
  },
  {
   "cell_type": "code",
   "execution_count": null,
   "metadata": {
    "collapsed": true
   },
   "outputs": [],
   "source": [
    "def train_explore(agent,env,epoch,prefix=''):\n",
    "    pass\n",
    "        \n",
    "class EnvironmentExploring(object):\n",
    "    def __init__(self, grid_size=10, max_time=500, temperature=0.1):\n",
    "        pass\n",
    "    \n",
    "## use those samples of code:\n",
    "#In train explore:\n",
    "state, reward, game_over = env.act(action, train=True)\n",
    "\n",
    "## In Environment exploring:\n",
    "# You will have to change n_state to 3 because you will use one more layer!\n",
    "reward = 0\n",
    "if train:\n",
    "    reward = -self.malus_position[self.x, self.y]\n",
    "self.malus_position[self.x, self.y] = 0.1\n",
    "\n",
    "reward = reward + self.board[self.x, self.y]\n",
    "# 3 \"feature\" states instead of 2\n",
    "state = np.concatenate((self.malus_position.reshape(self.grid_size, self.grid_size,1),\n",
    "                                self.board.reshape(self.grid_size, self.grid_size,1),\n",
    "                        self.position.reshape(self.grid_size, self.grid_size,1)),axis=2)"
   ]
  },
  {
   "cell_type": "code",
   "execution_count": null,
   "metadata": {
    "collapsed": true
   },
   "outputs": [],
   "source": [
    "# Training\n",
    "env = EnvironmentExploring(grid_size=size, max_time=T, temperature=0.3)\n",
    "agent = DQN_CNN(size, lr=.1, epsilon = 0.1, memory_size=2000, batch_size = 32,n_state=3)\n",
    "train_explore(agent, env, epochs_train, prefix='cnn_train_explore')\n",
    "HTML(display_videos('cnn_train_explore10.mp4'))"
   ]
  },
  {
   "cell_type": "code",
   "execution_count": null,
   "metadata": {
    "collapsed": true
   },
   "outputs": [],
   "source": [
    "# Evaluation\n",
    "test(agent,env,epochs_test,prefix='cnn_test_explore')\n",
    "HTML(display_videos('cnn_test_explore10.mp4'))"
   ]
  },
  {
   "cell_type": "markdown",
   "metadata": {},
   "source": [
    "***\n",
    "***\n",
    "__BONUS question__ Use the expert DQN from the previous question to generate some winning games. Train a model that mimicks its behavior. Compare the performances."
   ]
  },
  {
   "cell_type": "markdown",
   "metadata": {},
   "source": []
  },
  {
   "cell_type": "markdown",
   "metadata": {},
   "source": [
    "***"
   ]
  }
 ],
 "metadata": {
  "kernelspec": {
   "display_name": "Python 3",
   "language": "python",
   "name": "python3"
  },
  "language_info": {
   "codemirror_mode": {
    "name": "ipython",
    "version": 3
   },
   "file_extension": ".py",
   "mimetype": "text/x-python",
   "name": "python",
   "nbconvert_exporter": "python",
   "pygments_lexer": "ipython3",
   "version": "3.6.7"
  }
 },
 "nbformat": 4,
 "nbformat_minor": 2
}
