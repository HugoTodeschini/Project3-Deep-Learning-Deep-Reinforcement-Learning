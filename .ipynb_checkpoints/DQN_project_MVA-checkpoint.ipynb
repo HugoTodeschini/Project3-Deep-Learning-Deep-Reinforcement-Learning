{
 "cells": [
  {
   "cell_type": "markdown",
   "metadata": {},
   "source": [
    "**You may need to install [OpenCV](https://pypi.python.org/pypi/opencv-python) and [scikit-video](http://www.scikit-video.org/stable/).**"
   ]
  },
  {
   "cell_type": "code",
   "execution_count": 103,
   "metadata": {},
   "outputs": [],
   "source": [
    "import keras\n",
    "import numpy as np\n",
    "import io\n",
    "import base64\n",
    "from IPython.display import HTML\n",
    "import skvideo.io\n",
    "import cv2\n",
    "import json\n",
    "\n",
    "from keras.models import Sequential,model_from_json\n",
    "from keras.layers.core import Dense\n",
    "from keras.optimizers import sgd\n",
    "from keras.layers import Conv2D, MaxPooling2D, Activation, AveragePooling2D,Reshape,BatchNormalization, Flatten, Dropout"
   ]
  },
  {
   "cell_type": "markdown",
   "metadata": {},
   "source": [
    "# MiniProject #3: Deep Reinforcement Learning"
   ]
  },
  {
   "cell_type": "markdown",
   "metadata": {},
   "source": [
    "__Notations__: $E_p$ is the expectation under probability $p$. Please justify each of your answer and widely comment your code."
   ]
  },
  {
   "cell_type": "markdown",
   "metadata": {},
   "source": [
    "# Context"
   ]
  },
  {
   "cell_type": "markdown",
   "metadata": {},
   "source": [
    "In a reinforcement learning algorithm, we modelize each step $t$ as an action $a_t$ obtained from a state $s_t$, i.e. $\\{(a_{t},s_{t})_{t\\leq T}\\}$ having the Markov property. We consider a discount factor $\\gamma \\in [0,1]$ that ensures convergence. The goal is to find among all the policies $\\pi$, one that maximizes the expected reward:\n",
    "\n",
    "\\begin{equation*}\n",
    "R(\\pi)=\\sum_{t\\leq T}E_{p^{\\pi}}[\\gamma^t r(s_{t},a_{t})] \\> ,\n",
    "\\end{equation*}\n",
    "\n",
    "where: \n",
    "\\begin{equation*}p^{\\pi}(a_{0},a_{1},s_{1},...,a_{T},s_{T})=p(a_{0})\\prod_{t=1}^{T}\\pi(a_{t}|s_{t})p(s_{t+1}|s_{t},a_{t}) \\> .\n",
    "\\end{equation*}\n",
    "\n",
    "We note the $Q$-function:\n",
    "\n",
    "\\begin{equation*}Q^\\pi(s,a)=E_{p^{\\pi}}[\\sum_{t\\leq T}\\gamma^{t}r(s_{t},a_{t})|s_{0}=s,a_{0}=a] \\> .\n",
    "\\end{equation*}\n",
    "\n",
    "Thus, the optimal Q function is:\n",
    "\\begin{equation*}\n",
    "Q^*(s,a)=\\max_{\\pi}Q^\\pi(s,a) \\> .\n",
    "\\end{equation*}\n",
    "\n",
    "In this project, we will apply the deep reinforcement learning techniques to a simple game: an agent will have to learn from scratch a policy that will permit it maximizing a reward."
   ]
  },
  {
   "cell_type": "markdown",
   "metadata": {},
   "source": [
    "## The environment, the agent and the game"
   ]
  },
  {
   "cell_type": "markdown",
   "metadata": {},
   "source": [
    "### The environment"
   ]
  },
  {
   "cell_type": "markdown",
   "metadata": {},
   "source": [
    "```Environment``` is an abstract class that represents the states, rewards, and actions to obtain the new state."
   ]
  },
  {
   "cell_type": "code",
   "execution_count": 82,
   "metadata": {},
   "outputs": [],
   "source": [
    "class Environment(object):\n",
    "    def __init__(self):\n",
    "        pass\n",
    "\n",
    "    def act(self, act):\n",
    "        \"\"\"\n",
    "        One can act on the environment and obtain its reaction:\n",
    "        - the new state\n",
    "        - the reward of the new state\n",
    "        - should we continue the game?\n",
    "\n",
    "        :return: state, reward, game_over\n",
    "        \"\"\"\n",
    "        pass\n",
    "\n",
    "\n",
    "    def reset(self):\n",
    "        \"\"\"\n",
    "        Reinitialize the environment to a random state and returns\n",
    "        the original state\n",
    "\n",
    "        :return: state\n",
    "        \"\"\"\n",
    "        pass\n",
    "    \n",
    "    def draw(self):\n",
    "        \"\"\"\n",
    "        Visualize in the console or graphically the current state\n",
    "        \"\"\"\n",
    "        pass"
   ]
  },
  {
   "cell_type": "markdown",
   "metadata": {},
   "source": [
    "The method ```act``` allows to act on the environment at a given state $s_t$ (stored internally), via action $a_t$. The method will return the new state $s_{t+1}$, the reward $r(s_{t},a_{t})$ and determines if $t\\leq T$ (*game_over*).\n",
    "\n",
    "The method ```reset``` simply reinitializes the environment to a random state $s_0$.\n",
    "\n",
    "The method ```draw``` displays the current state $s_t$ (this is useful to check the behavior of the Agent).\n",
    "\n",
    "We modelize $s_t$ as a tensor, while $a_t$ is an integer."
   ]
  },
  {
   "cell_type": "markdown",
   "metadata": {},
   "source": [
    "### The Agent"
   ]
  },
  {
   "cell_type": "markdown",
   "metadata": {},
   "source": [
    "The goal of the ```Agent``` is to interact with the ```Environment``` by proposing actions $a_t$ obtained from a given state $s_t$ to attempt to maximize its __reward__ $r(s_t,a_t)$. We propose the following abstract class:"
   ]
  },
  {
   "cell_type": "code",
   "execution_count": 83,
   "metadata": {},
   "outputs": [],
   "source": [
    "class Agent(object):\n",
    "    def __init__(self, epsilon=0.1, n_action=4):\n",
    "        self.epsilon = epsilon\n",
    "        self.n_action = n_action\n",
    "    \n",
    "    def set_epsilon(self,e):\n",
    "        self.epsilon = e\n",
    "\n",
    "    def act(self,s,train=True):\n",
    "        \"\"\" This function should return the next action to do:\n",
    "        an integer between 0 and 4 (not included) with a random exploration of epsilon\"\"\"\n",
    "        if train:\n",
    "            if np.random.rand() <= self.epsilon:\n",
    "                a = np.random.randint(0, self.n_action, size=1)[0]\n",
    "            else:\n",
    "                a = self.learned_act(s)\n",
    "        else: # in some cases, this can improve the performance.. remove it if poor performances\n",
    "            a = self.learned_act(s)\n",
    "\n",
    "        return a\n",
    "\n",
    "    def learned_act(self,s):\n",
    "        \"\"\" Act via the policy of the agent, from a given state s\n",
    "        it proposes an action a\"\"\"\n",
    "        pass\n",
    "\n",
    "    def reinforce(self, s, n_s, a, r, game_over_):\n",
    "        \"\"\" This function is the core of the learning algorithm. \n",
    "        It takes as an input the current state s_, the next state n_s_\n",
    "        the action a_ used to move from s_ to n_s_ and the reward r_.\n",
    "        \n",
    "        Its goal is to learn a policy.\n",
    "        \"\"\"\n",
    "        pass\n",
    "\n",
    "    def save(self):\n",
    "        \"\"\" This function returns basic stats if applicable: the\n",
    "        loss and/or the model\"\"\"\n",
    "        pass\n",
    "\n",
    "    def load(self):\n",
    "        \"\"\" This function allows to restore a model\"\"\"\n",
    "        pass"
   ]
  },
  {
   "cell_type": "markdown",
   "metadata": {},
   "source": [
    "***\n",
    "__Question 1__:\n",
    "Explain the function act. Why is ```epsilon``` essential?"
   ]
  },
  {
   "cell_type": "markdown",
   "metadata": {},
   "source": [
    "The function act takes the state of the agent as input and determine the next action of the agent. Here the action has the form to a number between 0 to 3. The input \"train\" allow the act to explore new policies with a probability epsilon. When train is equal to \"False\" the agent won't explore new policies, it is necessary when we want to use the code and don't train it.\n",
    "\n",
    "This epsilon is useful to create a small probability at each step that the agent do a random action which allow it to try new policies. It is the exploration part of the algorithm's training."
   ]
  },
  {
   "cell_type": "markdown",
   "metadata": {},
   "source": [
    "***\n",
    "### The Game"
   ]
  },
  {
   "cell_type": "markdown",
   "metadata": {},
   "source": [
    "The ```Agent``` and the ```Environment``` work in an interlaced way as in the following (take some time to understand this code as it is the core of the project)\n",
    "\n",
    "```python\n",
    "\n",
    "epoch = 300\n",
    "env = Environment()\n",
    "agent = Agent()\n",
    "\n",
    "\n",
    "# Number of won games\n",
    "score = 0\n",
    "loss = 0\n",
    "\n",
    "\n",
    "for e in range(epoch):\n",
    "    # At each epoch, we restart to a fresh game and get the initial state\n",
    "    state = env.reset()\n",
    "    # This assumes that the games will end\n",
    "    game_over = False\n",
    "\n",
    "    win = 0\n",
    "    lose = 0\n",
    "    \n",
    "    while not game_over:\n",
    "        # The agent performs an action\n",
    "        action = agent.act(state)\n",
    "\n",
    "        # Apply an action to the environment, get the next state, the reward\n",
    "        # and if the games end\n",
    "        prev_state = state\n",
    "        state, reward, game_over = env.act(action)\n",
    "\n",
    "        # Update the counters\n",
    "        if reward > 0:\n",
    "            win = win + reward\n",
    "        if reward < 0:\n",
    "            lose = lose -reward\n",
    "\n",
    "        # Apply the reinforcement strategy\n",
    "        loss = agent.reinforce(prev_state, state,  action, reward, game_over)\n",
    "\n",
    "    # Save as a mp4\n",
    "    if e % 10 == 0:\n",
    "        env.draw(e)\n",
    "\n",
    "    # Update stats\n",
    "    score += win-lose\n",
    "\n",
    "    print(\"Epoch {:03d}/{:03d} | Loss {:.4f} | Win/lose count {}/{} ({})\"\n",
    "          .format(e, epoch, loss, win, lose, win-lose))\n",
    "    agent.save()\n",
    "```"
   ]
  },
  {
   "cell_type": "markdown",
   "metadata": {},
   "source": [
    "# The game, *eat cheese*"
   ]
  },
  {
   "cell_type": "markdown",
   "metadata": {},
   "source": [
    "A rat runs on an island and tries to eat as much as possible. The island is subdivided into $N\\times N$ cells, in which there are cheese (+0.5) and poisonous cells (-1). The rat has a visibility of 2 cells (thus it can see $5^2$ cells). The rat is given a time $T$ to accumulate as much food as possible. It can perform 4 actions: going up, down, left, right. \n",
    "\n",
    "The goal is to code an agent to solve this task that will learn by trial and error. We propose the following environment:"
   ]
  },
  {
   "cell_type": "code",
   "execution_count": 84,
   "metadata": {},
   "outputs": [],
   "source": [
    "class Environment(object):\n",
    "    def __init__(self, grid_size=10, max_time=500, temperature=0.1):\n",
    "        grid_size = grid_size+4\n",
    "        self.grid_size = grid_size\n",
    "        self.max_time = max_time\n",
    "        self.temperature = temperature\n",
    "\n",
    "        #board on which one plays\n",
    "        self.board = np.zeros((grid_size,grid_size))\n",
    "        self.position = np.zeros((grid_size,grid_size))\n",
    "\n",
    "        # coordinate of the cat\n",
    "        self.x = 0\n",
    "        self.y = 1\n",
    "\n",
    "        # self time\n",
    "        self.t = 0\n",
    "\n",
    "        self.scale=16\n",
    "\n",
    "        self.to_draw = np.zeros((max_time+2, grid_size*self.scale, grid_size*self.scale, 3))\n",
    "\n",
    "\n",
    "    def draw(self,e):\n",
    "        skvideo.io.vwrite(str(e) + '.mp4', self.to_draw)\n",
    "\n",
    "    def get_frame(self,t):\n",
    "        b = np.zeros((self.grid_size,self.grid_size,3))+128\n",
    "        b[self.board>0,0] = 256\n",
    "        b[self.board < 0, 2] = 256\n",
    "        b[self.x,self.y,:]=256\n",
    "        b[-2:,:,:]=0\n",
    "        b[:,-2:,:]=0\n",
    "        b[:2,:,:]=0\n",
    "        b[:,:2,:]=0\n",
    "        \n",
    "        b =  cv2.resize(b, None, fx=self.scale, fy=self.scale, interpolation=cv2.INTER_NEAREST)\n",
    "\n",
    "        self.to_draw[t,:,:,:]=b\n",
    "\n",
    "\n",
    "    def act(self, action):\n",
    "        \"\"\"This function returns the new state, reward and decides if the\n",
    "        game ends.\"\"\"\n",
    "\n",
    "        self.get_frame(int(self.t))\n",
    "\n",
    "        self.position = np.zeros((self.grid_size, self.grid_size))\n",
    "\n",
    "        self.position[0:2,:]= -1\n",
    "        self.position[:,0:2] = -1\n",
    "        self.position[-2:, :] = -1\n",
    "        self.position[-2:, :] = -1\n",
    "\n",
    "        self.position[self.x, self.y] = 1\n",
    "        if action == 0:\n",
    "            if self.x == self.grid_size-3:\n",
    "                self.x = self.x-1\n",
    "            else:\n",
    "                self.x = self.x + 1\n",
    "        elif action == 1:\n",
    "            if self.x == 2:\n",
    "                self.x = self.x+1\n",
    "            else:\n",
    "                self.x = self.x-1\n",
    "        elif action == 2:\n",
    "            if self.y == self.grid_size - 3:\n",
    "                self.y = self.y - 1\n",
    "            else:\n",
    "                self.y = self.y + 1\n",
    "        elif action == 3:\n",
    "            if self.y == 2:\n",
    "                self.y = self.y + 1\n",
    "            else:\n",
    "                self.y = self.y - 1\n",
    "        else:\n",
    "            RuntimeError('Error: action not recognized')\n",
    "\n",
    "        self.t = self.t + 1\n",
    "        reward = self.board[self.x, self.y]\n",
    "        self.board[self.x, self.y] = 0\n",
    "        game_over = self.t > self.max_time\n",
    "        state = np.concatenate((self.board.reshape(self.grid_size, self.grid_size,1),\n",
    "                        self.position.reshape(self.grid_size, self.grid_size,1)),axis=2)\n",
    "        state = state[self.x-2:self.x+3,self.y-2:self.y+3,:]\n",
    "\n",
    "        return state, reward, game_over\n",
    "\n",
    "    def reset(self):\n",
    "        \"\"\"This function resets the game and returns the initial state\"\"\"\n",
    "\n",
    "        self.x = np.random.randint(3, self.grid_size-3, size=1)[0]\n",
    "        self.y = np.random.randint(3, self.grid_size-3, size=1)[0]\n",
    "\n",
    "\n",
    "        bonus = 0.5*np.random.binomial(1,self.temperature,size=self.grid_size**2)\n",
    "        bonus = bonus.reshape(self.grid_size,self.grid_size)\n",
    "\n",
    "        malus = -1.0*np.random.binomial(1,self.temperature,size=self.grid_size**2)\n",
    "        malus = malus.reshape(self.grid_size, self.grid_size)\n",
    "\n",
    "        self.to_draw = np.zeros((self.max_time+2, self.grid_size*self.scale, self.grid_size*self.scale, 3))\n",
    "\n",
    "\n",
    "        malus[bonus>0]=0\n",
    "\n",
    "        self.board = bonus + malus\n",
    "\n",
    "        self.position = np.zeros((self.grid_size, self.grid_size))\n",
    "        self.position[0:2,:]= -1\n",
    "        self.position[:,0:2] = -1\n",
    "        self.position[-2:, :] = -1\n",
    "        self.position[-2:, :] = -1\n",
    "        self.board[self.x,self.y] = 0\n",
    "        self.t = 0\n",
    "\n",
    "        state = np.concatenate((\n",
    "                               self.board.reshape(self.grid_size, self.grid_size,1),\n",
    "                        self.position.reshape(self.grid_size, self.grid_size,1)),axis=2)\n",
    "\n",
    "        state = state[self.x - 2:self.x + 3, self.y - 2:self.y + 3, :]\n",
    "        return state"
   ]
  },
  {
   "cell_type": "markdown",
   "metadata": {},
   "source": [
    "The following elements are important because they correspond to the hyper parameters for this project:"
   ]
  },
  {
   "cell_type": "code",
   "execution_count": 107,
   "metadata": {},
   "outputs": [],
   "source": [
    "# parameters\n",
    "size = 13\n",
    "T=200\n",
    "temperature=0.3\n",
    "epochs_train=100 # set small when debugging\n",
    "epochs_test=20 # set small when debugging\n",
    "\n",
    "# display videos\n",
    "def display_videos(name):\n",
    "    video = io.open(name, 'r+b').read()\n",
    "    encoded = base64.b64encode(video)\n",
    "    return '''<video alt=\"test\" controls>\n",
    "                <source src=\"data:video/mp4;base64,{0}\" type=\"video/mp4\" />\n",
    "             </video>'''.format(encoded.decode('ascii'))"
   ]
  },
  {
   "cell_type": "markdown",
   "metadata": {},
   "source": [
    "__Question 2__ Explain the use of the arrays ```position``` and ```board```."
   ]
  },
  {
   "cell_type": "markdown",
   "metadata": {},
   "source": [
    "The array position is an attribute of the environment which represents the game board. Each value in the array is link to a box of the board. The box take the value 1 in the array when the rat is on this box and all boxes at the extremities have the value -1 because they are outside the grid. It is used to know where the rat is and where he can go.\n",
    "The array \"board\" is an attribute of the environment too. Like the attribute \"position\" it is an array where each value is link to a box of the board. But this array is used to define where are the rewards. The box where there is cheese have the value +0.5 and poisonous cells have the value -1. We change the value of cell to 0 when the rat walk on it and it's reward is added to the total reward of the rat thanks to variables \"win\" and \"lose\".\n",
    "These two variables are used to give view of it's near environment to the rat."
   ]
  },
  {
   "cell_type": "markdown",
   "metadata": {},
   "source": [
    "## Random Agent"
   ]
  },
  {
   "cell_type": "markdown",
   "metadata": {},
   "source": [
    "***\n",
    "__Question 3__ Implement a random Agent (only ```learned_act``` needs to be implemented):"
   ]
  },
  {
   "cell_type": "code",
   "execution_count": 86,
   "metadata": {},
   "outputs": [],
   "source": [
    "class RandomAgent(Agent):\n",
    "    def __init__(self):\n",
    "        super(RandomAgent, self).__init__()\n",
    "        pass\n",
    "\n",
    "    def learned_act(self, s):\n",
    "        return(np.random.randint(0,4))"
   ]
  },
  {
   "cell_type": "markdown",
   "metadata": {},
   "source": [
    "***\n",
    "***\n",
    "__Question 4__ Visualize the game moves. You need to fill in the following function for the evaluation:"
   ]
  },
  {
   "cell_type": "code",
   "execution_count": 87,
   "metadata": {},
   "outputs": [],
   "source": [
    "def test(agent,env,epochs,prefix=''):\n",
    "    # Number of won games\n",
    "    score = 0\n",
    "        \n",
    "    for e in range(epochs):\n",
    "        # At each epoch, we restart to a fresh game and get the initial state\n",
    "        state = env.reset()\n",
    "        # This assumes that the games will end\n",
    "        game_over = False\n",
    "\n",
    "        win = 0\n",
    "        lose = 0\n",
    "\n",
    "        while not game_over:\n",
    "            # The agent performs an action\n",
    "            action = agent.learned_act(state)\n",
    "            \n",
    "            # Apply an action to the environment, get the next state, the reward\n",
    "            # and if the games end\n",
    "            prev_state = state\n",
    "            state, reward, game_over = env.act(action)\n",
    "\n",
    "            # Update the counters\n",
    "            if reward > 0:\n",
    "                win = win + reward\n",
    "            if reward < 0:\n",
    "                lose = lose -reward\n",
    "        \n",
    "        # Save as a mp4\n",
    "        env.draw(prefix+str(e))\n",
    "\n",
    "        # Update stats\n",
    "        score = score + win-lose\n",
    "\n",
    "        print(\"Win/lose count {}/{}. Average score ({})\"\n",
    "              .format(win, lose, score/(1+e)))\n",
    "    print('Final score: '+str(score/epochs))"
   ]
  },
  {
   "cell_type": "code",
   "execution_count": 109,
   "metadata": {},
   "outputs": [
    {
     "name": "stdout",
     "output_type": "stream",
     "text": [
      "Win/lose count 9.5/8.0. Average score (1.5)\n",
      "Win/lose count 11.0/18.0. Average score (-2.75)\n",
      "Win/lose count 10.0/14.0. Average score (-3.1666666666666665)\n",
      "Win/lose count 7.0/11.0. Average score (-3.375)\n",
      "Win/lose count 9.0/19.0. Average score (-4.7)\n",
      "Win/lose count 14.0/19.0. Average score (-4.75)\n",
      "Win/lose count 10.5/9.0. Average score (-3.857142857142857)\n",
      "Win/lose count 9.5/17.0. Average score (-4.3125)\n",
      "Win/lose count 6.5/6.0. Average score (-3.7777777777777777)\n",
      "Win/lose count 7.5/16.0. Average score (-4.25)\n",
      "Win/lose count 6.5/12.0. Average score (-4.363636363636363)\n",
      "Win/lose count 7.5/15.0. Average score (-4.625)\n",
      "Win/lose count 14.0/10.0. Average score (-3.9615384615384617)\n",
      "Win/lose count 12.5/12.0. Average score (-3.642857142857143)\n",
      "Win/lose count 9.0/12.0. Average score (-3.6)\n",
      "Win/lose count 11.5/20.0. Average score (-3.90625)\n",
      "Win/lose count 11.0/17.0. Average score (-4.029411764705882)\n",
      "Win/lose count 14.5/10.0. Average score (-3.5555555555555554)\n",
      "Win/lose count 11.5/18.0. Average score (-3.710526315789474)\n",
      "Win/lose count 10.0/11.0. Average score (-3.575)\n",
      "Win/lose count 14.5/27.0. Average score (-4.0)\n",
      "Win/lose count 12.5/26.0. Average score (-4.431818181818182)\n",
      "Win/lose count 9.5/9.0. Average score (-4.217391304347826)\n",
      "Win/lose count 9.5/12.0. Average score (-4.145833333333333)\n",
      "Win/lose count 7.0/11.0. Average score (-4.14)\n",
      "Win/lose count 11.5/14.0. Average score (-4.076923076923077)\n",
      "Win/lose count 9.5/15.0. Average score (-4.12962962962963)\n",
      "Win/lose count 6.5/18.0. Average score (-4.392857142857143)\n",
      "Win/lose count 9.5/9.0. Average score (-4.224137931034483)\n",
      "Win/lose count 11.0/21.0. Average score (-4.416666666666667)\n",
      "Win/lose count 10.5/11.0. Average score (-4.290322580645161)\n",
      "Win/lose count 9.5/17.0. Average score (-4.390625)\n",
      "Win/lose count 10.0/18.0. Average score (-4.5)\n",
      "Win/lose count 9.5/5.0. Average score (-4.235294117647059)\n",
      "Win/lose count 12.0/9.0. Average score (-4.0285714285714285)\n",
      "Win/lose count 11.0/14.0. Average score (-4.0)\n",
      "Win/lose count 10.0/9.0. Average score (-3.864864864864865)\n",
      "Win/lose count 6.0/4.0. Average score (-3.710526315789474)\n",
      "Win/lose count 7.5/16.0. Average score (-3.8333333333333335)\n",
      "Win/lose count 8.5/11.0. Average score (-3.8)\n",
      "Win/lose count 10.0/12.0. Average score (-3.7560975609756095)\n",
      "Win/lose count 14.0/13.0. Average score (-3.642857142857143)\n",
      "Win/lose count 7.0/10.0. Average score (-3.627906976744186)\n",
      "Win/lose count 7.5/10.0. Average score (-3.602272727272727)\n",
      "Win/lose count 10.5/11.0. Average score (-3.533333333333333)\n",
      "Win/lose count 8.5/11.0. Average score (-3.510869565217391)\n",
      "Win/lose count 11.5/15.0. Average score (-3.5106382978723403)\n",
      "Win/lose count 9.0/8.0. Average score (-3.4166666666666665)\n",
      "Win/lose count 8.0/11.0. Average score (-3.4081632653061225)\n",
      "Win/lose count 5.5/12.0. Average score (-3.47)\n",
      "Final score: -3.47\n"
     ]
    },
    {
     "data": {
      "text/html": [
       "<video alt=\"test\" controls>\n",
       "                <source src=\"data:video/mp4;base64,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\" type=\"video/mp4\" />\n",
       "             </video>"
      ],
      "text/plain": [
       "<IPython.core.display.HTML object>"
      ]
     },
     "execution_count": 109,
     "metadata": {},
     "output_type": "execute_result"
    }
   ],
   "source": [
    "# Initialize the game\n",
    "env = Environment(grid_size=size, max_time=T,temperature=temperature)\n",
    "\n",
    "# Initialize the agent!\n",
    "agent = RandomAgent()\n",
    "\n",
    "test(agent,env,epochs_test,prefix='random')\n",
    "HTML(display_videos('random0.mp4'))"
   ]
  },
  {
   "cell_type": "markdown",
   "metadata": {},
   "source": [
    "***\n",
    "## DQN"
   ]
  },
  {
   "cell_type": "markdown",
   "metadata": {},
   "source": [
    "Let us assume here that $T=\\infty$.\n",
    "\n",
    "***\n",
    "__Question 5__ Let $\\pi$ be a policy, show that:\n",
    "\n",
    "\\begin{equation*}\n",
    "Q^{\\pi}(s,a)=E_{(s',a')\\sim p(.|s,a)}[r(s,a)+\\gamma Q^{\\pi}(s',a')]\n",
    "\\end{equation*}\n",
    "\n",
    "Then, show that for the optimal policy $\\pi^*$ (we assume its existence), the following holds: \n",
    "\n",
    "\\begin{equation*}\n",
    "Q^{*}(s,a)=E_{s'\\sim \\pi^*(.|s,a)}[r(s,a)+\\gamma\\max_{a'}Q^{*}(s',a')].\n",
    "\\end{equation*}\n",
    "Finally, deduce that a plausible objective is:\n",
    "\n",
    "\\begin{equation*}\n",
    "\\mathcal{L}(\\theta)=E_{s' \\sim \\pi^*(.|s,a)}\\Vert r+\\gamma\\max\\max_{a'}Q(s',a',\\theta)-Q(s,a,\\theta)\\Vert^{2}.\n",
    "\\end{equation*}\n",
    "\n",
    "\n"
   ]
  },
  {
   "cell_type": "markdown",
   "metadata": {},
   "source": [
    "Let $\\pi$ a policy\n",
    "\\begin{equation*}Q^\\pi(s,a)=E_{p^{\\pi}}[\\sum_{t\\leq T}\\gamma^{t}r(s_{t},a_{t})|s_{0}=s,a_{0}=a] \\> .\n",
    "\\end{equation*}\n",
    "With the equation of Bellman we determine that:\n",
    "\\begin{equation*}\n",
    "Q^{\\pi}(s,a)=E_{(s',a')\\sim p(.|s,a)}[r(s,a)+\\gamma Q^{\\pi}(s',a')]\n",
    "\\end{equation*}\n",
    "\n",
    "Let $\\pi^*$ the optimal policy\n",
    "\\begin{equation*}\n",
    "Q^*(s,a)=\\max_{\\pi}Q^\\pi(s,a)=\\max_{\\pi}E_{(s',a')\\sim p(.|s,a)}[r(s,a)+\\gamma Q^{\\pi}(s',a')] \\> .\n",
    "\\end{equation*}\n",
    "\\begin{equation*}\n",
    "Q^*(s,a)=E_{s'\\sim \\pi^*(.|s,a)}[r(s,a)+\\gamma Q^{\\pi}(s',a')]. \\> .\n",
    "\\end{equation*}\n",
    "\\begin{equation*}\n",
    "Q^*(s,a)=E_{s'\\sim \\pi^*(.|s,a)}[r(s,a)+\\gamma\\max_{a'}Q^{*}(s',a')]. \\> .\n",
    "\\end{equation*}\n",
    "\n",
    "We want to minimize the loss function $\\mathcal{L}(\\theta)$\n",
    "\n",
    "$$\\begin{equation*}\n",
    "\\mathcal{L}(\\theta) = E_{s' \\sim \\pi^*(.|s,a)}( ( Q^* (s,a,\\theta ) - Q(s,a,\\theta)) ^2) \n",
    "\\end{equation*}$$$$\\begin{equation*}\n",
    "\\mathcal{L}(\\theta) =  E_{s' \\sim \\pi^*(.|s,a)} ( ( r(s,a)+\\gamma\\max_{a'}Q^{*}(s',a', \\theta) - Q(s,a,\\theta)) ^2) \n",
    "\\end{equation*}$$$$\\begin{equation*}\n",
    "\\mathcal{L}(\\theta) = E_{s' \\sim \\pi^*(.|s,a)}\\Vert r+\\gamma\\max\\max_{a'}Q(s',a',\\theta)-Q(s,a,\\theta)\\Vert^{2}.\n",
    "\\end{equation*}$$"
   ]
  },
  {
   "cell_type": "markdown",
   "metadata": {},
   "source": [
    "***\n",
    "The DQN-learning algorithm relies on these derivations to train the parameters $\\theta$ of a Deep Neural Network:\n",
    "\n",
    "1. At the state $s_t$, select the action $a_t$ with best reward using $Q_t$ and store the results;\n",
    "\n",
    "2. Obtain the new state $s_{t+1}$ from the environment $p$;\n",
    "\n",
    "3. Store $(s_t,a_t,s_{t+1})$;\n",
    "\n",
    "4. Obtain $Q_{t+1}$ by minimizing  $\\mathcal{L}$ from a recovered batch from the previously stored results.\n",
    "\n",
    "***\n",
    "__Question 6__ Implement the class ```Memory``` that stores moves (in a replay buffer) via ```remember``` and provides a ```random_access``` to these. Specify a maximum memory size to avoid side effects. You can for example use a ```list()``` and set by default ```max_memory=100```."
   ]
  },
  {
   "cell_type": "code",
   "execution_count": 110,
   "metadata": {},
   "outputs": [],
   "source": [
    "class Memory(object):\n",
    "    def __init__(self, max_memory=100):\n",
    "        self.max_memory = max_memory\n",
    "        self.memory = list()\n",
    "\n",
    "    def remember(self, m):\n",
    "        if(len(self.memory)<max_memory):\n",
    "            self.memory.append(m)\n",
    "        else:\n",
    "            self.memory.append(m)\n",
    "            del(self.memory[0])\n",
    "\n",
    "    def random_access(self):\n",
    "        i = np.random.randint(0,len(self.memory))\n",
    "        return self.memory[i]"
   ]
  },
  {
   "cell_type": "markdown",
   "metadata": {},
   "source": [
    "***\n",
    "The pipeline we will use for training is given below:"
   ]
  },
  {
   "cell_type": "code",
   "execution_count": 111,
   "metadata": {},
   "outputs": [],
   "source": [
    "def train(agent,env,epoch,prefix=''):\n",
    "    # Number of won games\n",
    "    score = 0\n",
    "    loss = 0\n",
    "\n",
    "    for e in range(epoch):\n",
    "        # At each epoch, we restart to a fresh game and get the initial state\n",
    "        state = env.reset()\n",
    "        # This assumes that the games will terminate\n",
    "        game_over = False\n",
    "\n",
    "        win = 0\n",
    "        lose = 0\n",
    "\n",
    "        while not game_over:\n",
    "            # The agent performs an action\n",
    "            action = agent.act(state)\n",
    "\n",
    "            # Apply an action to the environment, get the next state, the reward\n",
    "            # and if the games end\n",
    "            prev_state = state\n",
    "            state, reward, game_over = env.act(action)\n",
    "\n",
    "            # Update the counters\n",
    "            if reward > 0:\n",
    "                win = win + reward\n",
    "            if reward < 0:\n",
    "                lose = lose -reward\n",
    "\n",
    "            # Apply the reinforcement strategy\n",
    "            loss = agent.reinforce(prev_state, state,  action, reward, game_over)\n",
    "\n",
    "        # Save as a mp4\n",
    "        if e % 10 == 0:\n",
    "            env.draw(prefix+str(e))\n",
    "\n",
    "        # Update stats\n",
    "        score += win-lose\n",
    "\n",
    "        print(\"Epoch {:03d}/{:03d} | Loss {:.4f} | Win/lose count {}/{} ({})\"\n",
    "              .format(e, epoch, loss, win, lose, win-lose))\n",
    "        agent.save(name_weights=prefix+'model.h5',name_model=prefix+'model.json')"
   ]
  },
  {
   "cell_type": "markdown",
   "metadata": {},
   "source": [
    "***\n",
    "__Question 7__ Implement the DQN training algorithm using a cascade of fully connected layers. You can use different learning rate, batch size or memory size parameters. In particular, the loss might oscillate while the player will start to win the games. You have to find a good criterium."
   ]
  },
  {
   "cell_type": "code",
   "execution_count": 112,
   "metadata": {},
   "outputs": [],
   "source": [
    "class DQN(Agent):\n",
    "    def __init__(self, grid_size,  epsilon = 0.1, memory_size=100, batch_size = 16,n_state=2):\n",
    "        super(DQN, self).__init__(epsilon = epsilon)\n",
    "\n",
    "        # Discount for Q learning\n",
    "        self.discount = 0.99\n",
    "        \n",
    "        self.grid_size = grid_size\n",
    "        \n",
    "        # number of state\n",
    "        self.n_state = n_state\n",
    "\n",
    "        # Memory\n",
    "        self.memory = Memory(memory_size)\n",
    "        \n",
    "        # Batch size when learning\n",
    "        self.batch_size = batch_size\n",
    "\n",
    "    def learned_act(self, s):\n",
    "        s = np.reshape(s,[1,5,5,self.n_state])\n",
    "        act_values = self.model.predict(s)\n",
    "        return(np.argmax(act_values[0]))\n",
    "\n",
    "    def reinforce(self, s_, n_s_, a_, r_, game_over_):\n",
    "        # Two steps: first memorize the states, second learn from the pool\n",
    "        \n",
    "        s_ = np.reshape(s_,[1,5,5,self.n_state])\n",
    "        n_s_ = np.reshape(n_s_,[1,5,5,self.n_state])\n",
    "\n",
    "        self.memory.remember([s_, n_s_, a_, r_, game_over_])\n",
    "        \n",
    "        input_states = np.zeros((self.batch_size, 5,5,self.n_state))\n",
    "        target_q = np.zeros((self.batch_size, 4))\n",
    "        \n",
    "        for i in range(self.batch_size):\n",
    "            target = r_\n",
    "            minibatch = self.memory.random_access()\n",
    "            \n",
    "            s_= minibatch[0]\n",
    "            n_s_= minibatch[1]\n",
    "            a_ = minibatch[2]\n",
    "            r_= minibatch[3]\n",
    "            game_over_= minibatch[4]\n",
    "            \n",
    "            input_states[i]= s_\n",
    "            \n",
    "            if game_over_:\n",
    "                target= r_\n",
    "            else:\n",
    "                target = (r_ + self.discount * np.amax(self.model.predict(n_s_)[0]))\n",
    "                \n",
    "            target_f = self.model.predict(s_)\n",
    "            target_f[0][a_] = target\n",
    "            self.model.fit(s_, target_f, epochs=1, verbose=0)\n",
    "            \n",
    "            target_q[i]=target_f\n",
    "        \n",
    "        # HINT: Clip the target to avoid exploiding gradients.. -- clipping is a bit tighter\n",
    "        target_q = np.clip(target_q, -3, 3)\n",
    "\n",
    "        l = self.model.train_on_batch(input_states, target_q)\n",
    "\n",
    "\n",
    "        return l\n",
    "\n",
    "    def save(self,name_weights='model.h5',name_model='model.json'):\n",
    "        self.model.save_weights(name_weights, overwrite=True)\n",
    "        with open(name_model, \"w\") as outfile:\n",
    "            json.dump(self.model.to_json(), outfile)\n",
    "            \n",
    "    def load(self,name_weights='model.h5',name_model='model.json'):\n",
    "        with open(name_model, \"r\") as jfile:\n",
    "            model = model_from_json(json.load(jfile))\n",
    "        model.load_weights(name_weights)\n",
    "        model.compile(\"sgd\", \"mse\")\n",
    "        self.model = model\n",
    "\n",
    "            \n",
    "class DQN_FC(DQN):\n",
    "    def __init__(self, *args, lr=0.1,**kwargs):\n",
    "        super(DQN_FC, self).__init__( *args,**kwargs)\n",
    "        \n",
    "        # NN Model\n",
    "        \n",
    "        state_size = 50\n",
    "        \n",
    "        model = Sequential()\n",
    "        model.add(Reshape((state_size,), input_shape=(5,5,self.n_state)))\n",
    "        model.add(Dense(512, input_dim=state_size, activation='relu'))\n",
    "        model.add(Dense(128, activation='relu'))\n",
    "        model.add(Dense(4, activation='linear'))\n",
    "        \n",
    "        model.compile(sgd(lr=lr, decay=1e-4, momentum=0.0), \"mse\")\n",
    "        self.model = model\n",
    "        "
   ]
  },
  {
   "cell_type": "code",
   "execution_count": 96,
   "metadata": {},
   "outputs": [
    {
     "name": "stdout",
     "output_type": "stream",
     "text": [
      "Epoch 000/100 | Loss 0.0013 | Win/lose count 0.5/1.0 (-0.5)\n",
      "Epoch 001/100 | Loss 0.0183 | Win/lose count 6.5/3.0 (3.5)\n",
      "Epoch 002/100 | Loss 0.1536 | Win/lose count 4.5/7.0 (-2.5)\n",
      "Epoch 003/100 | Loss 0.0198 | Win/lose count 2.0/1.0 (1.0)\n",
      "Epoch 004/100 | Loss 0.1430 | Win/lose count 4.0/5.0 (-1.0)\n",
      "Epoch 005/100 | Loss 0.0252 | Win/lose count 3.5/3.0 (0.5)\n",
      "Epoch 006/100 | Loss 0.1868 | Win/lose count 5.0/2.0 (3.0)\n",
      "Epoch 007/100 | Loss 0.0259 | Win/lose count 8.0/8.0 (0.0)\n",
      "Epoch 008/100 | Loss 0.0542 | Win/lose count 2.0/2.0 (0.0)\n",
      "Epoch 009/100 | Loss 0.0742 | Win/lose count 12.5/6.0 (6.5)\n",
      "Epoch 010/100 | Loss 0.0236 | Win/lose count 7.5/6.0 (1.5)\n",
      "Epoch 011/100 | Loss 0.1003 | Win/lose count 4.5/3.0 (1.5)\n",
      "Epoch 012/100 | Loss 0.0813 | Win/lose count 5.5/4.0 (1.5)\n",
      "Epoch 013/100 | Loss 0.1887 | Win/lose count 10.5/3.0 (7.5)\n",
      "Epoch 014/100 | Loss 0.0927 | Win/lose count 8.5/9.0 (-0.5)\n",
      "Epoch 015/100 | Loss 0.2281 | Win/lose count 7.5/1.0 (6.5)\n",
      "Epoch 016/100 | Loss 0.0587 | Win/lose count 8.0/5.0 (3.0)\n",
      "Epoch 017/100 | Loss 0.1598 | Win/lose count 4.5/4.0 (0.5)\n",
      "Epoch 018/100 | Loss 0.1436 | Win/lose count 6.0/4.0 (2.0)\n",
      "Epoch 019/100 | Loss 0.0892 | Win/lose count 6.5/1.0 (5.5)\n",
      "Epoch 020/100 | Loss 0.1470 | Win/lose count 9.5/1.0 (8.5)\n",
      "Epoch 021/100 | Loss 0.3436 | Win/lose count 16.0/2.0 (14.0)\n",
      "Epoch 022/100 | Loss 0.0953 | Win/lose count 8.5/7.0 (1.5)\n",
      "Epoch 023/100 | Loss 0.0981 | Win/lose count 14.0/3.0 (11.0)\n",
      "Epoch 024/100 | Loss 0.0547 | Win/lose count 4.5/2.0 (2.5)\n",
      "Epoch 025/100 | Loss 0.2544 | Win/lose count 12.0/4.0 (8.0)\n",
      "Epoch 026/100 | Loss 0.1582 | Win/lose count 10.0/3.0 (7.0)\n",
      "Epoch 027/100 | Loss 0.2478 | Win/lose count 17.5/1.0 (16.5)\n",
      "Epoch 028/100 | Loss 0.1811 | Win/lose count 11.0/7.0 (4.0)\n",
      "Epoch 029/100 | Loss 0.1066 | Win/lose count 14.5/5.0 (9.5)\n",
      "Epoch 030/100 | Loss 0.2026 | Win/lose count 12.5/2.0 (10.5)\n",
      "Epoch 031/100 | Loss 0.1132 | Win/lose count 6.0/4.0 (2.0)\n",
      "Epoch 032/100 | Loss 0.1644 | Win/lose count 9.5/4.0 (5.5)\n",
      "Epoch 033/100 | Loss 0.1665 | Win/lose count 6.0/5.0 (1.0)\n",
      "Epoch 034/100 | Loss 0.0605 | Win/lose count 5.5/2.0 (3.5)\n",
      "Epoch 035/100 | Loss 0.1765 | Win/lose count 5.5/1.0 (4.5)\n",
      "Epoch 036/100 | Loss 0.1991 | Win/lose count 9.5/4.0 (5.5)\n",
      "Epoch 037/100 | Loss 0.1274 | Win/lose count 7.0/4.0 (3.0)\n",
      "Epoch 038/100 | Loss 0.1834 | Win/lose count 8.0/2.0 (6.0)\n",
      "Epoch 039/100 | Loss 0.2379 | Win/lose count 9.0/3.0 (6.0)\n",
      "Epoch 040/100 | Loss 0.1598 | Win/lose count 15.5/3.0 (12.5)\n",
      "Epoch 041/100 | Loss 0.0803 | Win/lose count 13.0/3.0 (10.0)\n",
      "Epoch 042/100 | Loss 0.0889 | Win/lose count 8.0/1.0 (7.0)\n",
      "Epoch 043/100 | Loss 0.2196 | Win/lose count 10.0/5.0 (5.0)\n",
      "Epoch 044/100 | Loss 0.0907 | Win/lose count 8.5/2.0 (6.5)\n",
      "Epoch 045/100 | Loss 0.1395 | Win/lose count 6.5/0 (6.5)\n",
      "Epoch 046/100 | Loss 0.1280 | Win/lose count 10.0/5.0 (5.0)\n",
      "Epoch 047/100 | Loss 0.2132 | Win/lose count 11.0/3.0 (8.0)\n",
      "Epoch 048/100 | Loss 0.1417 | Win/lose count 6.0/5.0 (1.0)\n",
      "Epoch 049/100 | Loss 0.3113 | Win/lose count 12.5/3.0 (9.5)\n",
      "Epoch 050/100 | Loss 0.2617 | Win/lose count 16.5/4.0 (12.5)\n",
      "Epoch 051/100 | Loss 0.1188 | Win/lose count 10.0/3.0 (7.0)\n",
      "Epoch 052/100 | Loss 0.2685 | Win/lose count 13.0/4.0 (9.0)\n",
      "Epoch 053/100 | Loss 0.2139 | Win/lose count 10.5/4.0 (6.5)\n",
      "Epoch 054/100 | Loss 0.1902 | Win/lose count 9.0/3.0 (6.0)\n",
      "Epoch 055/100 | Loss 0.1684 | Win/lose count 16.0/3.0 (13.0)\n",
      "Epoch 056/100 | Loss 0.4481 | Win/lose count 12.5/3.0 (9.5)\n",
      "Epoch 057/100 | Loss 0.2668 | Win/lose count 10.5/7.0 (3.5)\n",
      "Epoch 058/100 | Loss 0.3041 | Win/lose count 14.0/5.0 (9.0)\n",
      "Epoch 059/100 | Loss 0.2269 | Win/lose count 3.0/2.0 (1.0)\n",
      "Epoch 060/100 | Loss 0.1592 | Win/lose count 13.5/1.0 (12.5)\n",
      "Epoch 061/100 | Loss 0.5743 | Win/lose count 14.0/5.0 (9.0)\n",
      "Epoch 062/100 | Loss 0.1095 | Win/lose count 13.5/5.0 (8.5)\n",
      "Epoch 063/100 | Loss 0.1369 | Win/lose count 6.5/4.0 (2.5)\n",
      "Epoch 064/100 | Loss 0.3296 | Win/lose count 11.5/3.0 (8.5)\n",
      "Epoch 065/100 | Loss 0.1482 | Win/lose count 5.5/0 (5.5)\n",
      "Epoch 066/100 | Loss 0.3319 | Win/lose count 11.5/3.0 (8.5)\n",
      "Epoch 067/100 | Loss 0.1485 | Win/lose count 3.5/2.0 (1.5)\n",
      "Epoch 068/100 | Loss 0.0860 | Win/lose count 8.0/1.0 (7.0)\n",
      "Epoch 069/100 | Loss 0.6126 | Win/lose count 17.0/2.0 (15.0)\n",
      "Epoch 070/100 | Loss 0.3239 | Win/lose count 13.0/2.0 (11.0)\n",
      "Epoch 071/100 | Loss 0.3103 | Win/lose count 11.5/3.0 (8.5)\n",
      "Epoch 072/100 | Loss 0.1076 | Win/lose count 7.0/4.0 (3.0)\n",
      "Epoch 073/100 | Loss 0.2440 | Win/lose count 19.0/5.0 (14.0)\n",
      "Epoch 074/100 | Loss 0.3106 | Win/lose count 21.0/4.0 (17.0)\n",
      "Epoch 075/100 | Loss 0.4033 | Win/lose count 14.0/2.0 (12.0)\n",
      "Epoch 076/100 | Loss 0.1483 | Win/lose count 12.0/2.0 (10.0)\n",
      "Epoch 077/100 | Loss 0.8602 | Win/lose count 13.5/1.0 (12.5)\n",
      "Epoch 078/100 | Loss 0.6571 | Win/lose count 18.5/3.0 (15.5)\n",
      "Epoch 079/100 | Loss 0.2113 | Win/lose count 19.0/4.0 (15.0)\n",
      "Epoch 080/100 | Loss 0.1514 | Win/lose count 9.0/3.0 (6.0)\n",
      "Epoch 081/100 | Loss 0.2613 | Win/lose count 7.5/3.0 (4.5)\n",
      "Epoch 082/100 | Loss 0.2301 | Win/lose count 5.0/5.0 (0.0)\n",
      "Epoch 083/100 | Loss 0.3241 | Win/lose count 15.0/7.0 (8.0)\n",
      "Epoch 084/100 | Loss 0.2632 | Win/lose count 13.0/5.0 (8.0)\n",
      "Epoch 085/100 | Loss 1.0102 | Win/lose count 13.0/3.0 (10.0)\n",
      "Epoch 086/100 | Loss 0.1923 | Win/lose count 12.0/2.0 (10.0)\n",
      "Epoch 087/100 | Loss 0.4024 | Win/lose count 19.5/2.0 (17.5)\n",
      "Epoch 088/100 | Loss 0.3437 | Win/lose count 14.0/6.0 (8.0)\n",
      "Epoch 089/100 | Loss 0.2205 | Win/lose count 12.5/3.0 (9.5)\n",
      "Epoch 090/100 | Loss 0.2277 | Win/lose count 19.5/6.0 (13.5)\n",
      "Epoch 091/100 | Loss 0.5219 | Win/lose count 13.0/3.0 (10.0)\n",
      "Epoch 092/100 | Loss 0.1744 | Win/lose count 15.5/5.0 (10.5)\n",
      "Epoch 093/100 | Loss 0.3399 | Win/lose count 13.5/2.0 (11.5)\n",
      "Epoch 094/100 | Loss 0.1926 | Win/lose count 9.0/6.0 (3.0)\n",
      "Epoch 095/100 | Loss 0.1793 | Win/lose count 12.5/1.0 (11.5)\n",
      "Epoch 096/100 | Loss 0.1414 | Win/lose count 4.5/2.0 (2.5)\n",
      "Epoch 097/100 | Loss 0.6285 | Win/lose count 18.0/4.0 (14.0)\n",
      "Epoch 098/100 | Loss 0.3645 | Win/lose count 20.0/1.0 (19.0)\n",
      "Epoch 099/100 | Loss 4.0322 | Win/lose count 18.5/4.0 (14.5)\n"
     ]
    },
    {
     "data": {
      "text/html": [
       "<video alt=\"test\" controls>\n",
       "                <source src=\"data:video/mp4;base64,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\" type=\"video/mp4\" />\n",
       "             </video>"
      ],
      "text/plain": [
       "<IPython.core.display.HTML object>"
      ]
     },
     "execution_count": 96,
     "metadata": {},
     "output_type": "execute_result"
    }
   ],
   "source": [
    "#Model avec deux couches de 512 et 128 neurones\n",
    "env = Environment(grid_size=size, max_time=T, temperature=0.3)\n",
    "agent = DQN_FC(size, lr=.1, epsilon = 0.1, memory_size=2000, batch_size = 32)\n",
    "train(agent, env, epochs_train, prefix='fc_train')\n",
    "HTML(display_videos('fc_train10.mp4'))#Model avec deux couches et 512,128 neurones"
   ]
  },
  {
   "cell_type": "markdown",
   "metadata": {},
   "source": [
    "***\n",
    "***\n",
    "__Question 8__ Implement the DQN training algorithm using a CNN (for example, 2 convolutional layers and one final fully connected layer)."
   ]
  },
  {
   "cell_type": "code",
   "execution_count": 104,
   "metadata": {},
   "outputs": [],
   "source": [
    "class DQN_CNN(DQN):\n",
    "    def __init__(self, *args,lr=0.1,**kwargs):\n",
    "        super(DQN_CNN, self).__init__(*args,**kwargs)\n",
    "        \n",
    "        filters = 32\n",
    "        kernel_size = (2,2)\n",
    "        \n",
    "        model = Sequential()\n",
    "        model.add(Conv2D(filters, kernel_size, input_shape=(5,5,self.n_state), activation='relu'))\n",
    "        model.add(Conv2D(filters, kernel_size, activation='relu'))\n",
    "        model.add(Dropout(0.2))\n",
    "        model.add(Flatten())\n",
    "        model.add(Dense(4, activation='linear'))\n",
    "        \n",
    "        model.compile(sgd(lr=lr, decay=1e-4, momentum=0.0), \"mse\")\n",
    "        self.model = model"
   ]
  },
  {
   "cell_type": "code",
   "execution_count": 105,
   "metadata": {},
   "outputs": [
    {
     "name": "stdout",
     "output_type": "stream",
     "text": [
      "Epoch 000/100 | Loss nan | Win/lose count 5.0/7.0 (-2.0)\n",
      "Epoch 001/100 | Loss nan | Win/lose count 3.0/6.0 (-3.0)\n",
      "Epoch 002/100 | Loss nan | Win/lose count 0.5/0 (0.5)\n",
      "Epoch 003/100 | Loss nan | Win/lose count 0.5/1.0 (-0.5)\n",
      "Epoch 004/100 | Loss nan | Win/lose count 2.0/1.0 (1.0)\n",
      "Epoch 005/100 | Loss nan | Win/lose count 1.5/4.0 (-2.5)\n",
      "Epoch 006/100 | Loss nan | Win/lose count 2.0/1.0 (1.0)\n",
      "Epoch 007/100 | Loss nan | Win/lose count 1.0/1.0 (0.0)\n",
      "Epoch 008/100 | Loss nan | Win/lose count 2.5/2.0 (0.5)\n",
      "Epoch 009/100 | Loss nan | Win/lose count 1.0/5.0 (-4.0)\n",
      "Epoch 010/100 | Loss nan | Win/lose count 3.0/3.0 (0.0)\n",
      "Epoch 011/100 | Loss nan | Win/lose count 1.5/2.0 (-0.5)\n",
      "Epoch 012/100 | Loss nan | Win/lose count 2.5/3.0 (-0.5)\n",
      "Epoch 013/100 | Loss nan | Win/lose count 4.5/4.0 (0.5)\n",
      "Epoch 014/100 | Loss nan | Win/lose count 1.5/2.0 (-0.5)\n",
      "Epoch 015/100 | Loss nan | Win/lose count 2.5/3.0 (-0.5)\n",
      "Epoch 016/100 | Loss nan | Win/lose count 2.5/5.0 (-2.5)\n",
      "Epoch 017/100 | Loss nan | Win/lose count 3.0/3.0 (0.0)\n",
      "Epoch 018/100 | Loss nan | Win/lose count 1.5/0 (1.5)\n",
      "Epoch 019/100 | Loss nan | Win/lose count 1.5/3.0 (-1.5)\n",
      "Epoch 020/100 | Loss nan | Win/lose count 2.0/3.0 (-1.0)\n",
      "Epoch 021/100 | Loss nan | Win/lose count 0.5/0 (0.5)\n",
      "Epoch 022/100 | Loss nan | Win/lose count 2.0/1.0 (1.0)\n",
      "Epoch 023/100 | Loss nan | Win/lose count 0/2.0 (-2.0)\n",
      "Epoch 024/100 | Loss nan | Win/lose count 1.5/2.0 (-0.5)\n",
      "Epoch 025/100 | Loss nan | Win/lose count 0.5/3.0 (-2.5)\n",
      "Epoch 026/100 | Loss nan | Win/lose count 0.5/4.0 (-3.5)\n",
      "Epoch 027/100 | Loss nan | Win/lose count 4.0/4.0 (0.0)\n",
      "Epoch 028/100 | Loss nan | Win/lose count 2.5/2.0 (0.5)\n",
      "Epoch 029/100 | Loss nan | Win/lose count 0.5/2.0 (-1.5)\n",
      "Epoch 030/100 | Loss nan | Win/lose count 2.0/3.0 (-1.0)\n",
      "Epoch 031/100 | Loss nan | Win/lose count 2.0/2.0 (0.0)\n",
      "Epoch 032/100 | Loss nan | Win/lose count 3.0/2.0 (1.0)\n",
      "Epoch 033/100 | Loss nan | Win/lose count 2.5/5.0 (-2.5)\n",
      "Epoch 034/100 | Loss nan | Win/lose count 2.0/2.0 (0.0)\n",
      "Epoch 035/100 | Loss nan | Win/lose count 2.5/8.0 (-5.5)\n",
      "Epoch 036/100 | Loss nan | Win/lose count 2.0/2.0 (0.0)\n",
      "Epoch 037/100 | Loss nan | Win/lose count 2.0/4.0 (-2.0)\n",
      "Epoch 038/100 | Loss nan | Win/lose count 3.0/3.0 (0.0)\n",
      "Epoch 039/100 | Loss nan | Win/lose count 1.5/4.0 (-2.5)\n",
      "Epoch 040/100 | Loss nan | Win/lose count 2.5/2.0 (0.5)\n",
      "Epoch 041/100 | Loss nan | Win/lose count 0/1.0 (-1.0)\n",
      "Epoch 042/100 | Loss nan | Win/lose count 2.5/5.0 (-2.5)\n",
      "Epoch 043/100 | Loss nan | Win/lose count 3.5/3.0 (0.5)\n",
      "Epoch 044/100 | Loss nan | Win/lose count 1.5/3.0 (-1.5)\n",
      "Epoch 045/100 | Loss nan | Win/lose count 3.0/5.0 (-2.0)\n",
      "Epoch 046/100 | Loss nan | Win/lose count 5.0/4.0 (1.0)\n",
      "Epoch 047/100 | Loss nan | Win/lose count 3.0/2.0 (1.0)\n",
      "Epoch 048/100 | Loss nan | Win/lose count 3.5/3.0 (0.5)\n",
      "Epoch 049/100 | Loss nan | Win/lose count 1.5/1.0 (0.5)\n",
      "Epoch 050/100 | Loss nan | Win/lose count 2.0/3.0 (-1.0)\n",
      "Epoch 051/100 | Loss nan | Win/lose count 0.5/2.0 (-1.5)\n",
      "Epoch 052/100 | Loss nan | Win/lose count 1.0/0 (1.0)\n",
      "Epoch 053/100 | Loss nan | Win/lose count 2.0/1.0 (1.0)\n",
      "Epoch 054/100 | Loss nan | Win/lose count 3.0/3.0 (0.0)\n",
      "Epoch 055/100 | Loss nan | Win/lose count 2.0/4.0 (-2.0)\n",
      "Epoch 056/100 | Loss nan | Win/lose count 1.5/3.0 (-1.5)\n",
      "Epoch 057/100 | Loss nan | Win/lose count 4.0/4.0 (0.0)\n",
      "Epoch 058/100 | Loss nan | Win/lose count 0.5/4.0 (-3.5)\n",
      "Epoch 059/100 | Loss nan | Win/lose count 2.0/2.0 (0.0)\n",
      "Epoch 060/100 | Loss nan | Win/lose count 1.5/3.0 (-1.5)\n",
      "Epoch 061/100 | Loss nan | Win/lose count 0/4.0 (-4.0)\n",
      "Epoch 062/100 | Loss nan | Win/lose count 0.5/1.0 (-0.5)\n",
      "Epoch 063/100 | Loss nan | Win/lose count 0.5/1.0 (-0.5)\n",
      "Epoch 064/100 | Loss nan | Win/lose count 1.5/3.0 (-1.5)\n",
      "Epoch 065/100 | Loss nan | Win/lose count 2.5/3.0 (-0.5)\n",
      "Epoch 066/100 | Loss nan | Win/lose count 1.0/2.0 (-1.0)\n",
      "Epoch 067/100 | Loss nan | Win/lose count 3.0/5.0 (-2.0)\n",
      "Epoch 068/100 | Loss nan | Win/lose count 1.0/1.0 (0.0)\n",
      "Epoch 069/100 | Loss nan | Win/lose count 2.5/7.0 (-4.5)\n",
      "Epoch 070/100 | Loss nan | Win/lose count 1.0/1.0 (0.0)\n",
      "Epoch 071/100 | Loss nan | Win/lose count 2.5/1.0 (1.5)\n",
      "Epoch 072/100 | Loss nan | Win/lose count 2.5/4.0 (-1.5)\n",
      "Epoch 073/100 | Loss nan | Win/lose count 3.0/4.0 (-1.0)\n",
      "Epoch 074/100 | Loss nan | Win/lose count 2.0/4.0 (-2.0)\n",
      "Epoch 075/100 | Loss nan | Win/lose count 1.0/1.0 (0.0)\n",
      "Epoch 076/100 | Loss nan | Win/lose count 1.0/1.0 (0.0)\n",
      "Epoch 077/100 | Loss nan | Win/lose count 3.0/4.0 (-1.0)\n",
      "Epoch 078/100 | Loss nan | Win/lose count 4.5/4.0 (0.5)\n",
      "Epoch 079/100 | Loss nan | Win/lose count 1.0/2.0 (-1.0)\n",
      "Epoch 080/100 | Loss nan | Win/lose count 1.5/4.0 (-2.5)\n",
      "Epoch 081/100 | Loss nan | Win/lose count 2.0/2.0 (0.0)\n",
      "Epoch 082/100 | Loss nan | Win/lose count 1.5/1.0 (0.5)\n",
      "Epoch 083/100 | Loss nan | Win/lose count 4.0/6.0 (-2.0)\n",
      "Epoch 084/100 | Loss nan | Win/lose count 2.0/3.0 (-1.0)\n",
      "Epoch 085/100 | Loss nan | Win/lose count 1.5/5.0 (-3.5)\n",
      "Epoch 086/100 | Loss nan | Win/lose count 2.5/5.0 (-2.5)\n",
      "Epoch 087/100 | Loss nan | Win/lose count 0/0 (0)\n",
      "Epoch 088/100 | Loss nan | Win/lose count 2.5/2.0 (0.5)\n",
      "Epoch 089/100 | Loss nan | Win/lose count 3.0/2.0 (1.0)\n",
      "Epoch 090/100 | Loss nan | Win/lose count 2.0/1.0 (1.0)\n",
      "Epoch 091/100 | Loss nan | Win/lose count 2.0/5.0 (-3.0)\n",
      "Epoch 092/100 | Loss nan | Win/lose count 1.5/3.0 (-1.5)\n",
      "Epoch 093/100 | Loss nan | Win/lose count 2.0/1.0 (1.0)\n",
      "Epoch 094/100 | Loss nan | Win/lose count 2.0/4.0 (-2.0)\n",
      "Epoch 095/100 | Loss nan | Win/lose count 2.0/7.0 (-5.0)\n",
      "Epoch 096/100 | Loss nan | Win/lose count 1.5/6.0 (-4.5)\n",
      "Epoch 097/100 | Loss nan | Win/lose count 1.0/6.0 (-5.0)\n",
      "Epoch 098/100 | Loss nan | Win/lose count 2.0/4.0 (-2.0)\n",
      "Epoch 099/100 | Loss nan | Win/lose count 1.5/0 (1.5)\n"
     ]
    },
    {
     "data": {
      "text/html": [
       "<video alt=\"test\" controls>\n",
       "                <source src=\"data:video/mp4;base64,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\" type=\"video/mp4\" />\n",
       "             </video>"
      ],
      "text/plain": [
       "<IPython.core.display.HTML object>"
      ]
     },
     "execution_count": 105,
     "metadata": {},
     "output_type": "execute_result"
    }
   ],
   "source": [
    "env = Environment(grid_size=size, max_time=T, temperature=0.3)\n",
    "agent = DQN_CNN(size, lr=.1, epsilon = 0.1, memory_size=2000, batch_size = 32)\n",
    "train(agent,env,epochs_train,prefix='cnn_train')\n",
    "HTML(display_videos('cnn_train10.mp4'))"
   ]
  },
  {
   "cell_type": "markdown",
   "metadata": {},
   "source": [
    "***\n",
    "***\n",
    "__Question 9__ Test both algorithms and compare their performances. Which issue(s) do you observe? Observe also different behaviors by changing the temperature."
   ]
  },
  {
   "cell_type": "code",
   "execution_count": null,
   "metadata": {
    "collapsed": true
   },
   "outputs": [],
   "source": [
    "env = Environment(grid_size=size, max_time=T,temperature=0.3)\n",
    "agent_cnn = DQN_CNN(size, lr=.1, epsilon = 0.1, memory_size=2000, batch_size = 32)\n",
    "agent_cnn.load(name_weights='cnn_trainmodel.h5',name_model='cnn_trainmodel.json')\n",
    "\n",
    "agent_fc = DQN_FC(size, lr=.1, epsilon = 0.1, memory_size=2000, batch_size = 32)\n",
    "agent_cnn.load(name_weights='fc_trainmodel.h5',name_model='fc_trainmodel.json')\n",
    "print('Test of the CNN')\n",
    "test(agent_cnn,env,epochs_test,prefix='cnn_test')\n",
    "print('Test of the FC')\n",
    "test(agent_fc,env,epochs_test,prefix='fc_test')"
   ]
  },
  {
   "cell_type": "code",
   "execution_count": null,
   "metadata": {
    "collapsed": true
   },
   "outputs": [],
   "source": [
    "HTML(display_videos('cnn_test10.mp4'))"
   ]
  },
  {
   "cell_type": "code",
   "execution_count": null,
   "metadata": {
    "collapsed": true
   },
   "outputs": [],
   "source": [
    "HTML(display_videos('fc_test10.mp4'))"
   ]
  },
  {
   "cell_type": "markdown",
   "metadata": {},
   "source": []
  },
  {
   "cell_type": "markdown",
   "metadata": {},
   "source": [
    "***\n",
    "\n",
    "The algorithm tends to not explore the map which can be an issue. We propose two ideas in order to encourage exploration:\n",
    "1. Incorporating a decreasing $\\epsilon$-greedy exploration. You can use the method ```set_epsilon```\n",
    "2. Append via the environment a new state that describes if a cell has been visited or not\n",
    "\n",
    "***\n",
    "__Question 10__ Design a new ```train_explore``` function and environment class ```EnvironmentExploring``` to tackle the issue of exploration.\n",
    "\n"
   ]
  },
  {
   "cell_type": "code",
   "execution_count": null,
   "metadata": {
    "collapsed": true
   },
   "outputs": [],
   "source": [
    "def train_explore(agent,env,epoch,prefix=''):\n",
    "    pass\n",
    "        \n",
    "class EnvironmentExploring(object):\n",
    "    def __init__(self, grid_size=10, max_time=500, temperature=0.1):\n",
    "        pass\n",
    "    \n",
    "## use those samples of code:\n",
    "#In train explore:\n",
    "state, reward, game_over = env.act(action, train=True)\n",
    "\n",
    "## In Environment exploring:\n",
    "# You will have to change n_state to 3 because you will use one more layer!\n",
    "reward = 0\n",
    "if train:\n",
    "    reward = -self.malus_position[self.x, self.y]\n",
    "self.malus_position[self.x, self.y] = 0.1\n",
    "\n",
    "reward = reward + self.board[self.x, self.y]\n",
    "# 3 \"feature\" states instead of 2\n",
    "state = np.concatenate((self.malus_position.reshape(self.grid_size, self.grid_size,1),\n",
    "                                self.board.reshape(self.grid_size, self.grid_size,1),\n",
    "                        self.position.reshape(self.grid_size, self.grid_size,1)),axis=2)"
   ]
  },
  {
   "cell_type": "code",
   "execution_count": null,
   "metadata": {
    "collapsed": true
   },
   "outputs": [],
   "source": [
    "# Training\n",
    "env = EnvironmentExploring(grid_size=size, max_time=T, temperature=0.3)\n",
    "agent = DQN_CNN(size, lr=.1, epsilon = 0.1, memory_size=2000, batch_size = 32,n_state=3)\n",
    "train_explore(agent, env, epochs_train, prefix='cnn_train_explore')\n",
    "HTML(display_videos('cnn_train_explore10.mp4'))"
   ]
  },
  {
   "cell_type": "code",
   "execution_count": null,
   "metadata": {
    "collapsed": true
   },
   "outputs": [],
   "source": [
    "# Evaluation\n",
    "test(agent,env,epochs_test,prefix='cnn_test_explore')\n",
    "HTML(display_videos('cnn_test_explore10.mp4'))"
   ]
  },
  {
   "cell_type": "markdown",
   "metadata": {},
   "source": [
    "***\n",
    "***\n",
    "__BONUS question__ Use the expert DQN from the previous question to generate some winning games. Train a model that mimicks its behavior. Compare the performances."
   ]
  },
  {
   "cell_type": "markdown",
   "metadata": {},
   "source": []
  },
  {
   "cell_type": "markdown",
   "metadata": {},
   "source": [
    "***"
   ]
  }
 ],
 "metadata": {
  "kernelspec": {
   "display_name": "Python 3",
   "language": "python",
   "name": "python3"
  },
  "language_info": {
   "codemirror_mode": {
    "name": "ipython",
    "version": 3
   },
   "file_extension": ".py",
   "mimetype": "text/x-python",
   "name": "python",
   "nbconvert_exporter": "python",
   "pygments_lexer": "ipython3",
   "version": "3.6.7"
  }
 },
 "nbformat": 4,
 "nbformat_minor": 2
}
