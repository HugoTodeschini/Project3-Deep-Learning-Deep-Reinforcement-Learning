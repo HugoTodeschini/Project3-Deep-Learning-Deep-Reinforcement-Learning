{
 "cells": [
  {
   "cell_type": "markdown",
   "metadata": {},
   "source": [
    "**You may need to install [OpenCV](https://pypi.python.org/pypi/opencv-python) and [scikit-video](http://www.scikit-video.org/stable/).**"
   ]
  },
  {
   "cell_type": "code",
   "execution_count": 59,
   "metadata": {},
   "outputs": [],
   "source": [
    "import keras\n",
    "import numpy as np\n",
    "import io\n",
    "import base64\n",
    "from IPython.display import HTML\n",
    "import skvideo.io\n",
    "import cv2\n",
    "import json\n",
    "\n",
    "from keras.models import Sequential,model_from_json\n",
    "from keras.layers.core import Dense\n",
    "from keras.optimizers import sgd\n",
    "from keras.layers import Conv2D, MaxPooling2D, Activation, AveragePooling2D,Reshape,BatchNormalization"
   ]
  },
  {
   "cell_type": "markdown",
   "metadata": {},
   "source": [
    "# MiniProject #3: Deep Reinforcement Learning"
   ]
  },
  {
   "cell_type": "markdown",
   "metadata": {},
   "source": [
    "__Notations__: $E_p$ is the expectation under probability $p$. Please justify each of your answer and widely comment your code."
   ]
  },
  {
   "cell_type": "markdown",
   "metadata": {},
   "source": [
    "# Context"
   ]
  },
  {
   "cell_type": "markdown",
   "metadata": {},
   "source": [
    "In a reinforcement learning algorithm, we modelize each step $t$ as an action $a_t$ obtained from a state $s_t$, i.e. $\\{(a_{t},s_{t})_{t\\leq T}\\}$ having the Markov property. We consider a discount factor $\\gamma \\in [0,1]$ that ensures convergence. The goal is to find among all the policies $\\pi$, one that maximizes the expected reward:\n",
    "\n",
    "\\begin{equation*}\n",
    "R(\\pi)=\\sum_{t\\leq T}E_{p^{\\pi}}[\\gamma^t r(s_{t},a_{t})] \\> ,\n",
    "\\end{equation*}\n",
    "\n",
    "where: \n",
    "\\begin{equation*}p^{\\pi}(a_{0},a_{1},s_{1},...,a_{T},s_{T})=p(a_{0})\\prod_{t=1}^{T}\\pi(a_{t}|s_{t})p(s_{t+1}|s_{t},a_{t}) \\> .\n",
    "\\end{equation*}\n",
    "\n",
    "We note the $Q$-function:\n",
    "\n",
    "\\begin{equation*}Q^\\pi(s,a)=E_{p^{\\pi}}[\\sum_{t\\leq T}\\gamma^{t}r(s_{t},a_{t})|s_{0}=s,a_{0}=a] \\> .\n",
    "\\end{equation*}\n",
    "\n",
    "Thus, the optimal Q function is:\n",
    "\\begin{equation*}\n",
    "Q^*(s,a)=\\max_{\\pi}Q^\\pi(s,a) \\> .\n",
    "\\end{equation*}\n",
    "\n",
    "In this project, we will apply the deep reinforcement learning techniques to a simple game: an agent will have to learn from scratch a policy that will permit it maximizing a reward."
   ]
  },
  {
   "cell_type": "markdown",
   "metadata": {},
   "source": [
    "## The environment, the agent and the game"
   ]
  },
  {
   "cell_type": "markdown",
   "metadata": {},
   "source": [
    "### The environment"
   ]
  },
  {
   "cell_type": "markdown",
   "metadata": {},
   "source": [
    "```Environment``` is an abstract class that represents the states, rewards, and actions to obtain the new state."
   ]
  },
  {
   "cell_type": "code",
   "execution_count": 60,
   "metadata": {},
   "outputs": [],
   "source": [
    "class Environment(object):\n",
    "    def __init__(self):\n",
    "        pass\n",
    "\n",
    "    def act(self, act):\n",
    "        \"\"\"\n",
    "        One can act on the environment and obtain its reaction:\n",
    "        - the new state\n",
    "        - the reward of the new state\n",
    "        - should we continue the game?\n",
    "\n",
    "        :return: state, reward, game_over\n",
    "        \"\"\"\n",
    "        pass\n",
    "\n",
    "\n",
    "    def reset(self):\n",
    "        \"\"\"\n",
    "        Reinitialize the environment to a random state and returns\n",
    "        the original state\n",
    "\n",
    "        :return: state\n",
    "        \"\"\"\n",
    "        pass\n",
    "    \n",
    "    def draw(self):\n",
    "        \"\"\"\n",
    "        Visualize in the console or graphically the current state\n",
    "        \"\"\"\n",
    "        pass"
   ]
  },
  {
   "cell_type": "markdown",
   "metadata": {},
   "source": [
    "The method ```act``` allows to act on the environment at a given state $s_t$ (stored internally), via action $a_t$. The method will return the new state $s_{t+1}$, the reward $r(s_{t},a_{t})$ and determines if $t\\leq T$ (*game_over*).\n",
    "\n",
    "The method ```reset``` simply reinitializes the environment to a random state $s_0$.\n",
    "\n",
    "The method ```draw``` displays the current state $s_t$ (this is useful to check the behavior of the Agent).\n",
    "\n",
    "We modelize $s_t$ as a tensor, while $a_t$ is an integer."
   ]
  },
  {
   "cell_type": "markdown",
   "metadata": {},
   "source": [
    "### The Agent"
   ]
  },
  {
   "cell_type": "markdown",
   "metadata": {},
   "source": [
    "The goal of the ```Agent``` is to interact with the ```Environment``` by proposing actions $a_t$ obtained from a given state $s_t$ to attempt to maximize its __reward__ $r(s_t,a_t)$. We propose the following abstract class:"
   ]
  },
  {
   "cell_type": "code",
   "execution_count": 61,
   "metadata": {},
   "outputs": [],
   "source": [
    "class Agent(object):\n",
    "    def __init__(self, epsilon=0.1, n_action=4):\n",
    "        self.epsilon = epsilon\n",
    "        self.n_action = n_action\n",
    "    \n",
    "    def set_epsilon(self,e):\n",
    "        self.epsilon = e\n",
    "\n",
    "    def act(self,s,train=True):\n",
    "        \"\"\" This function should return the next action to do:\n",
    "        an integer between 0 and 4 (not included) with a random exploration of epsilon\"\"\"\n",
    "        if train:\n",
    "            if np.random.rand() <= self.epsilon:\n",
    "                a = np.random.randint(0, self.n_action, size=1)[0]\n",
    "            else:\n",
    "                a = self.learned_act(s)\n",
    "        else: # in some cases, this can improve the performance.. remove it if poor performances\n",
    "            a = self.learned_act(s)\n",
    "\n",
    "        return a\n",
    "\n",
    "    def learned_act(self,s):\n",
    "        \"\"\" Act via the policy of the agent, from a given state s\n",
    "        it proposes an action a\"\"\"\n",
    "        pass\n",
    "\n",
    "    def reinforce(self, s, n_s, a, r, game_over_):\n",
    "        \"\"\" This function is the core of the learning algorithm. \n",
    "        It takes as an input the current state s_, the next state n_s_\n",
    "        the action a_ used to move from s_ to n_s_ and the reward r_.\n",
    "        \n",
    "        Its goal is to learn a policy.\n",
    "        \"\"\"\n",
    "        pass\n",
    "\n",
    "    def save(self):\n",
    "        \"\"\" This function returns basic stats if applicable: the\n",
    "        loss and/or the model\"\"\"\n",
    "        pass\n",
    "\n",
    "    def load(self):\n",
    "        \"\"\" This function allows to restore a model\"\"\"\n",
    "        pass"
   ]
  },
  {
   "cell_type": "markdown",
   "metadata": {},
   "source": [
    "***\n",
    "__Question 1__:\n",
    "Explain the function act. Why is ```epsilon``` essential?"
   ]
  },
  {
   "cell_type": "markdown",
   "metadata": {},
   "source": [
    "The function act takes the state of the agent as input and determine the next action of the agent. Here the action has the form to a number between 0 to 3. The input \"train\" allow the act to explore new policies with a probability epsilon. When train is equal to \"False\" the agent won't explore new policies, it is necessary when we want to use the code and don't train it.\n",
    "\n",
    "This epsilon is useful to create a small probability at each step that the agent do a random action which allow it to try new policies. It is the exploration part of the algorithm's training."
   ]
  },
  {
   "cell_type": "markdown",
   "metadata": {},
   "source": [
    "***\n",
    "### The Game"
   ]
  },
  {
   "cell_type": "markdown",
   "metadata": {},
   "source": [
    "The ```Agent``` and the ```Environment``` work in an interlaced way as in the following (take some time to understand this code as it is the core of the project)\n",
    "\n",
    "```python\n",
    "\n",
    "epoch = 300\n",
    "env = Environment()\n",
    "agent = Agent()\n",
    "\n",
    "\n",
    "# Number of won games\n",
    "score = 0\n",
    "loss = 0\n",
    "\n",
    "\n",
    "for e in range(epoch):\n",
    "    # At each epoch, we restart to a fresh game and get the initial state\n",
    "    state = env.reset()\n",
    "    # This assumes that the games will end\n",
    "    game_over = False\n",
    "\n",
    "    win = 0\n",
    "    lose = 0\n",
    "    \n",
    "    while not game_over:\n",
    "        # The agent performs an action\n",
    "        action = agent.act(state)\n",
    "\n",
    "        # Apply an action to the environment, get the next state, the reward\n",
    "        # and if the games end\n",
    "        prev_state = state\n",
    "        state, reward, game_over = env.act(action)\n",
    "\n",
    "        # Update the counters\n",
    "        if reward > 0:\n",
    "            win = win + reward\n",
    "        if reward < 0:\n",
    "            lose = lose -reward\n",
    "\n",
    "        # Apply the reinforcement strategy\n",
    "        loss = agent.reinforce(prev_state, state,  action, reward, game_over)\n",
    "\n",
    "    # Save as a mp4\n",
    "    if e % 10 == 0:\n",
    "        env.draw(e)\n",
    "\n",
    "    # Update stats\n",
    "    score += win-lose\n",
    "\n",
    "    print(\"Epoch {:03d}/{:03d} | Loss {:.4f} | Win/lose count {}/{} ({})\"\n",
    "          .format(e, epoch, loss, win, lose, win-lose))\n",
    "    agent.save()\n",
    "```"
   ]
  },
  {
   "cell_type": "markdown",
   "metadata": {},
   "source": [
    "# The game, *eat cheese*"
   ]
  },
  {
   "cell_type": "markdown",
   "metadata": {},
   "source": [
    "A rat runs on an island and tries to eat as much as possible. The island is subdivided into $N\\times N$ cells, in which there are cheese (+0.5) and poisonous cells (-1). The rat has a visibility of 2 cells (thus it can see $5^2$ cells). The rat is given a time $T$ to accumulate as much food as possible. It can perform 4 actions: going up, down, left, right. \n",
    "\n",
    "The goal is to code an agent to solve this task that will learn by trial and error. We propose the following environment:"
   ]
  },
  {
   "cell_type": "code",
   "execution_count": 62,
   "metadata": {},
   "outputs": [],
   "source": [
    "class Environment(object):\n",
    "    def __init__(self, grid_size=10, max_time=500, temperature=0.1):\n",
    "        grid_size = grid_size+4\n",
    "        self.grid_size = grid_size\n",
    "        self.max_time = max_time\n",
    "        self.temperature = temperature\n",
    "\n",
    "        #board on which one plays\n",
    "        self.board = np.zeros((grid_size,grid_size))\n",
    "        self.position = np.zeros((grid_size,grid_size))\n",
    "\n",
    "        # coordinate of the cat\n",
    "        self.x = 0\n",
    "        self.y = 1\n",
    "\n",
    "        # self time\n",
    "        self.t = 0\n",
    "\n",
    "        self.scale=16\n",
    "\n",
    "        self.to_draw = np.zeros((max_time+2, grid_size*self.scale, grid_size*self.scale, 3))\n",
    "\n",
    "\n",
    "    def draw(self,e):\n",
    "        skvideo.io.vwrite(str(e) + '.mp4', self.to_draw)\n",
    "\n",
    "    def get_frame(self,t):\n",
    "        b = np.zeros((self.grid_size,self.grid_size,3))+128\n",
    "        b[self.board>0,0] = 256\n",
    "        b[self.board < 0, 2] = 256\n",
    "        b[self.x,self.y,:]=256\n",
    "        b[-2:,:,:]=0\n",
    "        b[:,-2:,:]=0\n",
    "        b[:2,:,:]=0\n",
    "        b[:,:2,:]=0\n",
    "        \n",
    "        b =  cv2.resize(b, None, fx=self.scale, fy=self.scale, interpolation=cv2.INTER_NEAREST)\n",
    "\n",
    "        self.to_draw[t,:,:,:]=b\n",
    "\n",
    "\n",
    "    def act(self, action):\n",
    "        \"\"\"This function returns the new state, reward and decides if the\n",
    "        game ends.\"\"\"\n",
    "\n",
    "        self.get_frame(int(self.t))\n",
    "\n",
    "        self.position = np.zeros((self.grid_size, self.grid_size))\n",
    "\n",
    "        self.position[0:2,:]= -1\n",
    "        self.position[:,0:2] = -1\n",
    "        self.position[-2:, :] = -1\n",
    "        self.position[-2:, :] = -1\n",
    "\n",
    "        self.position[self.x, self.y] = 1\n",
    "        if action == 0:\n",
    "            if self.x == self.grid_size-3:\n",
    "                self.x = self.x-1\n",
    "            else:\n",
    "                self.x = self.x + 1\n",
    "        elif action == 1:\n",
    "            if self.x == 2:\n",
    "                self.x = self.x+1\n",
    "            else:\n",
    "                self.x = self.x-1\n",
    "        elif action == 2:\n",
    "            if self.y == self.grid_size - 3:\n",
    "                self.y = self.y - 1\n",
    "            else:\n",
    "                self.y = self.y + 1\n",
    "        elif action == 3:\n",
    "            if self.y == 2:\n",
    "                self.y = self.y + 1\n",
    "            else:\n",
    "                self.y = self.y - 1\n",
    "        else:\n",
    "            RuntimeError('Error: action not recognized')\n",
    "\n",
    "        self.t = self.t + 1\n",
    "        reward = self.board[self.x, self.y]\n",
    "        self.board[self.x, self.y] = 0\n",
    "        game_over = self.t > self.max_time\n",
    "        state = np.concatenate((self.board.reshape(self.grid_size, self.grid_size,1),\n",
    "                        self.position.reshape(self.grid_size, self.grid_size,1)),axis=2)\n",
    "        state = state[self.x-2:self.x+3,self.y-2:self.y+3,:]\n",
    "\n",
    "        return state, reward, game_over\n",
    "\n",
    "    def reset(self):\n",
    "        \"\"\"This function resets the game and returns the initial state\"\"\"\n",
    "\n",
    "        self.x = np.random.randint(3, self.grid_size-3, size=1)[0]\n",
    "        self.y = np.random.randint(3, self.grid_size-3, size=1)[0]\n",
    "\n",
    "\n",
    "        bonus = 0.5*np.random.binomial(1,self.temperature,size=self.grid_size**2)\n",
    "        bonus = bonus.reshape(self.grid_size,self.grid_size)\n",
    "\n",
    "        malus = -1.0*np.random.binomial(1,self.temperature,size=self.grid_size**2)\n",
    "        malus = malus.reshape(self.grid_size, self.grid_size)\n",
    "\n",
    "        self.to_draw = np.zeros((self.max_time+2, self.grid_size*self.scale, self.grid_size*self.scale, 3))\n",
    "\n",
    "\n",
    "        malus[bonus>0]=0\n",
    "\n",
    "        self.board = bonus + malus\n",
    "\n",
    "        self.position = np.zeros((self.grid_size, self.grid_size))\n",
    "        self.position[0:2,:]= -1\n",
    "        self.position[:,0:2] = -1\n",
    "        self.position[-2:, :] = -1\n",
    "        self.position[-2:, :] = -1\n",
    "        self.board[self.x,self.y] = 0\n",
    "        self.t = 0\n",
    "\n",
    "        state = np.concatenate((\n",
    "                               self.board.reshape(self.grid_size, self.grid_size,1),\n",
    "                        self.position.reshape(self.grid_size, self.grid_size,1)),axis=2)\n",
    "\n",
    "        state = state[self.x - 2:self.x + 3, self.y - 2:self.y + 3, :]\n",
    "        return state"
   ]
  },
  {
   "cell_type": "markdown",
   "metadata": {},
   "source": [
    "The following elements are important because they correspond to the hyper parameters for this project:"
   ]
  },
  {
   "cell_type": "code",
   "execution_count": 107,
   "metadata": {},
   "outputs": [],
   "source": [
    "# parameters\n",
    "size = 13\n",
    "T=200\n",
    "temperature=0.3\n",
    "epochs_train=100 # set small when debugging\n",
    "epochs_test=10 # set small when debugging\n",
    "\n",
    "# display videos\n",
    "def display_videos(name):\n",
    "    video = io.open(name, 'r+b').read()\n",
    "    encoded = base64.b64encode(video)\n",
    "    return '''<video alt=\"test\" controls>\n",
    "                <source src=\"data:video/mp4;base64,{0}\" type=\"video/mp4\" />\n",
    "             </video>'''.format(encoded.decode('ascii'))"
   ]
  },
  {
   "cell_type": "markdown",
   "metadata": {},
   "source": [
    "__Question 2__ Explain the use of the arrays ```position``` and ```board```."
   ]
  },
  {
   "cell_type": "markdown",
   "metadata": {},
   "source": [
    "The array position is an attribute of the environment which represents the game board. Each value in the array is link to a box of the board. The box take the value 1 in the array when the rat is on this box and all boxes at the extremities have the value -1 because they are outside the grid. It is used to know where the rat is and where he can go.\n",
    "The array \"board\" is an attribute of the environment too. Like the attribute \"position\" it is an array where each value is link to a box of the board. But this array is used to define where are the rewards. The box where there is cheese have the value +0.5 and poisonous cells have the value -1. We change the value of cell to 0 when the rat walk on it and it's reward is added to the total reward of the rat thanks to variables \"win\" and \"lose\".\n",
    "These two variables are used to give view of it's near environment to the rat."
   ]
  },
  {
   "cell_type": "markdown",
   "metadata": {},
   "source": [
    "## Random Agent"
   ]
  },
  {
   "cell_type": "markdown",
   "metadata": {},
   "source": [
    "***\n",
    "__Question 3__ Implement a random Agent (only ```learned_act``` needs to be implemented):"
   ]
  },
  {
   "cell_type": "code",
   "execution_count": 66,
   "metadata": {},
   "outputs": [],
   "source": [
    "class RandomAgent(Agent):\n",
    "    def __init__(self):\n",
    "        super(RandomAgent, self).__init__()\n",
    "        pass\n",
    "\n",
    "    def learned_act(self, s):\n",
    "        return(np.random.randint(0,4))"
   ]
  },
  {
   "cell_type": "markdown",
   "metadata": {},
   "source": [
    "***\n",
    "***\n",
    "__Question 4__ Visualize the game moves. You need to fill in the following function for the evaluation:"
   ]
  },
  {
   "cell_type": "code",
   "execution_count": 99,
   "metadata": {},
   "outputs": [],
   "source": [
    "def test(agent,env,epochs,prefix=''):\n",
    "    # Number of won games\n",
    "    score = 0\n",
    "        \n",
    "    for e in range(epochs):\n",
    "        # At each epoch, we restart to a fresh game and get the initial state\n",
    "        state = env.reset()\n",
    "        # This assumes that the games will end\n",
    "        game_over = False\n",
    "\n",
    "        win = 0\n",
    "        lose = 0\n",
    "\n",
    "        while not game_over:\n",
    "            # The agent performs an action\n",
    "            action = agent.learned_act(state)\n",
    "            \n",
    "            # Apply an action to the environment, get the next state, the reward\n",
    "            # and if the games end\n",
    "            prev_state = state\n",
    "            state, reward, game_over = env.act(action)\n",
    "\n",
    "            # Update the counters\n",
    "            if reward > 0:\n",
    "                win = win + reward\n",
    "            if reward < 0:\n",
    "                lose = lose -reward\n",
    "        \n",
    "        # Save as a mp4\n",
    "        env.draw(prefix+str(e))\n",
    "\n",
    "        # Update stats\n",
    "        score = score + win-lose\n",
    "\n",
    "        print(\"Win/lose count {}/{}. Average score ({})\"\n",
    "              .format(win, lose, score/(1+e)))\n",
    "    print('Final score: '+str(score/epochs))"
   ]
  },
  {
   "cell_type": "code",
   "execution_count": 108,
   "metadata": {},
   "outputs": [
    {
     "name": "stdout",
     "output_type": "stream",
     "text": [
      "Win/lose count 9.0/18.0. Average score (-9.0)\n",
      "Win/lose count 8.5/11.0. Average score (-5.75)\n",
      "Win/lose count 14.0/13.0. Average score (-3.5)\n",
      "Win/lose count 5.0/17.0. Average score (-5.625)\n",
      "Win/lose count 9.5/11.0. Average score (-4.8)\n",
      "Win/lose count 7.5/11.0. Average score (-4.583333333333333)\n",
      "Win/lose count 5.5/8.0. Average score (-4.285714285714286)\n",
      "Win/lose count 12.0/23.0. Average score (-5.125)\n",
      "Win/lose count 13.5/7.0. Average score (-3.8333333333333335)\n",
      "Win/lose count 10.0/18.0. Average score (-4.25)\n",
      "Final score: -4.25\n"
     ]
    },
    {
     "data": {
      "text/html": [
       "<video alt=\"test\" controls>\n",
       "                <source src=\"data:video/mp4;base64,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\" type=\"video/mp4\" />\n",
       "             </video>"
      ],
      "text/plain": [
       "<IPython.core.display.HTML object>"
      ]
     },
     "execution_count": 108,
     "metadata": {},
     "output_type": "execute_result"
    }
   ],
   "source": [
    "# Initialize the game\n",
    "env = Environment(grid_size=size, max_time=T,temperature=temperature)\n",
    "\n",
    "# Initialize the agent!\n",
    "agent = RandomAgent()\n",
    "\n",
    "test(agent,env,epochs_test,prefix='random')\n",
    "HTML(display_videos('random0.mp4'))"
   ]
  },
  {
   "cell_type": "markdown",
   "metadata": {},
   "source": [
    "***\n",
    "## DQN"
   ]
  },
  {
   "cell_type": "markdown",
   "metadata": {},
   "source": [
    "Let us assume here that $T=\\infty$.\n",
    "\n",
    "***\n",
    "__Question 5__ Let $\\pi$ be a policy, show that:\n",
    "\n",
    "\\begin{equation*}\n",
    "Q^{\\pi}(s,a)=E_{(s',a')\\sim p(.|s,a)}[r(s,a)+\\gamma Q^{\\pi}(s',a')]\n",
    "\\end{equation*}\n",
    "\n",
    "Then, show that for the optimal policy $\\pi^*$ (we assume its existence), the following holds: \n",
    "\n",
    "\\begin{equation*}\n",
    "Q^{*}(s,a)=E_{s'\\sim \\pi^*(.|s,a)}[r(s,a)+\\gamma\\max_{a'}Q^{*}(s',a')].\n",
    "\\end{equation*}\n",
    "Finally, deduce that a plausible objective is:\n",
    "\n",
    "\\begin{equation*}\n",
    "\\mathcal{L}(\\theta)=E_{s' \\sim \\pi^*(.|s,a)}\\Vert r+\\gamma\\max\\max_{a'}Q(s',a',\\theta)-Q(s,a,\\theta)\\Vert^{2}.\n",
    "\\end{equation*}\n",
    "\n",
    "\n"
   ]
  },
  {
   "cell_type": "markdown",
   "metadata": {},
   "source": []
  },
  {
   "cell_type": "markdown",
   "metadata": {},
   "source": [
    "***\n",
    "The DQN-learning algorithm relies on these derivations to train the parameters $\\theta$ of a Deep Neural Network:\n",
    "\n",
    "1. At the state $s_t$, select the action $a_t$ with best reward using $Q_t$ and store the results;\n",
    "\n",
    "2. Obtain the new state $s_{t+1}$ from the environment $p$;\n",
    "\n",
    "3. Store $(s_t,a_t,s_{t+1})$;\n",
    "\n",
    "4. Obtain $Q_{t+1}$ by minimizing  $\\mathcal{L}$ from a recovered batch from the previously stored results.\n",
    "\n",
    "***\n",
    "__Question 6__ Implement the class ```Memory``` that stores moves (in a replay buffer) via ```remember``` and provides a ```random_access``` to these. Specify a maximum memory size to avoid side effects. You can for example use a ```list()``` and set by default ```max_memory=100```."
   ]
  },
  {
   "cell_type": "code",
   "execution_count": null,
   "metadata": {
    "collapsed": true
   },
   "outputs": [],
   "source": [
    "class Memory(object):\n",
    "    def __init__(self, max_memory=100):\n",
    "        self.max_memory = max_memory\n",
    "        self.memory = list()\n",
    "\n",
    "    def remember(self, m):\n",
    "        pass\n",
    "\n",
    "    def random_access(self):\n",
    "        pass"
   ]
  },
  {
   "cell_type": "markdown",
   "metadata": {},
   "source": [
    "***\n",
    "The pipeline we will use for training is given below:"
   ]
  },
  {
   "cell_type": "code",
   "execution_count": null,
   "metadata": {
    "collapsed": true
   },
   "outputs": [],
   "source": [
    "def train(agent,env,epoch,prefix=''):\n",
    "    # Number of won games\n",
    "    score = 0\n",
    "    loss = 0\n",
    "\n",
    "    for e in range(epoch):\n",
    "        # At each epoch, we restart to a fresh game and get the initial state\n",
    "        state = env.reset()\n",
    "        # This assumes that the games will terminate\n",
    "        game_over = False\n",
    "\n",
    "        win = 0\n",
    "        lose = 0\n",
    "\n",
    "        while not game_over:\n",
    "            # The agent performs an action\n",
    "            action = agent.act(state)\n",
    "\n",
    "            # Apply an action to the environment, get the next state, the reward\n",
    "            # and if the games end\n",
    "            prev_state = state\n",
    "            state, reward, game_over = env.act(action)\n",
    "\n",
    "            # Update the counters\n",
    "            if reward > 0:\n",
    "                win = win + reward\n",
    "            if reward < 0:\n",
    "                lose = lose -reward\n",
    "\n",
    "            # Apply the reinforcement strategy\n",
    "            loss = agent.reinforce(prev_state, state,  action, reward, game_over)\n",
    "\n",
    "        # Save as a mp4\n",
    "        if e % 10 == 0:\n",
    "            env.draw(prefix+str(e))\n",
    "\n",
    "        # Update stats\n",
    "        score += win-lose\n",
    "\n",
    "        print(\"Epoch {:03d}/{:03d} | Loss {:.4f} | Win/lose count {}/{} ({})\"\n",
    "              .format(e, epoch, loss, win, lose, win-lose))\n",
    "        agent.save(name_weights=prefix+'model.h5',name_model=prefix+'model.json')"
   ]
  },
  {
   "cell_type": "markdown",
   "metadata": {},
   "source": [
    "***\n",
    "__Question 7__ Implement the DQN training algorithm using a cascade of fully connected layers. You can use different learning rate, batch size or memory size parameters. In particular, the loss might oscillate while the player will start to win the games. You have to find a good criterium."
   ]
  },
  {
   "cell_type": "code",
   "execution_count": null,
   "metadata": {
    "collapsed": true
   },
   "outputs": [],
   "source": [
    "class DQN(Agent):\n",
    "    def __init__(self, grid_size,  epsilon = 0.1, memory_size=100, batch_size = 16,n_state=2):\n",
    "        super(DQN, self).__init__(epsilon = epsilon)\n",
    "\n",
    "        # Discount for Q learning\n",
    "        self.discount = 0.99\n",
    "        \n",
    "        self.grid_size = grid_size\n",
    "        \n",
    "        # number of state\n",
    "        self.n_state = n_state\n",
    "\n",
    "        # Memory\n",
    "        self.memory = Memory(memory_size)\n",
    "        \n",
    "        # Batch size when learning\n",
    "        self.batch_size = batch_size\n",
    "\n",
    "    def learned_act(self, s):\n",
    "        pass\n",
    "\n",
    "    def reinforce(self, s_, n_s_, a_, r_, game_over_):\n",
    "        # Two steps: first memorize the states, second learn from the pool\n",
    "\n",
    "        self.memory.remember([s_, n_s_, a_, r_, game_over_])\n",
    "        \n",
    "        input_states = np.zeros((self.batch_size, 5,5,self.n_state))\n",
    "        target_q = np.zeros((self.batch_size, 4))\n",
    "        \n",
    "        for i in range(self.batch_size):\n",
    "            ######## FILL IN\n",
    "            \n",
    "            if game_over_:\n",
    "                ######## FILL IN\n",
    "            else:\n",
    "                ######## FILL IN\n",
    "        ######## FILL IN\n",
    "        # HINT: Clip the target to avoid exploiding gradients.. -- clipping is a bit tighter\n",
    "        target_q = np.clip(target_q, -3, 3)\n",
    "\n",
    "        l = self.model.train_on_batch(input_states, target_q)\n",
    "\n",
    "\n",
    "        return l\n",
    "\n",
    "    def save(self,name_weights='model.h5',name_model='model.json'):\n",
    "        self.model.save_weights(name_weights, overwrite=True)\n",
    "        with open(name_model, \"w\") as outfile:\n",
    "            json.dump(self.model.to_json(), outfile)\n",
    "            \n",
    "    def load(self,name_weights='model.h5',name_model='model.json'):\n",
    "        with open(name_model, \"r\") as jfile:\n",
    "            model = model_from_json(json.load(jfile))\n",
    "        model.load_weights(name_weights)\n",
    "        model.compile(\"sgd\", \"mse\")\n",
    "        self.model = model\n",
    "\n",
    "            \n",
    "class DQN_FC(DQN):\n",
    "    def __init__(self, *args, lr=0.1,**kwargs):\n",
    "        super(DQN_FC, self).__init__( *args,**kwargs)\n",
    "        \n",
    "        # NN Model\n",
    "        \n",
    "        ####### FILL IN\n",
    "        \n",
    "        model.compile(sgd(lr=lr, decay=1e-4, momentum=0.0), \"mse\")\n",
    "        self.model = model\n",
    "        "
   ]
  },
  {
   "cell_type": "code",
   "execution_count": null,
   "metadata": {
    "collapsed": true
   },
   "outputs": [],
   "source": [
    "env = Environment(grid_size=size, max_time=T, temperature=0.3)\n",
    "agent = DQN_FC(size, lr=.1, epsilon = 0.1, memory_size=2000, batch_size = 32)\n",
    "train(agent, env, epochs_train, prefix='fc_train')\n",
    "HTML(display_videos('fc_train10.mp4'))"
   ]
  },
  {
   "cell_type": "markdown",
   "metadata": {},
   "source": [
    "***\n",
    "***\n",
    "__Question 8__ Implement the DQN training algorithm using a CNN (for example, 2 convolutional layers and one final fully connected layer)."
   ]
  },
  {
   "cell_type": "code",
   "execution_count": null,
   "metadata": {
    "collapsed": true
   },
   "outputs": [],
   "source": [
    "class DQN_CNN(DQN):\n",
    "    def __init__(self, *args,lr=0.1,**kwargs):\n",
    "        super(DQN_CNN, self).__init__(*args,**kwargs)\n",
    "        \n",
    "        ###### FILL IN\n",
    "        \n",
    "        model.compile(sgd(lr=lr, decay=1e-4, momentum=0.0), \"mse\")\n",
    "        self.model = model"
   ]
  },
  {
   "cell_type": "code",
   "execution_count": null,
   "metadata": {
    "collapsed": true
   },
   "outputs": [],
   "source": [
    "env = Environment(grid_size=size, max_time=T, temperature=0.3)\n",
    "agent = DQN_CNN(size, lr=.1, epsilon = 0.1, memory_size=2000, batch_size = 32)\n",
    "train(agent,env,epochs_train,prefix='cnn_train')\n",
    "HTML(display_videos('cnn_train10.mp4'))"
   ]
  },
  {
   "cell_type": "markdown",
   "metadata": {},
   "source": [
    "***\n",
    "***\n",
    "__Question 9__ Test both algorithms and compare their performances. Which issue(s) do you observe? Observe also different behaviors by changing the temperature."
   ]
  },
  {
   "cell_type": "code",
   "execution_count": null,
   "metadata": {
    "collapsed": true
   },
   "outputs": [],
   "source": [
    "env = Environment(grid_size=size, max_time=T,temperature=0.3)\n",
    "agent_cnn = DQN_CNN(size, lr=.1, epsilon = 0.1, memory_size=2000, batch_size = 32)\n",
    "agent_cnn.load(name_weights='cnn_trainmodel.h5',name_model='cnn_trainmodel.json')\n",
    "\n",
    "agent_fc = DQN_FC(size, lr=.1, epsilon = 0.1, memory_size=2000, batch_size = 32)\n",
    "agent_cnn.load(name_weights='fc_trainmodel.h5',name_model='fc_trainmodel.json')\n",
    "print('Test of the CNN')\n",
    "test(agent_cnn,env,epochs_test,prefix='cnn_test')\n",
    "print('Test of the FC')\n",
    "test(agent_fc,env,epochs_test,prefix='fc_test')"
   ]
  },
  {
   "cell_type": "code",
   "execution_count": null,
   "metadata": {
    "collapsed": true
   },
   "outputs": [],
   "source": [
    "HTML(display_videos('cnn_test10.mp4'))"
   ]
  },
  {
   "cell_type": "code",
   "execution_count": null,
   "metadata": {
    "collapsed": true
   },
   "outputs": [],
   "source": [
    "HTML(display_videos('fc_test10.mp4'))"
   ]
  },
  {
   "cell_type": "markdown",
   "metadata": {},
   "source": []
  },
  {
   "cell_type": "markdown",
   "metadata": {},
   "source": [
    "***\n",
    "\n",
    "The algorithm tends to not explore the map which can be an issue. We propose two ideas in order to encourage exploration:\n",
    "1. Incorporating a decreasing $\\epsilon$-greedy exploration. You can use the method ```set_epsilon```\n",
    "2. Append via the environment a new state that describes if a cell has been visited or not\n",
    "\n",
    "***\n",
    "__Question 10__ Design a new ```train_explore``` function and environment class ```EnvironmentExploring``` to tackle the issue of exploration.\n",
    "\n"
   ]
  },
  {
   "cell_type": "code",
   "execution_count": null,
   "metadata": {
    "collapsed": true
   },
   "outputs": [],
   "source": [
    "def train_explore(agent,env,epoch,prefix=''):\n",
    "    pass\n",
    "        \n",
    "class EnvironmentExploring(object):\n",
    "    def __init__(self, grid_size=10, max_time=500, temperature=0.1):\n",
    "        pass\n",
    "    \n",
    "## use those samples of code:\n",
    "#In train explore:\n",
    "state, reward, game_over = env.act(action, train=True)\n",
    "\n",
    "## In Environment exploring:\n",
    "# You will have to change n_state to 3 because you will use one more layer!\n",
    "reward = 0\n",
    "if train:\n",
    "    reward = -self.malus_position[self.x, self.y]\n",
    "self.malus_position[self.x, self.y] = 0.1\n",
    "\n",
    "reward = reward + self.board[self.x, self.y]\n",
    "# 3 \"feature\" states instead of 2\n",
    "state = np.concatenate((self.malus_position.reshape(self.grid_size, self.grid_size,1),\n",
    "                                self.board.reshape(self.grid_size, self.grid_size,1),\n",
    "                        self.position.reshape(self.grid_size, self.grid_size,1)),axis=2)"
   ]
  },
  {
   "cell_type": "code",
   "execution_count": null,
   "metadata": {
    "collapsed": true
   },
   "outputs": [],
   "source": [
    "# Training\n",
    "env = EnvironmentExploring(grid_size=size, max_time=T, temperature=0.3)\n",
    "agent = DQN_CNN(size, lr=.1, epsilon = 0.1, memory_size=2000, batch_size = 32,n_state=3)\n",
    "train_explore(agent, env, epochs_train, prefix='cnn_train_explore')\n",
    "HTML(display_videos('cnn_train_explore10.mp4'))"
   ]
  },
  {
   "cell_type": "code",
   "execution_count": null,
   "metadata": {
    "collapsed": true
   },
   "outputs": [],
   "source": [
    "# Evaluation\n",
    "test(agent,env,epochs_test,prefix='cnn_test_explore')\n",
    "HTML(display_videos('cnn_test_explore10.mp4'))"
   ]
  },
  {
   "cell_type": "markdown",
   "metadata": {},
   "source": [
    "***\n",
    "***\n",
    "__BONUS question__ Use the expert DQN from the previous question to generate some winning games. Train a model that mimicks its behavior. Compare the performances."
   ]
  },
  {
   "cell_type": "markdown",
   "metadata": {},
   "source": []
  },
  {
   "cell_type": "markdown",
   "metadata": {},
   "source": [
    "***"
   ]
  }
 ],
 "metadata": {
  "kernelspec": {
   "display_name": "Python 3",
   "language": "python",
   "name": "python3"
  },
  "language_info": {
   "codemirror_mode": {
    "name": "ipython",
    "version": 3
   },
   "file_extension": ".py",
   "mimetype": "text/x-python",
   "name": "python",
   "nbconvert_exporter": "python",
   "pygments_lexer": "ipython3",
   "version": "3.6.7"
  }
 },
 "nbformat": 4,
 "nbformat_minor": 2
}
