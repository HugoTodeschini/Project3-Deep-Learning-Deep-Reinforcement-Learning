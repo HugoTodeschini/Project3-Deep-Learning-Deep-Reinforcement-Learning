{
 "cells": [
  {
   "cell_type": "markdown",
   "metadata": {},
   "source": [
    "**You may need to install [OpenCV](https://pypi.python.org/pypi/opencv-python) and [scikit-video](http://www.scikit-video.org/stable/).**"
   ]
  },
  {
   "cell_type": "code",
   "execution_count": 1,
   "metadata": {},
   "outputs": [
    {
     "name": "stderr",
     "output_type": "stream",
     "text": [
      "Using TensorFlow backend.\n"
     ]
    }
   ],
   "source": [
    "import keras\n",
    "import numpy as np\n",
    "import io\n",
    "import base64\n",
    "from IPython.display import HTML\n",
    "import skvideo.io\n",
    "import cv2\n",
    "import json\n",
    "\n",
    "from keras.models import Sequential,model_from_json\n",
    "from keras.layers.core import Dense\n",
    "from keras.optimizers import sgd\n",
    "from keras.layers import Conv2D, MaxPooling2D, Activation, AveragePooling2D,Reshape,BatchNormalization"
   ]
  },
  {
   "cell_type": "markdown",
   "metadata": {},
   "source": [
    "# MiniProject #3: Deep Reinforcement Learning"
   ]
  },
  {
   "cell_type": "markdown",
   "metadata": {},
   "source": [
    "__Notations__: $E_p$ is the expectation under probability $p$. Please justify each of your answer and widely comment your code."
   ]
  },
  {
   "cell_type": "markdown",
   "metadata": {},
   "source": [
    "# Context"
   ]
  },
  {
   "cell_type": "markdown",
   "metadata": {},
   "source": [
    "In a reinforcement learning algorithm, we modelize each step $t$ as an action $a_t$ obtained from a state $s_t$, i.e. $\\{(a_{t},s_{t})_{t\\leq T}\\}$ having the Markov property. We consider a discount factor $\\gamma \\in [0,1]$ that ensures convergence. The goal is to find among all the policies $\\pi$, one that maximizes the expected reward:\n",
    "\n",
    "\\begin{equation*}\n",
    "R(\\pi)=\\sum_{t\\leq T}E_{p^{\\pi}}[\\gamma^t r(s_{t},a_{t})] \\> ,\n",
    "\\end{equation*}\n",
    "\n",
    "where: \n",
    "\\begin{equation*}p^{\\pi}(a_{0},a_{1},s_{1},...,a_{T},s_{T})=p(a_{0})\\prod_{t=1}^{T}\\pi(a_{t}|s_{t})p(s_{t+1}|s_{t},a_{t}) \\> .\n",
    "\\end{equation*}\n",
    "\n",
    "We note the $Q$-function:\n",
    "\n",
    "\\begin{equation*}Q^\\pi(s,a)=E_{p^{\\pi}}[\\sum_{t\\leq T}\\gamma^{t}r(s_{t},a_{t})|s_{0}=s,a_{0}=a] \\> .\n",
    "\\end{equation*}\n",
    "\n",
    "Thus, the optimal Q function is:\n",
    "\\begin{equation*}\n",
    "Q^*(s,a)=\\max_{\\pi}Q^\\pi(s,a) \\> .\n",
    "\\end{equation*}\n",
    "\n",
    "In this project, we will apply the deep reinforcement learning techniques to a simple game: an agent will have to learn from scratch a policy that will permit it maximizing a reward."
   ]
  },
  {
   "cell_type": "markdown",
   "metadata": {},
   "source": [
    "## The environment, the agent and the game"
   ]
  },
  {
   "cell_type": "markdown",
   "metadata": {},
   "source": [
    "### The environment"
   ]
  },
  {
   "cell_type": "markdown",
   "metadata": {},
   "source": [
    "```Environment``` is an abstract class that represents the states, rewards, and actions to obtain the new state."
   ]
  },
  {
   "cell_type": "code",
   "execution_count": 3,
   "metadata": {},
   "outputs": [],
   "source": [
    "class Environment(object):\n",
    "    def __init__(self):\n",
    "        pass\n",
    "\n",
    "    def act(self, act):\n",
    "        \"\"\"\n",
    "        One can act on the environment and obtain its reaction:\n",
    "        - the new state\n",
    "        - the reward of the new state\n",
    "        - should we continue the game?\n",
    "\n",
    "        :return: state, reward, game_over\n",
    "        \"\"\"\n",
    "        pass\n",
    "\n",
    "\n",
    "    def reset(self):\n",
    "        \"\"\"\n",
    "        Reinitialize the environment to a random state and returns\n",
    "        the original state\n",
    "\n",
    "        :return: state\n",
    "        \"\"\"\n",
    "        pass\n",
    "    \n",
    "    def draw(self):\n",
    "        \"\"\"\n",
    "        Visualize in the console or graphically the current state\n",
    "        \"\"\"\n",
    "        pass"
   ]
  },
  {
   "cell_type": "markdown",
   "metadata": {},
   "source": [
    "The method ```act``` allows to act on the environment at a given state $s_t$ (stored internally), via action $a_t$. The method will return the new state $s_{t+1}$, the reward $r(s_{t},a_{t})$ and determines if $t\\leq T$ (*game_over*).\n",
    "\n",
    "The method ```reset``` simply reinitializes the environment to a random state $s_0$.\n",
    "\n",
    "The method ```draw``` displays the current state $s_t$ (this is useful to check the behavior of the Agent).\n",
    "\n",
    "We modelize $s_t$ as a tensor, while $a_t$ is an integer."
   ]
  },
  {
   "cell_type": "markdown",
   "metadata": {},
   "source": [
    "### The Agent"
   ]
  },
  {
   "cell_type": "markdown",
   "metadata": {},
   "source": [
    "The goal of the ```Agent``` is to interact with the ```Environment``` by proposing actions $a_t$ obtained from a given state $s_t$ to attempt to maximize its __reward__ $r(s_t,a_t)$. We propose the following abstract class:"
   ]
  },
  {
   "cell_type": "code",
   "execution_count": 4,
   "metadata": {},
   "outputs": [],
   "source": [
    "class Agent(object):\n",
    "    def __init__(self, epsilon=0.1, n_action=4):\n",
    "        self.epsilon = epsilon\n",
    "        self.n_action = n_action\n",
    "    \n",
    "    def set_epsilon(self,e):\n",
    "        self.epsilon = e\n",
    "\n",
    "    def act(self,s,train=True):\n",
    "        \"\"\" This function should return the next action to do:\n",
    "        an integer between 0 and 4 (not included) with a random exploration of epsilon\"\"\"\n",
    "        if train:\n",
    "            if np.random.rand() <= self.epsilon:\n",
    "                a = np.random.randint(0, self.n_action, size=1)[0]\n",
    "            else:\n",
    "                a = self.learned_act(s)\n",
    "        else: # in some cases, this can improve the performance.. remove it if poor performances\n",
    "            a = self.learned_act(s)\n",
    "\n",
    "        return a\n",
    "\n",
    "    def learned_act(self,s):\n",
    "        \"\"\" Act via the policy of the agent, from a given state s\n",
    "        it proposes an action a\"\"\"\n",
    "        pass\n",
    "\n",
    "    def reinforce(self, s, n_s, a, r, game_over_):\n",
    "        \"\"\" This function is the core of the learning algorithm. \n",
    "        It takes as an input the current state s_, the next state n_s_\n",
    "        the action a_ used to move from s_ to n_s_ and the reward r_.\n",
    "        \n",
    "        Its goal is to learn a policy.\n",
    "        \"\"\"\n",
    "        pass\n",
    "\n",
    "    def save(self):\n",
    "        \"\"\" This function returns basic stats if applicable: the\n",
    "        loss and/or the model\"\"\"\n",
    "        pass\n",
    "\n",
    "    def load(self):\n",
    "        \"\"\" This function allows to restore a model\"\"\"\n",
    "        pass"
   ]
  },
  {
   "cell_type": "markdown",
   "metadata": {},
   "source": [
    "***\n",
    "__Question 1__:\n",
    "Explain the function act. Why is ```epsilon``` essential?"
   ]
  },
  {
   "cell_type": "markdown",
   "metadata": {},
   "source": [
    "The function act takes the state of the agent as input and determine the next action of the agent. Here the action has the form to a number between 0 to 3. The input \"train\" allow the act to explore new policies with a probability epsilon. When train is equal to \"False\" the agent won't explore new policies, it is necessary when we want to use the code and don't train it.\n",
    "\n",
    "This epsilon is useful to create a small probability at each step that the agent do a random action which allow it to try new policies. It is the exploration part of the algorithm's training."
   ]
  },
  {
   "cell_type": "markdown",
   "metadata": {},
   "source": [
    "***\n",
    "### The Game"
   ]
  },
  {
   "cell_type": "markdown",
   "metadata": {},
   "source": [
    "The ```Agent``` and the ```Environment``` work in an interlaced way as in the following (take some time to understand this code as it is the core of the project)\n",
    "\n",
    "```python\n",
    "\n",
    "epoch = 300\n",
    "env = Environment()\n",
    "agent = Agent()\n",
    "\n",
    "\n",
    "# Number of won games\n",
    "score = 0\n",
    "loss = 0\n",
    "\n",
    "\n",
    "for e in range(epoch):\n",
    "    # At each epoch, we restart to a fresh game and get the initial state\n",
    "    state = env.reset()\n",
    "    # This assumes that the games will end\n",
    "    game_over = False\n",
    "\n",
    "    win = 0\n",
    "    lose = 0\n",
    "    \n",
    "    while not game_over:\n",
    "        # The agent performs an action\n",
    "        action = agent.act(state)\n",
    "\n",
    "        # Apply an action to the environment, get the next state, the reward\n",
    "        # and if the games end\n",
    "        prev_state = state\n",
    "        state, reward, game_over = env.act(action)\n",
    "\n",
    "        # Update the counters\n",
    "        if reward > 0:\n",
    "            win = win + reward\n",
    "        if reward < 0:\n",
    "            lose = lose -reward\n",
    "\n",
    "        # Apply the reinforcement strategy\n",
    "        loss = agent.reinforce(prev_state, state,  action, reward, game_over)\n",
    "\n",
    "    # Save as a mp4\n",
    "    if e % 10 == 0:\n",
    "        env.draw(e)\n",
    "\n",
    "    # Update stats\n",
    "    score += win-lose\n",
    "\n",
    "    print(\"Epoch {:03d}/{:03d} | Loss {:.4f} | Win/lose count {}/{} ({})\"\n",
    "          .format(e, epoch, loss, win, lose, win-lose))\n",
    "    agent.save()\n",
    "```"
   ]
  },
  {
   "cell_type": "markdown",
   "metadata": {},
   "source": [
    "# The game, *eat cheese*"
   ]
  },
  {
   "cell_type": "markdown",
   "metadata": {},
   "source": [
    "A rat runs on an island and tries to eat as much as possible. The island is subdivided into $N\\times N$ cells, in which there are cheese (+0.5) and poisonous cells (-1). The rat has a visibility of 2 cells (thus it can see $5^2$ cells). The rat is given a time $T$ to accumulate as much food as possible. It can perform 4 actions: going up, down, left, right. \n",
    "\n",
    "The goal is to code an agent to solve this task that will learn by trial and error. We propose the following environment:"
   ]
  },
  {
   "cell_type": "code",
   "execution_count": 5,
   "metadata": {},
   "outputs": [],
   "source": [
    "class Environment(object):\n",
    "    def __init__(self, grid_size=10, max_time=500, temperature=0.1):\n",
    "        grid_size = grid_size+4\n",
    "        self.grid_size = grid_size\n",
    "        self.max_time = max_time\n",
    "        self.temperature = temperature\n",
    "\n",
    "        #board on which one plays\n",
    "        self.board = np.zeros((grid_size,grid_size))\n",
    "        self.position = np.zeros((grid_size,grid_size))\n",
    "\n",
    "        # coordinate of the cat\n",
    "        self.x = 0\n",
    "        self.y = 1\n",
    "\n",
    "        # self time\n",
    "        self.t = 0\n",
    "\n",
    "        self.scale=16\n",
    "\n",
    "        self.to_draw = np.zeros((max_time+2, grid_size*self.scale, grid_size*self.scale, 3))\n",
    "\n",
    "\n",
    "    def draw(self,e):\n",
    "        skvideo.io.vwrite(str(e) + '.mp4', self.to_draw)\n",
    "\n",
    "    def get_frame(self,t):\n",
    "        b = np.zeros((self.grid_size,self.grid_size,3))+128\n",
    "        b[self.board>0,0] = 256\n",
    "        b[self.board < 0, 2] = 256\n",
    "        b[self.x,self.y,:]=256\n",
    "        b[-2:,:,:]=0\n",
    "        b[:,-2:,:]=0\n",
    "        b[:2,:,:]=0\n",
    "        b[:,:2,:]=0\n",
    "        \n",
    "        b =  cv2.resize(b, None, fx=self.scale, fy=self.scale, interpolation=cv2.INTER_NEAREST)\n",
    "\n",
    "        self.to_draw[t,:,:,:]=b\n",
    "\n",
    "\n",
    "    def act(self, action):\n",
    "        \"\"\"This function returns the new state, reward and decides if the\n",
    "        game ends.\"\"\"\n",
    "\n",
    "        self.get_frame(int(self.t))\n",
    "\n",
    "        self.position = np.zeros((self.grid_size, self.grid_size))\n",
    "\n",
    "        self.position[0:2,:]= -1\n",
    "        self.position[:,0:2] = -1\n",
    "        self.position[-2:, :] = -1\n",
    "        self.position[-2:, :] = -1\n",
    "\n",
    "        self.position[self.x, self.y] = 1\n",
    "        if action == 0:\n",
    "            if self.x == self.grid_size-3:\n",
    "                self.x = self.x-1\n",
    "            else:\n",
    "                self.x = self.x + 1\n",
    "        elif action == 1:\n",
    "            if self.x == 2:\n",
    "                self.x = self.x+1\n",
    "            else:\n",
    "                self.x = self.x-1\n",
    "        elif action == 2:\n",
    "            if self.y == self.grid_size - 3:\n",
    "                self.y = self.y - 1\n",
    "            else:\n",
    "                self.y = self.y + 1\n",
    "        elif action == 3:\n",
    "            if self.y == 2:\n",
    "                self.y = self.y + 1\n",
    "            else:\n",
    "                self.y = self.y - 1\n",
    "        else:\n",
    "            RuntimeError('Error: action not recognized')\n",
    "\n",
    "        self.t = self.t + 1\n",
    "        reward = self.board[self.x, self.y]\n",
    "        self.board[self.x, self.y] = 0\n",
    "        game_over = self.t > self.max_time\n",
    "        state = np.concatenate((self.board.reshape(self.grid_size, self.grid_size,1),\n",
    "                        self.position.reshape(self.grid_size, self.grid_size,1)),axis=2)\n",
    "        state = state[self.x-2:self.x+3,self.y-2:self.y+3,:]\n",
    "\n",
    "        return state, reward, game_over\n",
    "\n",
    "    def reset(self):\n",
    "        \"\"\"This function resets the game and returns the initial state\"\"\"\n",
    "\n",
    "        self.x = np.random.randint(3, self.grid_size-3, size=1)[0]\n",
    "        self.y = np.random.randint(3, self.grid_size-3, size=1)[0]\n",
    "\n",
    "\n",
    "        bonus = 0.5*np.random.binomial(1,self.temperature,size=self.grid_size**2)\n",
    "        bonus = bonus.reshape(self.grid_size,self.grid_size)\n",
    "\n",
    "        malus = -1.0*np.random.binomial(1,self.temperature,size=self.grid_size**2)\n",
    "        malus = malus.reshape(self.grid_size, self.grid_size)\n",
    "\n",
    "        self.to_draw = np.zeros((self.max_time+2, self.grid_size*self.scale, self.grid_size*self.scale, 3))\n",
    "\n",
    "\n",
    "        malus[bonus>0]=0\n",
    "\n",
    "        self.board = bonus + malus\n",
    "\n",
    "        self.position = np.zeros((self.grid_size, self.grid_size))\n",
    "        self.position[0:2,:]= -1\n",
    "        self.position[:,0:2] = -1\n",
    "        self.position[-2:, :] = -1\n",
    "        self.position[-2:, :] = -1\n",
    "        self.board[self.x,self.y] = 0\n",
    "        self.t = 0\n",
    "\n",
    "        state = np.concatenate((\n",
    "                               self.board.reshape(self.grid_size, self.grid_size,1),\n",
    "                        self.position.reshape(self.grid_size, self.grid_size,1)),axis=2)\n",
    "\n",
    "        state = state[self.x - 2:self.x + 3, self.y - 2:self.y + 3, :]\n",
    "        return state"
   ]
  },
  {
   "cell_type": "markdown",
   "metadata": {},
   "source": [
    "The following elements are important because they correspond to the hyper parameters for this project:"
   ]
  },
  {
   "cell_type": "code",
   "execution_count": 6,
   "metadata": {},
   "outputs": [],
   "source": [
    "# parameters\n",
    "size = 13\n",
    "T=200\n",
    "temperature=0.3\n",
    "epochs_train=100 # set small when debugging\n",
    "epochs_test=10 # set small when debugging\n",
    "\n",
    "# display videos\n",
    "def display_videos(name):\n",
    "    video = io.open(name, 'r+b').read()\n",
    "    encoded = base64.b64encode(video)\n",
    "    return '''<video alt=\"test\" controls>\n",
    "                <source src=\"data:video/mp4;base64,{0}\" type=\"video/mp4\" />\n",
    "             </video>'''.format(encoded.decode('ascii'))"
   ]
  },
  {
   "cell_type": "markdown",
   "metadata": {},
   "source": [
    "__Question 2__ Explain the use of the arrays ```position``` and ```board```."
   ]
  },
  {
   "cell_type": "markdown",
   "metadata": {},
   "source": [
    "The array position is an attribute of the environment which represents the game board. Each value in the array is link to a box of the board. The box take the value 1 in the array when the rat is on this box and all boxes at the extremities have the value -1 because they are outside the grid. It is used to know where the rat is and where he can go.\n",
    "The array \"board\" is an attribute of the environment too. Like the attribute \"position\" it is an array where each value is link to a box of the board. But this array is used to define where are the rewards. The box where there is cheese have the value +0.5 and poisonous cells have the value -1. We change the value of cell to 0 when the rat walk on it and it's reward is added to the total reward of the rat thanks to variables \"win\" and \"lose\".\n",
    "These two variables are used to give view of it's near environment to the rat."
   ]
  },
  {
   "cell_type": "markdown",
   "metadata": {},
   "source": [
    "## Random Agent"
   ]
  },
  {
   "cell_type": "markdown",
   "metadata": {},
   "source": [
    "***\n",
    "__Question 3__ Implement a random Agent (only ```learned_act``` needs to be implemented):"
   ]
  },
  {
   "cell_type": "code",
   "execution_count": 7,
   "metadata": {},
   "outputs": [],
   "source": [
    "class RandomAgent(Agent):\n",
    "    def __init__(self):\n",
    "        super(RandomAgent, self).__init__()\n",
    "        pass\n",
    "\n",
    "    def learned_act(self, s):\n",
    "        return(np.random.randint(0,4))"
   ]
  },
  {
   "cell_type": "markdown",
   "metadata": {},
   "source": [
    "***\n",
    "***\n",
    "__Question 4__ Visualize the game moves. You need to fill in the following function for the evaluation:"
   ]
  },
  {
   "cell_type": "code",
   "execution_count": 8,
   "metadata": {},
   "outputs": [],
   "source": [
    "def test(agent,env,epochs,prefix=''):\n",
    "    # Number of won games\n",
    "    score = 0\n",
    "        \n",
    "    for e in range(epochs):\n",
    "        # At each epoch, we restart to a fresh game and get the initial state\n",
    "        state = env.reset()\n",
    "        # This assumes that the games will end\n",
    "        game_over = False\n",
    "\n",
    "        win = 0\n",
    "        lose = 0\n",
    "\n",
    "        while not game_over:\n",
    "            # The agent performs an action\n",
    "            action = agent.learned_act(state)\n",
    "            \n",
    "            # Apply an action to the environment, get the next state, the reward\n",
    "            # and if the games end\n",
    "            prev_state = state\n",
    "            state, reward, game_over = env.act(action)\n",
    "\n",
    "            # Update the counters\n",
    "            if reward > 0:\n",
    "                win = win + reward\n",
    "            if reward < 0:\n",
    "                lose = lose -reward\n",
    "        \n",
    "        # Save as a mp4\n",
    "        env.draw(prefix+str(e))\n",
    "\n",
    "        # Update stats\n",
    "        score = score + win-lose\n",
    "\n",
    "        print(\"Win/lose count {}/{}. Average score ({})\"\n",
    "              .format(win, lose, score/(1+e)))\n",
    "    print('Final score: '+str(score/epochs))"
   ]
  },
  {
   "cell_type": "code",
   "execution_count": 9,
   "metadata": {},
   "outputs": [
    {
     "name": "stdout",
     "output_type": "stream",
     "text": [
      "Win/lose count 9.5/11.0. Average score (-1.5)\n",
      "Win/lose count 7.5/10.0. Average score (-2.0)\n",
      "Win/lose count 9.0/17.0. Average score (-4.0)\n",
      "Win/lose count 8.5/8.0. Average score (-2.875)\n",
      "Win/lose count 11.5/15.0. Average score (-3.0)\n",
      "Win/lose count 12.5/15.0. Average score (-2.9166666666666665)\n",
      "Win/lose count 13.0/12.0. Average score (-2.357142857142857)\n",
      "Win/lose count 5.0/11.0. Average score (-2.8125)\n",
      "Win/lose count 13.0/12.0. Average score (-2.388888888888889)\n",
      "Win/lose count 11.5/16.0. Average score (-2.6)\n",
      "Final score: -2.6\n"
     ]
    },
    {
     "data": {
      "text/html": [
       "<video alt=\"test\" controls>\n",
       "                <source src=\"data:video/mp4;base64,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\" type=\"video/mp4\" />\n",
       "             </video>"
      ],
      "text/plain": [
       "<IPython.core.display.HTML object>"
      ]
     },
     "execution_count": 9,
     "metadata": {},
     "output_type": "execute_result"
    }
   ],
   "source": [
    "# Initialize the game\n",
    "env = Environment(grid_size=size, max_time=T,temperature=temperature)\n",
    "\n",
    "# Initialize the agent!\n",
    "agent = RandomAgent()\n",
    "\n",
    "test(agent,env,epochs_test,prefix='random')\n",
    "HTML(display_videos('random0.mp4'))"
   ]
  },
  {
   "cell_type": "markdown",
   "metadata": {},
   "source": [
    "***\n",
    "## DQN"
   ]
  },
  {
   "cell_type": "markdown",
   "metadata": {},
   "source": [
    "Let us assume here that $T=\\infty$.\n",
    "\n",
    "***\n",
    "__Question 5__ Let $\\pi$ be a policy, show that:\n",
    "\n",
    "\\begin{equation*}\n",
    "Q^{\\pi}(s,a)=E_{(s',a')\\sim p(.|s,a)}[r(s,a)+\\gamma Q^{\\pi}(s',a')]\n",
    "\\end{equation*}\n",
    "\n",
    "Then, show that for the optimal policy $\\pi^*$ (we assume its existence), the following holds: \n",
    "\n",
    "\\begin{equation*}\n",
    "Q^{*}(s,a)=E_{s'\\sim \\pi^*(.|s,a)}[r(s,a)+\\gamma\\max_{a'}Q^{*}(s',a')].\n",
    "\\end{equation*}\n",
    "Finally, deduce that a plausible objective is:\n",
    "\n",
    "\\begin{equation*}\n",
    "\\mathcal{L}(\\theta)=E_{s' \\sim \\pi^*(.|s,a)}\\Vert r+\\gamma\\max\\max_{a'}Q(s',a',\\theta)-Q(s,a,\\theta)\\Vert^{2}.\n",
    "\\end{equation*}\n",
    "\n",
    "\n"
   ]
  },
  {
   "cell_type": "markdown",
   "metadata": {},
   "source": [
    "Let $\\pi$ a policy\n",
    "\\begin{equation*}Q^\\pi(s,a)=E_{p^{\\pi}}[\\sum_{t\\leq T}\\gamma^{t}r(s_{t},a_{t})|s_{0}=s,a_{0}=a] \\> .\n",
    "\\end{equation*}\n",
    "With the equation of Bellman we determine that:\n",
    "\\begin{equation*}\n",
    "Q^{\\pi}(s,a)=E_{(s',a')\\sim p(.|s,a)}[r(s,a)+\\gamma Q^{\\pi}(s',a')]\n",
    "\\end{equation*}\n",
    "\n",
    "Let $\\pi^*$ the optimal policy\n",
    "\\begin{equation*}\n",
    "Q^*(s,a)=\\max_{\\pi}Q^\\pi(s,a)=\\max_{\\pi}E_{(s',a')\\sim p(.|s,a)}[r(s,a)+\\gamma Q^{\\pi}(s',a')] \\> .\n",
    "\\end{equation*}\n",
    "\\begin{equation*}\n",
    "Q^*(s,a)=E_{s'\\sim \\pi^*(.|s,a)}[r(s,a)+\\gamma Q^{\\pi}(s',a')]. \\> .\n",
    "\\end{equation*}\n",
    "\\begin{equation*}\n",
    "Q^*(s,a)=E_{s'\\sim \\pi^*(.|s,a)}[r(s,a)+\\gamma\\max_{a'}Q^{*}(s',a')]. \\> .\n",
    "\\end{equation*}\n",
    "\n",
    "We want to minimize the loss function $\\mathcal{L}(\\theta)$\n",
    "\n",
    "$$\\begin{equation*}\n",
    "\\mathcal{L}(\\theta) = E_{s' \\sim \\pi^*(.|s,a)}( ( Q^* (s,a,\\theta ) - Q(s,a,\\theta)) ^2) \n",
    "\\end{equation*}$$$$\\begin{equation*}\n",
    "\\mathcal{L}(\\theta) =  E_{s' \\sim \\pi^*(.|s,a)} ( ( r(s,a)+\\gamma\\max_{a'}Q^{*}(s',a', \\theta) - Q(s,a,\\theta)) ^2) \n",
    "\\end{equation*}$$$$\\begin{equation*}\n",
    "\\mathcal{L}(\\theta) = E_{s' \\sim \\pi^*(.|s,a)}\\Vert r+\\gamma\\max\\max_{a'}Q(s',a',\\theta)-Q(s,a,\\theta)\\Vert^{2}.\n",
    "\\end{equation*}$$"
   ]
  },
  {
   "cell_type": "markdown",
   "metadata": {},
   "source": [
    "***\n",
    "The DQN-learning algorithm relies on these derivations to train the parameters $\\theta$ of a Deep Neural Network:\n",
    "\n",
    "1. At the state $s_t$, select the action $a_t$ with best reward using $Q_t$ and store the results;\n",
    "\n",
    "2. Obtain the new state $s_{t+1}$ from the environment $p$;\n",
    "\n",
    "3. Store $(s_t,a_t,s_{t+1})$;\n",
    "\n",
    "4. Obtain $Q_{t+1}$ by minimizing  $\\mathcal{L}$ from a recovered batch from the previously stored results.\n",
    "\n",
    "***\n",
    "__Question 6__ Implement the class ```Memory``` that stores moves (in a replay buffer) via ```remember``` and provides a ```random_access``` to these. Specify a maximum memory size to avoid side effects. You can for example use a ```list()``` and set by default ```max_memory=100```."
   ]
  },
  {
   "cell_type": "code",
   "execution_count": null,
   "metadata": {
    "collapsed": true
   },
   "outputs": [],
   "source": [
    "class Memory(object):\n",
    "    def __init__(self, max_memory=100):\n",
    "        self.max_memory = max_memory\n",
    "        self.memory = list()\n",
    "\n",
    "    def remember(self, m):\n",
    "        if(len(self.memory)<max_memory):\n",
    "            self.memory.append(m)\n",
    "        else:\n",
    "            self.memory.append(m)\n",
    "            del(self.memory[0])\n",
    "\n",
    "    def random_access(self):\n",
    "        i = np.random.randint(0,len(self.memory))\n",
    "        return self.memory[i]"
   ]
  },
  {
   "cell_type": "markdown",
   "metadata": {},
   "source": [
    "***\n",
    "The pipeline we will use for training is given below:"
   ]
  },
  {
   "cell_type": "code",
   "execution_count": null,
   "metadata": {
    "collapsed": true
   },
   "outputs": [],
   "source": [
    "def train(agent,env,epoch,prefix=''):\n",
    "    # Number of won games\n",
    "    score = 0\n",
    "    loss = 0\n",
    "\n",
    "    for e in range(epoch):\n",
    "        # At each epoch, we restart to a fresh game and get the initial state\n",
    "        state = env.reset()\n",
    "        # This assumes that the games will terminate\n",
    "        game_over = False\n",
    "\n",
    "        win = 0\n",
    "        lose = 0\n",
    "\n",
    "        while not game_over:\n",
    "            # The agent performs an action\n",
    "            action = agent.act(state)\n",
    "\n",
    "            # Apply an action to the environment, get the next state, the reward\n",
    "            # and if the games end\n",
    "            prev_state = state\n",
    "            state, reward, game_over = env.act(action)\n",
    "\n",
    "            # Update the counters\n",
    "            if reward > 0:\n",
    "                win = win + reward\n",
    "            if reward < 0:\n",
    "                lose = lose -reward\n",
    "\n",
    "            # Apply the reinforcement strategy\n",
    "            loss = agent.reinforce(prev_state, state,  action, reward, game_over)\n",
    "\n",
    "        # Save as a mp4\n",
    "        if e % 10 == 0:\n",
    "            env.draw(prefix+str(e))\n",
    "\n",
    "        # Update stats\n",
    "        score += win-lose\n",
    "\n",
    "        print(\"Epoch {:03d}/{:03d} | Loss {:.4f} | Win/lose count {}/{} ({})\"\n",
    "              .format(e, epoch, loss, win, lose, win-lose))\n",
    "        agent.save(name_weights=prefix+'model.h5',name_model=prefix+'model.json')"
   ]
  },
  {
   "cell_type": "markdown",
   "metadata": {},
   "source": [
    "***\n",
    "__Question 7__ Implement the DQN training algorithm using a cascade of fully connected layers. You can use different learning rate, batch size or memory size parameters. In particular, the loss might oscillate while the player will start to win the games. You have to find a good criterium."
   ]
  },
  {
   "cell_type": "code",
   "execution_count": null,
   "metadata": {
    "collapsed": true
   },
   "outputs": [],
   "source": [
    "class DQN(Agent):\n",
    "    def __init__(self, grid_size,  epsilon = 0.1, memory_size=100, batch_size = 16,n_state=2):\n",
    "        super(DQN, self).__init__(epsilon = epsilon)\n",
    "\n",
    "        # Discount for Q learning\n",
    "        self.discount = 0.99\n",
    "        \n",
    "        self.grid_size = grid_size\n",
    "        \n",
    "        # number of state\n",
    "        self.n_state = n_state\n",
    "\n",
    "        # Memory\n",
    "        self.memory = Memory(memory_size)\n",
    "        \n",
    "        # Batch size when learning\n",
    "        self.batch_size = batch_size\n",
    "\n",
    "    def learned_act(self, s):\n",
    "        pass\n",
    "\n",
    "    def reinforce(self, s_, n_s_, a_, r_, game_over_):\n",
    "        # Two steps: first memorize the states, second learn from the pool\n",
    "\n",
    "        self.memory.remember([s_, n_s_, a_, r_, game_over_])\n",
    "        \n",
    "        input_states = np.zeros((self.batch_size, 5,5,self.n_state))\n",
    "        target_q = np.zeros((self.batch_size, 4))\n",
    "        \n",
    "        for i in range(self.batch_size):\n",
    "            ######## FILL IN\n",
    "            \n",
    "            if game_over_:\n",
    "                ######## FILL IN\n",
    "            else:\n",
    "                ######## FILL IN\n",
    "        ######## FILL IN\n",
    "        # HINT: Clip the target to avoid exploiding gradients.. -- clipping is a bit tighter\n",
    "        target_q = np.clip(target_q, -3, 3)\n",
    "\n",
    "        l = self.model.train_on_batch(input_states, target_q)\n",
    "\n",
    "\n",
    "        return l\n",
    "\n",
    "    def save(self,name_weights='model.h5',name_model='model.json'):\n",
    "        self.model.save_weights(name_weights, overwrite=True)\n",
    "        with open(name_model, \"w\") as outfile:\n",
    "            json.dump(self.model.to_json(), outfile)\n",
    "            \n",
    "    def load(self,name_weights='model.h5',name_model='model.json'):\n",
    "        with open(name_model, \"r\") as jfile:\n",
    "            model = model_from_json(json.load(jfile))\n",
    "        model.load_weights(name_weights)\n",
    "        model.compile(\"sgd\", \"mse\")\n",
    "        self.model = model\n",
    "\n",
    "            \n",
    "class DQN_FC(DQN):\n",
    "    def __init__(self, *args, lr=0.1,**kwargs):\n",
    "        super(DQN_FC, self).__init__( *args,**kwargs)\n",
    "        \n",
    "        # NN Model\n",
    "        \n",
    "        ####### FILL IN\n",
    "        \n",
    "        model.compile(sgd(lr=lr, decay=1e-4, momentum=0.0), \"mse\")\n",
    "        self.model = model\n",
    "        "
   ]
  },
  {
   "cell_type": "code",
   "execution_count": null,
   "metadata": {
    "collapsed": true
   },
   "outputs": [],
   "source": [
    "env = Environment(grid_size=size, max_time=T, temperature=0.3)\n",
    "agent = DQN_FC(size, lr=.1, epsilon = 0.1, memory_size=2000, batch_size = 32)\n",
    "train(agent, env, epochs_train, prefix='fc_train')\n",
    "HTML(display_videos('fc_train10.mp4'))"
   ]
  },
  {
   "cell_type": "markdown",
   "metadata": {},
   "source": [
    "***\n",
    "***\n",
    "__Question 8__ Implement the DQN training algorithm using a CNN (for example, 2 convolutional layers and one final fully connected layer)."
   ]
  },
  {
   "cell_type": "code",
   "execution_count": null,
   "metadata": {
    "collapsed": true
   },
   "outputs": [],
   "source": [
    "class DQN_CNN(DQN):\n",
    "    def __init__(self, *args,lr=0.1,**kwargs):\n",
    "        super(DQN_CNN, self).__init__(*args,**kwargs)\n",
    "        \n",
    "        ###### FILL IN\n",
    "        \n",
    "        model.compile(sgd(lr=lr, decay=1e-4, momentum=0.0), \"mse\")\n",
    "        self.model = model"
   ]
  },
  {
   "cell_type": "code",
   "execution_count": null,
   "metadata": {
    "collapsed": true
   },
   "outputs": [],
   "source": [
    "env = Environment(grid_size=size, max_time=T, temperature=0.3)\n",
    "agent = DQN_CNN(size, lr=.1, epsilon = 0.1, memory_size=2000, batch_size = 32)\n",
    "train(agent,env,epochs_train,prefix='cnn_train')\n",
    "HTML(display_videos('cnn_train10.mp4'))"
   ]
  },
  {
   "cell_type": "markdown",
   "metadata": {},
   "source": [
    "***\n",
    "***\n",
    "__Question 9__ Test both algorithms and compare their performances. Which issue(s) do you observe? Observe also different behaviors by changing the temperature."
   ]
  },
  {
   "cell_type": "code",
   "execution_count": null,
   "metadata": {
    "collapsed": true
   },
   "outputs": [],
   "source": [
    "env = Environment(grid_size=size, max_time=T,temperature=0.3)\n",
    "agent_cnn = DQN_CNN(size, lr=.1, epsilon = 0.1, memory_size=2000, batch_size = 32)\n",
    "agent_cnn.load(name_weights='cnn_trainmodel.h5',name_model='cnn_trainmodel.json')\n",
    "\n",
    "agent_fc = DQN_FC(size, lr=.1, epsilon = 0.1, memory_size=2000, batch_size = 32)\n",
    "agent_cnn.load(name_weights='fc_trainmodel.h5',name_model='fc_trainmodel.json')\n",
    "print('Test of the CNN')\n",
    "test(agent_cnn,env,epochs_test,prefix='cnn_test')\n",
    "print('Test of the FC')\n",
    "test(agent_fc,env,epochs_test,prefix='fc_test')"
   ]
  },
  {
   "cell_type": "code",
   "execution_count": null,
   "metadata": {
    "collapsed": true
   },
   "outputs": [],
   "source": [
    "HTML(display_videos('cnn_test10.mp4'))"
   ]
  },
  {
   "cell_type": "code",
   "execution_count": null,
   "metadata": {
    "collapsed": true
   },
   "outputs": [],
   "source": [
    "HTML(display_videos('fc_test10.mp4'))"
   ]
  },
  {
   "cell_type": "markdown",
   "metadata": {},
   "source": []
  },
  {
   "cell_type": "markdown",
   "metadata": {},
   "source": [
    "***\n",
    "\n",
    "The algorithm tends to not explore the map which can be an issue. We propose two ideas in order to encourage exploration:\n",
    "1. Incorporating a decreasing $\\epsilon$-greedy exploration. You can use the method ```set_epsilon```\n",
    "2. Append via the environment a new state that describes if a cell has been visited or not\n",
    "\n",
    "***\n",
    "__Question 10__ Design a new ```train_explore``` function and environment class ```EnvironmentExploring``` to tackle the issue of exploration.\n",
    "\n"
   ]
  },
  {
   "cell_type": "code",
   "execution_count": null,
   "metadata": {
    "collapsed": true
   },
   "outputs": [],
   "source": [
    "def train_explore(agent,env,epoch,prefix=''):\n",
    "    pass\n",
    "        \n",
    "class EnvironmentExploring(object):\n",
    "    def __init__(self, grid_size=10, max_time=500, temperature=0.1):\n",
    "        pass\n",
    "    \n",
    "## use those samples of code:\n",
    "#In train explore:\n",
    "state, reward, game_over = env.act(action, train=True)\n",
    "\n",
    "## In Environment exploring:\n",
    "# You will have to change n_state to 3 because you will use one more layer!\n",
    "reward = 0\n",
    "if train:\n",
    "    reward = -self.malus_position[self.x, self.y]\n",
    "self.malus_position[self.x, self.y] = 0.1\n",
    "\n",
    "reward = reward + self.board[self.x, self.y]\n",
    "# 3 \"feature\" states instead of 2\n",
    "state = np.concatenate((self.malus_position.reshape(self.grid_size, self.grid_size,1),\n",
    "                                self.board.reshape(self.grid_size, self.grid_size,1),\n",
    "                        self.position.reshape(self.grid_size, self.grid_size,1)),axis=2)"
   ]
  },
  {
   "cell_type": "code",
   "execution_count": null,
   "metadata": {
    "collapsed": true
   },
   "outputs": [],
   "source": [
    "# Training\n",
    "env = EnvironmentExploring(grid_size=size, max_time=T, temperature=0.3)\n",
    "agent = DQN_CNN(size, lr=.1, epsilon = 0.1, memory_size=2000, batch_size = 32,n_state=3)\n",
    "train_explore(agent, env, epochs_train, prefix='cnn_train_explore')\n",
    "HTML(display_videos('cnn_train_explore10.mp4'))"
   ]
  },
  {
   "cell_type": "code",
   "execution_count": null,
   "metadata": {
    "collapsed": true
   },
   "outputs": [],
   "source": [
    "# Evaluation\n",
    "test(agent,env,epochs_test,prefix='cnn_test_explore')\n",
    "HTML(display_videos('cnn_test_explore10.mp4'))"
   ]
  },
  {
   "cell_type": "markdown",
   "metadata": {},
   "source": [
    "***\n",
    "***\n",
    "__BONUS question__ Use the expert DQN from the previous question to generate some winning games. Train a model that mimicks its behavior. Compare the performances."
   ]
  },
  {
   "cell_type": "markdown",
   "metadata": {},
   "source": []
  },
  {
   "cell_type": "markdown",
   "metadata": {},
   "source": [
    "***"
   ]
  }
 ],
 "metadata": {
  "kernelspec": {
   "display_name": "Python 3",
   "language": "python",
   "name": "python3"
  },
  "language_info": {
   "codemirror_mode": {
    "name": "ipython",
    "version": 3
   },
   "file_extension": ".py",
   "mimetype": "text/x-python",
   "name": "python",
   "nbconvert_exporter": "python",
   "pygments_lexer": "ipython3",
   "version": "3.6.7"
  }
 },
 "nbformat": 4,
 "nbformat_minor": 2
}
